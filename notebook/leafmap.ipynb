{
 "cells": [
  {
   "cell_type": "code",
   "execution_count": null,
   "id": "25afb4e2",
   "metadata": {},
   "outputs": [],
   "source": [
    "import leafmap\n",
    "import geopandas as gpd"
   ]
  },
  {
   "cell_type": "code",
   "execution_count": null,
   "id": "2f95e5b0",
   "metadata": {},
   "outputs": [],
   "source": [
    "m = leafmap.Map()\n",
    "m"
   ]
  },
  {
   "cell_type": "code",
   "execution_count": null,
   "id": "5334299f",
   "metadata": {},
   "outputs": [],
   "source": [
    "m.clear_controls()"
   ]
  },
  {
   "cell_type": "code",
   "execution_count": null,
   "id": "03dfd34b",
   "metadata": {},
   "outputs": [],
   "source": [
    "m = leafmap.Map(center=(39, -100), zoom=5)\n",
    "\n",
    "m.add_wms_layer(\n",
    "    url=\"https://imagery.nationalmap.gov/arcgis/services/USGSNAIPImagery/ImageServer/WMSServer?\",\n",
    "    layers=\"USGSNAIPImagery\",\n",
    "    name=\"NAIP Natural Color\",\n",
    "    format=\"image/png\",\n",
    "    transparent=True,\n",
    "    attribution=\"USGS\",\n",
    "    shown=True,\n",
    ")\n",
    "\n",
    "m"
   ]
  },
  {
   "cell_type": "code",
   "execution_count": null,
   "id": "5f318280",
   "metadata": {},
   "outputs": [],
   "source": [
    "m = leafmap.Map(center=[40, -100], zoom=4)\n",
    "m.add_basemap(\"Esri.WorldImagery\")\n",
    "url = \"https://www.mrlc.gov/geoserver/mrlc_display/NLCD_2021_Land_Cover_L48/wms?\"\n",
    "m.add_wms_layer(\n",
    "    url=url,\n",
    "    layers=\"NLCD_2021_Land_Cover_L48\",\n",
    "    name=\"NLCD 2021\",\n",
    "    attribution=\"MRLC\",\n",
    "    format=\"image/png\",\n",
    "    shown=True,\n",
    ")\n",
    "m.add_legend(title=\"NLCD Land Cover Type\", builtin_legend=\"NLCD\")\n",
    "m"
   ]
  },
  {
   "cell_type": "code",
   "execution_count": null,
   "id": "128fbb3c",
   "metadata": {},
   "outputs": [],
   "source": [
    "m = leafmap.Map()\n",
    "m.add_basemap(\"OpenTopoMap\")\n",
    "m.add_colormap(\n",
    "    \"terrain\",\n",
    "    label=\"Elevation\",\n",
    "    orientation=\"horizontal\",\n",
    "    vmin=0,\n",
    "    vmax=4000,\n",
    ")\n",
    "m"
   ]
  },
  {
   "cell_type": "code",
   "execution_count": null,
   "id": "f9b92f5e",
   "metadata": {},
   "outputs": [],
   "source": [
    "m = leafmap.Map()\n",
    "location = [40, -100]\n",
    "m.add_marker(location, draggable=True)\n",
    "m"
   ]
  },
  {
   "cell_type": "code",
   "execution_count": null,
   "id": "c54503a8",
   "metadata": {},
   "outputs": [],
   "source": [
    "m = leafmap.Map()\n",
    "m.add_markers(markers=[[40, -100], [45, -110], [50, -120]])\n",
    "m"
   ]
  },
  {
   "cell_type": "code",
   "execution_count": null,
   "id": "7581ea93",
   "metadata": {},
   "outputs": [],
   "source": [
    "m = leafmap.Map()\n",
    "url = \"https://github.com/opengeos/datasets/releases/download/world/world_cities.csv\"\n",
    "m.add_marker_cluster(url, x=\"longitude\", y=\"latitude\", layer_name=\"World cities\")\n",
    "m"
   ]
  },
  {
   "cell_type": "code",
   "execution_count": null,
   "id": "85fb352a",
   "metadata": {},
   "outputs": [],
   "source": [
    "m = leafmap.Map(center=[40, -100], zoom=4)\n",
    "cities = \"https://github.com/opengeos/datasets/releases/download/us/cities.csv\"\n",
    "regions = \"https://github.com/opengeos/datasets/releases/download/us/us_regions.geojson\"\n",
    "m.add_geojson(regions, layer_name=\"US Regions\")\n",
    "m.add_points_from_xy(\n",
    "    cities,\n",
    "    x=\"longitude\",\n",
    "    y=\"latitude\",\n",
    "    color_column=\"region\",\n",
    "    icon_names=[\"gear\", \"map\", \"leaf\", \"globe\"],\n",
    "    spin=True,\n",
    "    add_legend=True,\n",
    ")\n",
    "m"
   ]
  },
  {
   "cell_type": "code",
   "execution_count": null,
   "id": "5f0ea369",
   "metadata": {},
   "outputs": [],
   "source": [
    "m = leafmap.Map(center=[20, 0], zoom=2)\n",
    "data = \"https://github.com/opengeos/datasets/releases/download/vector/cables.geojson\"\n",
    "m.add_vector(data, layer_name=\"Cable lines\", info_mode=\"on_hover\")\n",
    "m"
   ]
  },
  {
   "cell_type": "code",
   "execution_count": null,
   "id": "1fa9fa57",
   "metadata": {},
   "outputs": [],
   "source": [
    "# customize the style of the vector layer\n",
    "m = leafmap.Map(center=[20, 0], zoom=2)\n",
    "data = \"https://github.com/opengeos/datasets/releases/download/vector/cables.geojson\"\n",
    "style= {\"color\": \"yellow\", \"weight\": 2, \"opacity\": 0.5}\n",
    "hover_style = {\"color\": \"red\", \"weight\": 4, \"opacity\": 1}\n",
    "m.add_vector(data, layer_name=\"Cable lines\", info_mode=\"on_hover\", style=style, hover_style=hover_style)\n",
    "m"
   ]
  },
  {
   "cell_type": "code",
   "execution_count": null,
   "id": "33d69153",
   "metadata": {},
   "outputs": [],
   "source": [
    "m = leafmap.Map(center=[20, 0], zoom=2)\n",
    "m.add_basemap(\"CartoDB.DarkMatter\")\n",
    "data = \"https://github.com/opengeos/datasets/releases/download/vector/cables.geojson\"\n",
    "callback = lambda feat: {\"color\": feat[\"properties\"][\"color\"], \"weight\": 3}\n",
    "m.add_vector(data, layer_name=\"Cable lines\", style_callback=callback)\n",
    "m"
   ]
  },
  {
   "cell_type": "code",
   "execution_count": null,
   "id": "c59975ee",
   "metadata": {},
   "outputs": [],
   "source": [
    "m = leafmap.Map()\n",
    "url = \"https://github.com/opengeos/datasets/releases/download/places/nyc_buildings.geojson\"\n",
    "m.add_vector(url, layer_name=\"NYC Buildings\", zoom_to_layer=True)\n",
    "m"
   ]
  },
  {
   "cell_type": "code",
   "execution_count": null,
   "id": "7dfb43cc",
   "metadata": {},
   "outputs": [],
   "source": [
    "m = leafmap.Map()\n",
    "data = \"https://raw.githubusercontent.com/opengeos/leafmap/master/docs/data/countries.geojson\"\n",
    "m.add_data(\n",
    "    data, column=\"POP_EST\", scheme=\"Quantiles\", cmap=\"Blues\", legend_title=\"Population\"\n",
    ")\n",
    "m"
   ]
  },
  {
   "cell_type": "code",
   "execution_count": null,
   "id": "107a4dbb",
   "metadata": {},
   "outputs": [],
   "source": [
    "url = \"https://github.com/opengeos/datasets/releases/download/us/us_states.parquet\"\n",
    "filename = \"states.parquet\"\n",
    "leafmap.download_file(url, filename, quiet=True)"
   ]
  },
  {
   "cell_type": "code",
   "execution_count": null,
   "id": "9ec0bc09",
   "metadata": {},
   "outputs": [],
   "source": [
    "import geopandas as gpd\n",
    "gdf=gpd.read_parquet(\"states.parquet\")\n",
    "gdf.head()"
   ]
  },
  {
   "cell_type": "code",
   "execution_count": null,
   "id": "f67de687",
   "metadata": {},
   "outputs": [],
   "source": [
    "gdf.explore()"
   ]
  },
  {
   "cell_type": "code",
   "execution_count": null,
   "id": "b61dc8ae",
   "metadata": {},
   "outputs": [],
   "source": [
    "import geopandas as gpd"
   ]
  },
  {
   "cell_type": "code",
   "execution_count": null,
   "id": "425268ad",
   "metadata": {},
   "outputs": [],
   "source": [
    "import leafmap\n",
    "\n",
    "state = \"DC\"   # Change to the US State of your choice\n",
    "url = f\"https://data.source.coop/giswqs/nwi/wetlands/{state}_Wetlands.parquet\"\n",
    "gdf = leafmap.read_parquet(url, return_type='gdf', src_crs='EPSG:5070', dst_crs='EPSG:4326')\n",
    "leafmap.view_vector(gdf, get_fill_color=[0, 0, 255, 128])"
   ]
  },
  {
   "cell_type": "code",
   "execution_count": null,
   "id": "9e36549c",
   "metadata": {},
   "outputs": [],
   "source": [
    "url = \"https://data.source.coop/giswqs/nwi/wetlands/DC_Wetlands.parquet\"\n",
    "filename = \"DC_Wetlands.parquet\"\n",
    "leafmap.download_file(url, filename, quiet=True)"
   ]
  },
  {
   "cell_type": "code",
   "execution_count": null,
   "id": "aea845f7",
   "metadata": {},
   "outputs": [],
   "source": [
    "gdf = gpd.read_parquet(filename)\n",
    "gdf.head()"
   ]
  },
  {
   "cell_type": "code",
   "execution_count": null,
   "id": "44fc919b",
   "metadata": {},
   "outputs": [],
   "source": [
    "m = leafmap.Map()\n",
    "m.add_basemap(\"Satellite\")\n",
    "m.add_nwi(gdf, col_name=\"WETLAND_TYPE\", zoom_to_layer=True)\n",
    "m"
   ]
  },
  {
   "cell_type": "code",
   "execution_count": null,
   "id": "9d8ae056",
   "metadata": {},
   "outputs": [],
   "source": [
    "url = \"https://data.source.coop/vida/google-microsoft-open-buildings/pmtiles/go_ms_building_footprints.pmtiles\""
   ]
  },
  {
   "cell_type": "code",
   "execution_count": null,
   "id": "8ec0e658",
   "metadata": {},
   "outputs": [],
   "source": [
    "m = leafmap.Map(center=[20, 0], zoom=2)\n",
    "m.add_basemap(\"Esri.WorldImagery\", show=False)\n",
    "\n",
    "style = {\n",
    "    \"version\": 8,\n",
    "    \"sources\": {\n",
    "        \"example_source\": {\n",
    "            \"type\": \"vector\",\n",
    "            \"url\": \"pmtiles://\" + url,\n",
    "            \"attribution\": \"PMTiles\",\n",
    "        }\n",
    "    },\n",
    "    \"layers\": [\n",
    "        {\n",
    "            \"id\": \"buildings\",\n",
    "            \"source\": \"example_source\",\n",
    "            \"source-layer\": \"building_footprints\",\n",
    "            \"type\": \"fill\",\n",
    "            \"paint\": {\"fill-color\": \"#3388ff\", \"fill-opacity\": 0.5},\n",
    "        },\n",
    "    ],\n",
    "}\n",
    "\n",
    "m.add_pmtiles(\n",
    "    url, name=\"Buildings\", style=style, overlay=True, show=True, zoom_to_layer=True\n",
    ")\n",
    "\n",
    "m"
   ]
  },
  {
   "cell_type": "code",
   "execution_count": null,
   "id": "620747d5",
   "metadata": {},
   "outputs": [],
   "source": [
    "release = \"2024-09-18\"\n",
    "theme = \"buildings\"\n",
    "url = f\"https://overturemaps-tiles-us-west-2-beta.s3.amazonaws.com/{release}/{theme}.pmtiles\""
   ]
  },
  {
   "cell_type": "code",
   "execution_count": null,
   "id": "5354e1ff",
   "metadata": {},
   "outputs": [],
   "source": [
    "style = {\n",
    "    \"version\": 8,\n",
    "    \"sources\": {\n",
    "        \"example_source\": {\n",
    "            \"type\": \"vector\",\n",
    "            \"url\": \"pmtiles://\" + url,\n",
    "            \"attribution\": \"PMTiles\",\n",
    "        }\n",
    "    },\n",
    "    \"layers\": [\n",
    "        {\n",
    "            \"id\": \"Building\",\n",
    "            \"source\": \"example_source\",\n",
    "            \"source-layer\": \"building\",\n",
    "            \"type\": \"fill\",\n",
    "            \"paint\": {\n",
    "                \"fill-color\": \"#ffff00\",\n",
    "                \"fill-opacity\": 0.4,\n",
    "                \"fill-outline-color\": \"#ff0000\",\n",
    "            },\n",
    "        },\n",
    "    ],\n",
    "}"
   ]
  },
  {
   "cell_type": "code",
   "execution_count": null,
   "id": "0c5aa827",
   "metadata": {},
   "outputs": [],
   "source": [
    "m = leafmap.Map(center=[47.65350739, -117.59664999], zoom=16)\n",
    "m.add_basemap(\"Satellite\")\n",
    "m.add_pmtiles(url, style=style, layer_name=\"Buildings\", zoom_to_layer=False)\n",
    "m"
   ]
  },
  {
   "cell_type": "code",
   "execution_count": null,
   "id": "b9b35db4",
   "metadata": {},
   "outputs": [],
   "source": [
    "m = leafmap.Map(center=[47.653149, -117.59825], zoom=16)\n",
    "m.add_basemap(\"Satellite\")\n",
    "image1 = \"https://github.com/opengeos/datasets/releases/download/places/wa_building_image.tif\"\n",
    "image2 = \"https://github.com/opengeos/datasets/releases/download/places/wa_building_masks.tif\"\n",
    "m.split_map(\n",
    "    image2,\n",
    "    image1,\n",
    "    left_label=\"Building Masks\",\n",
    "    right_label=\"Aerial Imagery\",\n",
    "    left_args={\"colormap_name\": \"tab20\", \"nodata\": 0, \"opacity\": 0.7},\n",
    ")\n",
    "m"
   ]
  },
  {
   "cell_type": "code",
   "execution_count": null,
   "id": "b6879e0d",
   "metadata": {},
   "outputs": [],
   "source": [
    "m = leafmap.Map(center=[47.653149, -117.59825], zoom=16)\n",
    "m.add_basemap(\"Satellite\")\n",
    "image1 = \"https://github.com/opengeos/datasets/releases/download/places/wa_building_image.tif\"\n",
    "image2 = \"https://github.com/opengeos/datasets/releases/download/places/wa_building_masks.tif\"\n",
    "m.split_map(\n",
    "    image2,\n",
    "    image1,\n",
    "    left_label=\"Building Masks\",\n",
    "    right_label=\"Aerial Imagery\",\n",
    "    left_args={\"colormap_name\": \"tab20\", \"nodata\": 0, \"opacity\": 0.7},\n",
    ")\n",
    "m"
   ]
  },
  {
   "cell_type": "code",
   "execution_count": null,
   "id": "119606f1",
   "metadata": {},
   "outputs": [],
   "source": [
    "url = \"https://github.com/opengeos/datasets/releases/download/raster/nlcd_2021_land_cover_30m.tif\"\n",
    "colormap = {\n",
    "    \"11\": \"#466b9f\",\n",
    "    \"12\": \"#d1def8\",\n",
    "    \"21\": \"#dec5c5\",\n",
    "    \"22\": \"#d99282\",\n",
    "    \"23\": \"#eb0000\",\n",
    "    \"24\": \"#ab0000\",\n",
    "    \"31\": \"#b3ac9f\",\n",
    "    \"41\": \"#68ab5f\",\n",
    "    \"42\": \"#1c5f2c\",\n",
    "    \"43\": \"#b5c58f\",\n",
    "    \"51\": \"#af963c\",\n",
    "    \"52\": \"#ccb879\",\n",
    "    \"71\": \"#dfdfc2\",\n",
    "    \"72\": \"#d1d182\",\n",
    "    \"73\": \"#a3cc51\",\n",
    "    \"74\": \"#82ba9e\",\n",
    "    \"81\": \"#dcd939\",\n",
    "    \"82\": \"#ab6c28\",\n",
    "    \"90\": \"#b8d9eb\",\n",
    "    \"95\": \"#6c9fb8\",\n",
    "}\n",
    "m = leafmap.Map(center=[40, -100], zoom=4, height=\"650px\")\n",
    "m.add_basemap(\"Satellite\")\n",
    "m.add_cog_layer(url, colormap=colormap, name=\"NLCD Land Cover\", nodata=0)\n",
    "m.add_legend(title=\"NLCD Land Cover Type\", builtin_legend=\"NLCD\")\n",
    "m.add_layer_manager()\n",
    "m"
   ]
  },
  {
   "cell_type": "code",
   "execution_count": null,
   "id": "fbf4b091",
   "metadata": {},
   "outputs": [],
   "source": [
    "dem_url = \"https://github.com/opengeos/datasets/releases/download/raster/dem_90m.tif\"\n",
    "filename = \"dem_90m.tif\"\n",
    "leafmap.download_file(dem_url, filename, quiet=True)"
   ]
  },
  {
   "cell_type": "code",
   "execution_count": null,
   "id": "a00918cd",
   "metadata": {},
   "outputs": [],
   "source": [
    "m = leafmap.Map()\n",
    "m.add_raster(filename, colormap=\"terrain\", layer_name=\"DEM\")\n",
    "m"
   ]
  },
  {
   "cell_type": "code",
   "execution_count": null,
   "id": "02bdc3fa",
   "metadata": {},
   "outputs": [],
   "source": [
    "url = \"https://canada-spot-ortho.s3.amazonaws.com/canada_spot_orthoimages/canada_spot5_orthoimages/S5_2007/S5_11055_6057_20070622/S5_11055_6057_20070622.json\"\n",
    "leafmap.stac_bands(url)"
   ]
  },
  {
   "cell_type": "code",
   "execution_count": null,
   "id": "053b44f2",
   "metadata": {},
   "outputs": [],
   "source": [
    "m = leafmap.Map(center=[60.95410, -110.90184], zoom=10)\n",
    "m.add_stac_layer(url, bands=[\"pan\"], name=\"Panchromatic\")\n",
    "m.add_stac_layer(url, bands=[\"B3\", \"B2\", \"B1\"], name=\"False color\")\n",
    "m"
   ]
  },
  {
   "cell_type": "code",
   "execution_count": 1,
   "id": "662cc146",
   "metadata": {},
   "outputs": [],
   "source": [
    "import leafmap"
   ]
  },
  {
   "cell_type": "code",
   "execution_count": null,
   "id": "b94f4892",
   "metadata": {},
   "outputs": [
    {
     "data": {
      "application/vnd.jupyter.widget-view+json": {
       "model_id": "361466157b5c482ca0ed9d93c79f5b4f",
       "version_major": 2,
       "version_minor": 0
      },
      "text/plain": [
       "Map(center=[40, -100], controls=(ZoomControl(options=['position', 'zoom_in_text', 'zoom_in_title', 'zoom_out_t…"
      ]
     },
     "execution_count": 4,
     "metadata": {},
     "output_type": "execute_result"
    }
   ],
   "source": [
    "catalogs = {\n",
    "    \"Element84 Earth Search\": \"https://earth-search.aws.element84.com/v1\",\n",
    "    \"Microsoft Planetary Computer\": \"https://planetarycomputer.microsoft.com/api/stac/v1\",\n",
    "}\n",
    "m = leafmap.Map(center=[40, -100], zoom=4)\n",
    "m.set_catalog_source(catalogs)\n",
    "m.add_stac_gui()\n",
    "m"
   ]
  },
  {
   "cell_type": "code",
   "execution_count": 6,
   "id": "f4f8ac87",
   "metadata": {},
   "outputs": [],
   "source": [
    "import os"
   ]
  },
  {
   "cell_type": "code",
   "execution_count": 8,
   "id": "6b9a7748",
   "metadata": {},
   "outputs": [
    {
     "data": {
      "text/plain": [
       "['s3://maxar-opendata/events/Kahramanmaras-turkey-earthquake-23/ard/36/120022103023/2023-02-21/104001008314FC00-ms.tif',\n",
       " 's3://maxar-opendata/events/Kahramanmaras-turkey-earthquake-23/ard/36/120022103023/2023-02-21/104001008314FC00-pan.tif',\n",
       " 's3://maxar-opendata/events/Kahramanmaras-turkey-earthquake-23/ard/36/120022103023/2023-02-21/104001008314FC00-visual.tif',\n",
       " 's3://maxar-opendata/events/Kahramanmaras-turkey-earthquake-23/ard/36/120022103032/2023-02-21/104001008314FC00-ms.tif',\n",
       " 's3://maxar-opendata/events/Kahramanmaras-turkey-earthquake-23/ard/36/120022103032/2023-02-21/104001008314FC00-pan.tif',\n",
       " 's3://maxar-opendata/events/Kahramanmaras-turkey-earthquake-23/ard/36/120022103032/2023-02-21/104001008314FC00-visual.tif',\n",
       " 's3://maxar-opendata/events/Kahramanmaras-turkey-earthquake-23/ard/36/120022103033/2023-02-21/104001008314FC00-ms.tif',\n",
       " 's3://maxar-opendata/events/Kahramanmaras-turkey-earthquake-23/ard/36/120022103033/2023-02-21/104001008314FC00-pan.tif',\n",
       " 's3://maxar-opendata/events/Kahramanmaras-turkey-earthquake-23/ard/36/120022103033/2023-02-21/104001008314FC00-visual.tif',\n",
       " 's3://maxar-opendata/events/Kahramanmaras-turkey-earthquake-23/ard/36/120022103122/2023-02-21/104001008314FC00-ms.tif']"
      ]
     },
     "execution_count": 8,
     "metadata": {},
     "output_type": "execute_result"
    }
   ],
   "source": [
    "BUCKET = \"maxar-opendata\"\n",
    "FOLDER = \"events/Kahramanmaras-turkey-earthquake-23/\"\n",
    "items = leafmap.s3_list_objects(BUCKET, FOLDER, ext=\".tif\")\n",
    "items[:10]"
   ]
  },
  {
   "cell_type": "code",
   "execution_count": 13,
   "id": "68bc2ed2",
   "metadata": {},
   "outputs": [
    {
     "data": {
      "application/vnd.jupyter.widget-view+json": {
       "model_id": "5f2b6c808b8946ceb6c878d613a5de8a",
       "version_major": 2,
       "version_minor": 0
      },
      "text/plain": [
       "Map(center=[37.0458025, 35.3333195], controls=(ZoomControl(options=['position', 'zoom_in_text', 'zoom_in_title…"
      ]
     },
     "execution_count": 13,
     "metadata": {},
     "output_type": "execute_result"
    }
   ],
   "source": [
    "src= 's3://maxar-opendata/events/Kahramanmaras-turkey-earthquake-23/ard/36/120022103023/2023-02-21/104001008314FC00-ms.tif'\n",
    "m = leafmap.Map(center=[37.045802, 35.333319], zoom=14)\n",
    "m.add_raster(src, layer_name=\"Maxar\")\n",
    "m\n"
   ]
  },
  {
   "cell_type": "code",
   "execution_count": 11,
   "id": "398b0374",
   "metadata": {},
   "outputs": [],
   "source": [
    "os.environ[\"AWS_REQUEST_PAYER\"] = \"requester\""
   ]
  },
  {
   "cell_type": "code",
   "execution_count": 14,
   "id": "bd6b4d6e",
   "metadata": {},
   "outputs": [
    {
     "data": {
      "application/vnd.jupyter.widget-view+json": {
       "model_id": "9f1248a15b78438b967055690e3127cf",
       "version_major": 2,
       "version_minor": 0
      },
      "text/plain": [
       "Map(center=[34.968757, -84.90623], controls=(ZoomControl(options=['position', 'zoom_in_text', 'zoom_in_title',…"
      ]
     },
     "execution_count": 14,
     "metadata": {},
     "output_type": "execute_result"
    }
   ],
   "source": [
    "m = leafmap.Map(center=[34.979166, -84.920496], zoom=14)\n",
    "m.add_basemap(\"Satellite\")\n",
    "src = \"s3://naip-analytic/tn/2021/60cm/rgbir_cog/34084/m_3408401_ne_16_060_20210404.tif\"\n",
    "m.add_raster(src, layer_name=\"NAIP\")\n",
    "m"
   ]
  },
  {
   "cell_type": "code",
   "execution_count": null,
   "id": "48a4445b",
   "metadata": {},
   "outputs": [],
   "source": []
  }
 ],
 "metadata": {
  "kernelspec": {
   "display_name": "geosptial",
   "language": "python",
   "name": "python3"
  },
  "language_info": {
   "codemirror_mode": {
    "name": "ipython",
    "version": 3
   },
   "file_extension": ".py",
   "mimetype": "text/x-python",
   "name": "python",
   "nbconvert_exporter": "python",
   "pygments_lexer": "ipython3",
   "version": "3.13.5"
  }
 },
 "nbformat": 4,
 "nbformat_minor": 5
}
