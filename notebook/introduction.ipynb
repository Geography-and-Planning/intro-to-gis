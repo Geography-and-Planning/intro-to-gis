{
 "cells": [
  {
   "cell_type": "code",
   "execution_count": null,
   "id": "42b0c0fa",
   "metadata": {},
   "outputs": [],
   "source": []
  }
 ],
 "metadata": {
  "kernelspec": {
   "display_name": "gee",
   "language": "python",
   "name": "python3"
  },
  "language_info": {
   "name": "python",
   "version": "3.12.3"
  }
 },
 "nbformat": 4,
 "nbformat_minor": 5
}
