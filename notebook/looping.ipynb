{
 "cells": [
  {
   "cell_type": "markdown",
   "id": "55869f5a",
   "metadata": {},
   "source": [
    "## Exercises\n",
    "\n",
    "1. Create a list of cities with their coordinates. Write a for loop to print out only the cities that are in the Northern Hemisphere."
   ]
  },
  {
   "cell_type": "code",
   "execution_count": 1,
   "id": "cba16ea0",
   "metadata": {},
   "outputs": [],
   "source": [
    "cities= [(30.47, -97.74), \n",
    "         (40.28, -89.65), \n",
    "         (34.05, -118.25), \n",
    "         (41.87, -87.62), \n",
    "         (37.77, -122.42), \n",
    "         (-34.61, -58.38), \n",
    "         (-22.91, -43.21),]"
   ]
  },
  {
   "cell_type": "code",
   "execution_count": 2,
   "id": "7d346b90",
   "metadata": {},
   "outputs": [
    {
     "name": "stdout",
     "output_type": "stream",
     "text": [
      "City at (30.47, -97.74) is in the Northern Hemisphere.\n",
      "City at (40.28, -89.65) is in the Northern Hemisphere.\n",
      "City at (34.05, -118.25) is in the Northern Hemisphere.\n",
      "City at (41.87, -87.62) is in the Northern Hemisphere.\n",
      "City at (37.77, -122.42) is in the Northern Hemisphere.\n"
     ]
    }
   ],
   "source": [
    "for coord in cities:\n",
    "    lat, lon = coord\n",
    "    if lat > 0:\n",
    "        print(f\"City at {coord} is in the Northern Hemisphere.\")\n",
    "    "
   ]
  },
  {
   "cell_type": "markdown",
   "id": "91105e4d",
   "metadata": {},
   "source": [
    "2. Write a while loop that continues to print the coordinates in a list until a coordinate with a latitude less than 0 is found.\n"
   ]
  },
  {
   "cell_type": "code",
   "execution_count": 3,
   "id": "71721f24",
   "metadata": {},
   "outputs": [
    {
     "name": "stdout",
     "output_type": "stream",
     "text": [
      "Coordinate: (30.47, -97.74)\n",
      "Coordinate: (40.28, -89.65)\n",
      "Coordinate: (34.05, -118.25)\n",
      "Coordinate: (41.87, -87.62)\n",
      "Coordinate: (37.77, -122.42)\n",
      "Found a coordinate with latitude less than 0: (-34.61, -58.38)\n"
     ]
    }
   ],
   "source": [
    "count = 0\n",
    "while count < len(cities):\n",
    "    coord = cities[count]\n",
    "    lat, lon = coord\n",
    "    if lat < 0:\n",
    "        print(f\"Found a coordinate with latitude less than 0: {coord}\")\n",
    "        break\n",
    "    print(f\"Coordinate: {coord}\")\n",
    "    count += 1"
   ]
  },
  {
   "cell_type": "markdown",
   "id": "986ca3b4",
   "metadata": {},
   "source": [
    "3. Create a for loop that iterates through a list of coordinates and prints whether each coordinate is in the Eastern or Western Hemisphere based on the longitude.\n"
   ]
  },
  {
   "cell_type": "code",
   "execution_count": 6,
   "id": "d9b78223",
   "metadata": {},
   "outputs": [],
   "source": [
    "coordinates = [\n",
    "    (40.28, -89.65),\n",
    "    (34.05, -118.25),\n",
    "    (41.87, -87.62),\n",
    "    (37.77, -122.42),\n",
    "    (-34.61, -58.38),\n",
    "    (-22.91, -43.21),\n",
    "    (58.38, 134.41),\n",
    "    (12.34, 56.78),\n",
    "]"
   ]
  },
  {
   "cell_type": "code",
   "execution_count": 7,
   "id": "fc686d8c",
   "metadata": {},
   "outputs": [
    {
     "name": "stdout",
     "output_type": "stream",
     "text": [
      "Western Hemisphere\n",
      "Western Hemisphere\n",
      "Western Hemisphere\n",
      "Western Hemisphere\n",
      "Western Hemisphere\n",
      "Western Hemisphere\n",
      "Eastern Hemisphere\n",
      "Eastern Hemisphere\n"
     ]
    }
   ],
   "source": [
    "for coord in coordinates:\n",
    "    if coord[1] > 0:\n",
    "        quadrant = \"Eastern Hemisphere\"\n",
    "    else:\n",
    "        quadrant = \"Western Hemisphere\"\n",
    "    print(quadrant)"
   ]
  },
  {
   "cell_type": "markdown",
   "id": "a9ddf273",
   "metadata": {},
   "source": [
    "4. Combine a for loop and if statements to count how many coordinates in a list are located in the Southern Hemisphere.\n",
    "5. Write a program that generates random coordinates (latitude and longitude) and prints them until a coordinate with both latitude and longitude greater than 50 is generated."
   ]
  }
 ],
 "metadata": {
  "kernelspec": {
   "display_name": "geoai",
   "language": "python",
   "name": "python3"
  },
  "language_info": {
   "codemirror_mode": {
    "name": "ipython",
    "version": 3
   },
   "file_extension": ".py",
   "mimetype": "text/x-python",
   "name": "python",
   "nbconvert_exporter": "python",
   "pygments_lexer": "ipython3",
   "version": "3.13.5"
  }
 },
 "nbformat": 4,
 "nbformat_minor": 5
}
