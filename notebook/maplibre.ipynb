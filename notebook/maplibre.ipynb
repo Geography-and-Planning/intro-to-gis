{
 "cells": [
  {
   "cell_type": "code",
   "execution_count": 1,
   "id": "616e563b",
   "metadata": {},
   "outputs": [],
   "source": [
    "import leafmap.maplibregl as leafmap"
   ]
  },
  {
   "cell_type": "code",
   "execution_count": 2,
   "id": "4ad965de",
   "metadata": {},
   "outputs": [
    {
     "data": {
      "application/vnd.jupyter.widget-view+json": {
       "model_id": "33b2777a568a45fc8e12cdc9f9d82630",
       "version_major": 2,
       "version_minor": 0
      },
      "text/plain": [
       "Container(children=[Row(children=[Col(children=[Map(calls=[['addControl', ('NavigationControl', {'showCompass'…"
      ]
     },
     "metadata": {},
     "output_type": "display_data"
    }
   ],
   "source": [
    "m = leafmap.Map()\n",
    "m"
   ]
  },
  {
   "cell_type": "code",
   "execution_count": 3,
   "id": "ba128a01",
   "metadata": {},
   "outputs": [
    {
     "data": {
      "application/vnd.jupyter.widget-view+json": {
       "model_id": "2cfd80425b364c5695afb111ab4280cb",
       "version_major": 2,
       "version_minor": 0
      },
      "text/plain": [
       "Container(children=[Row(children=[Col(children=[Map(calls=[['addControl', ('NavigationControl', {'showCompass'…"
      ]
     },
     "metadata": {},
     "output_type": "display_data"
    }
   ],
   "source": [
    "m = leafmap.Map(center=[-100, 40], zoom=3, pitch=60, bearing=0)\n",
    "m"
   ]
  },
  {
   "cell_type": "code",
   "execution_count": 26,
   "id": "9199d2d1",
   "metadata": {},
   "outputs": [
    {
     "data": {
      "application/vnd.jupyter.widget-view+json": {
       "model_id": "2adf45746d6e4528b02a695b8fed5ba6",
       "version_major": 2,
       "version_minor": 0
      },
      "text/plain": [
       "Container(children=[Row(children=[Col(children=[Map(calls=[['addControl', ('NavigationControl', {'showCompass'…"
      ]
     },
     "metadata": {},
     "output_type": "display_data"
    }
   ],
   "source": [
    "m = leafmap.Map(style=\"positron\")\n",
    "m"
   ]
  },
  {
   "cell_type": "code",
   "execution_count": 5,
   "id": "fc02043a",
   "metadata": {},
   "outputs": [
    {
     "data": {
      "application/vnd.jupyter.widget-view+json": {
       "model_id": "16974d1beb0b47d9b368d854c0c0ec0b",
       "version_major": 2,
       "version_minor": 0
      },
      "text/plain": [
       "Container(children=[Row(children=[Col(children=[Map(calls=[['addControl', ('NavigationControl', {'showCompass'…"
      ]
     },
     "metadata": {},
     "output_type": "display_data"
    }
   ],
   "source": [
    "m = leafmap.Map(style=\"liberty\")\n",
    "m"
   ]
  },
  {
   "cell_type": "code",
   "execution_count": 15,
   "id": "f5330c10",
   "metadata": {},
   "outputs": [
    {
     "data": {
      "application/vnd.jupyter.widget-view+json": {
       "model_id": "588d2134cf3146529f150665345ce4f9",
       "version_major": 2,
       "version_minor": 0
      },
      "text/plain": [
       "Container(children=[Row(children=[Col(children=[Map(calls=[['addControl', ('NavigationControl', {'showCompass'…"
      ]
     },
     "metadata": {},
     "output_type": "display_data"
    }
   ],
   "source": [
    "m = leafmap.Map(style=\"background-lightgray\")\n",
    "m"
   ]
  },
  {
   "cell_type": "code",
   "execution_count": 11,
   "id": "f7021c47",
   "metadata": {},
   "outputs": [
    {
     "data": {
      "application/vnd.jupyter.widget-view+json": {
       "model_id": "eecaef19226040379d7b1ee1ba1e3168",
       "version_major": 2,
       "version_minor": 0
      },
      "text/plain": [
       "Container(children=[Row(children=[Col(children=[Map(calls=[['addControl', ('NavigationControl', {'showCompass'…"
      ]
     },
     "metadata": {},
     "output_type": "display_data"
    }
   ],
   "source": [
    "style = \"https://demotiles.maplibre.org/style.json\"\n",
    "m = leafmap.Map(style=style)\n",
    "m"
   ]
  },
  {
   "cell_type": "code",
   "execution_count": 12,
   "id": "825ed51f",
   "metadata": {},
   "outputs": [
    {
     "data": {
      "application/vnd.jupyter.widget-view+json": {
       "model_id": "71c9ea11ad274c9ab2f09c51e6c6364c",
       "version_major": 2,
       "version_minor": 0
      },
      "text/plain": [
       "Container(children=[Row(children=[Col(children=[Map(calls=[['addControl', ('NavigationControl', {'showCompass'…"
      ]
     },
     "metadata": {},
     "output_type": "display_data"
    }
   ],
   "source": [
    "m = leafmap.Map()\n",
    "m.add_control(\"geolocate\", position=\"top-left\")\n",
    "m"
   ]
  },
  {
   "cell_type": "code",
   "execution_count": null,
   "id": "c0db0ab9",
   "metadata": {},
   "outputs": [
    {
     "data": {
      "application/vnd.jupyter.widget-view+json": {
       "model_id": "11c73283e6f44db5bdbaf09e276b012f",
       "version_major": 2,
       "version_minor": 0
      },
      "text/plain": [
       "Container(children=[Row(children=[Col(children=[Map(calls=[['addControl', ('NavigationControl', {'showCompass'…"
      ]
     },
     "metadata": {},
     "output_type": "display_data"
    }
   ],
   "source": [
    "# `controls={}` is used to disable all controls\n",
    "m = leafmap.Map(center=[11.255, 43.77], zoom=13, style=\"positron\", controls={})\n",
    "m.add_control(\"navigation\", position=\"top-left\")\n",
    "m"
   ]
  },
  {
   "cell_type": "code",
   "execution_count": 16,
   "id": "be78af77",
   "metadata": {},
   "outputs": [
    {
     "data": {
      "application/vnd.jupyter.widget-view+json": {
       "model_id": "a7f3ae9f74e7404082befecb80ae7500",
       "version_major": 2,
       "version_minor": 0
      },
      "text/plain": [
       "Container(children=[Row(children=[Col(children=[Map(calls=[['addControl', ('NavigationControl', {'showCompass'…"
      ]
     },
     "metadata": {},
     "output_type": "display_data"
    }
   ],
   "source": [
    "m = leafmap.Map(center=[-100, 40], zoom=3, style=\"positron\")\n",
    "m.add_draw_control(position=\"top-left\")\n",
    "m"
   ]
  },
  {
   "cell_type": "code",
   "execution_count": 17,
   "id": "313f231a",
   "metadata": {},
   "outputs": [],
   "source": [
    "from maplibre.plugins import MapboxDrawControls, MapboxDrawOptions"
   ]
  },
  {
   "cell_type": "code",
   "execution_count": 18,
   "id": "dc883387",
   "metadata": {},
   "outputs": [
    {
     "data": {
      "application/vnd.jupyter.widget-view+json": {
       "model_id": "d4f3953eb5444be09fd891aac3f6a448",
       "version_major": 2,
       "version_minor": 0
      },
      "text/plain": [
       "Container(children=[Row(children=[Col(children=[Map(calls=[['addControl', ('NavigationControl', {'showCompass'…"
      ]
     },
     "metadata": {},
     "output_type": "display_data"
    }
   ],
   "source": [
    "m = leafmap.Map(center=[-100, 40], zoom=3, style=\"positron\")\n",
    "draw_options = MapboxDrawOptions(\n",
    "    display_controls_default=False,\n",
    "    controls=MapboxDrawControls(polygon=True, line_string=True, point=True, trash=True),\n",
    ")\n",
    "m.add_draw_control(draw_options)\n",
    "m"
   ]
  },
  {
   "cell_type": "code",
   "execution_count": 20,
   "id": "4ea09473",
   "metadata": {},
   "outputs": [
    {
     "data": {
      "application/vnd.jupyter.widget-view+json": {
       "model_id": "27e882ac71c34528b6a96dcd5cfeaa9c",
       "version_major": 2,
       "version_minor": 0
      },
      "text/plain": [
       "Container(children=[Row(children=[Col(children=[Map(calls=[['addControl', ('NavigationControl', {'showCompass'…"
      ]
     },
     "metadata": {},
     "output_type": "display_data"
    }
   ],
   "source": [
    "m = leafmap.Map(center=[-100, 40], zoom=3, style=\"positron\")\n",
    "geojson = {\n",
    "    \"type\": \"FeatureCollection\",\n",
    "    \"features\": [\n",
    "        {\n",
    "            \"id\": \"abc\",\n",
    "            \"type\": \"Feature\",\n",
    "            \"properties\": {},\n",
    "            \"geometry\": {\n",
    "                \"coordinates\": [\n",
    "                    [\n",
    "                        [-119.08, 45.95],\n",
    "                        [-119.79, 42.08],\n",
    "                        [-107.28, 41.43],\n",
    "                        [-108.15, 46.44],\n",
    "                        [-119.08, 45.95],\n",
    "                    ]\n",
    "                ],\n",
    "                \"type\": \"Polygon\",\n",
    "            },\n",
    "        },\n",
    "        {\n",
    "            \"id\": \"xyz\",\n",
    "            \"type\": \"Feature\",\n",
    "            \"properties\": {},\n",
    "            \"geometry\": {\n",
    "                \"coordinates\": [\n",
    "                    [\n",
    "                        [-103.87, 38.08],\n",
    "                        [-108.54, 36.44],\n",
    "                        [-106.25, 33.00],\n",
    "                        [-99.91, 31.79],\n",
    "                        [-96.82, 35.48],\n",
    "                        [-98.80, 37.77],\n",
    "                        [-103.87, 38.08],\n",
    "                    ]\n",
    "                ],\n",
    "                \"type\": \"Polygon\",\n",
    "            },\n",
    "        },\n",
    "    ],\n",
    "}\n",
    "m.add_draw_control(position=\"top-left\", geojson=geojson)\n",
    "m"
   ]
  },
  {
   "cell_type": "code",
   "execution_count": 27,
   "id": "71903efe",
   "metadata": {},
   "outputs": [
    {
     "data": {
      "application/vnd.jupyter.widget-view+json": {
       "model_id": "c38b8964aa0942e3bc8874bf4a1b49b5",
       "version_major": 2,
       "version_minor": 0
      },
      "text/plain": [
       "Container(children=[Row(children=[Col(children=[Map(calls=[['addControl', ('NavigationControl', {'showCompass'…"
      ]
     },
     "metadata": {},
     "output_type": "display_data"
    }
   ],
   "source": [
    "m = leafmap.Map()\n",
    "m.add_basemap(\"OpenTopoMap\")\n",
    "m.add_layer_control()\n",
    "m"
   ]
  },
  {
   "cell_type": "code",
   "execution_count": 24,
   "id": "0d93f3fb",
   "metadata": {},
   "outputs": [],
   "source": [
    "m.add_basemap(\"Esri.WorldImagery\")"
   ]
  },
  {
   "cell_type": "code",
   "execution_count": 28,
   "id": "d19c6486",
   "metadata": {},
   "outputs": [
    {
     "data": {
      "application/vnd.jupyter.widget-view+json": {
       "model_id": "55973085d43a43e3b991e841f7841b4b",
       "version_major": 2,
       "version_minor": 0
      },
      "text/plain": [
       "HBox(children=(Dropdown(description='Basemap', options=('Esri.WorldStreetMap', 'Esri.WorldImagery', 'Esri.Worl…"
      ]
     },
     "execution_count": 28,
     "metadata": {},
     "output_type": "execute_result"
    }
   ],
   "source": [
    "m.add_basemap()"
   ]
  },
  {
   "cell_type": "code",
   "execution_count": 29,
   "id": "65d222d9",
   "metadata": {},
   "outputs": [
    {
     "data": {
      "application/vnd.jupyter.widget-view+json": {
       "model_id": "c3855a0062594c74b1211e5c3b5947a5",
       "version_major": 2,
       "version_minor": 0
      },
      "text/plain": [
       "Container(children=[Row(children=[Col(children=[Map(calls=[['addControl', ('NavigationControl', {'showCompass'…"
      ]
     },
     "metadata": {},
     "output_type": "display_data"
    }
   ],
   "source": [
    "m = leafmap.Map()\n",
    "url = \"https://basemap.nationalmap.gov/arcgis/rest/services/USGSTopo/MapServer/tile/{z}/{y}/{x}\"\n",
    "m.add_tile_layer(url, name=\"USGS TOpo\", attribution=\"USGS\", opacity=1.0, visible=True)\n",
    "m"
   ]
  },
  {
   "cell_type": "code",
   "execution_count": 30,
   "id": "48be843e",
   "metadata": {},
   "outputs": [
    {
     "data": {
      "application/vnd.jupyter.widget-view+json": {
       "model_id": "855c76a2e2574c72a354b3eaf465c3ea",
       "version_major": 2,
       "version_minor": 0
      },
      "text/plain": [
       "Container(children=[Row(children=[Col(children=[Map(calls=[['addControl', ('NavigationControl', {'showCompass'…"
      ]
     },
     "metadata": {},
     "output_type": "display_data"
    }
   ],
   "source": [
    "m = leafmap.Map(center=[-74.5447, 40.6892], zoom=8, style=\"liberty\")\n",
    "url = \"https://img.nj.gov/imagerywms/Natural2015\"\n",
    "layers = \"Natural2015\"\n",
    "m.add_wms_layer(url, layers=layers, before_id=\"aeroway_fill\")\n",
    "m.add_layer_control()\n",
    "m"
   ]
  },
  {
   "cell_type": "code",
   "execution_count": 31,
   "id": "2b20d0a5",
   "metadata": {},
   "outputs": [
    {
     "data": {
      "application/vnd.jupyter.widget-view+json": {
       "model_id": "b637f214175b4f6cb834d7715843de09",
       "version_major": 2,
       "version_minor": 0
      },
      "text/plain": [
       "Container(children=[Row(children=[Col(children=[Map(calls=[['addControl', ('NavigationControl', {'showCompass'…"
      ]
     },
     "metadata": {},
     "output_type": "display_data"
    }
   ],
   "source": [
    "m = leafmap.Map(center=[-100.307965, 46.98692], zoom=13, pitch=45, style=\"liberty\")\n",
    "m.add_basemap(\"Esri.WorldImagery\")\n",
    "url = \"https://fwspublicservices.wim.usgs.gov/wetlandsmapservice/services/Wetlands/MapServer/WMSServer\"\n",
    "m.add_wms_layer(url, layers=\"1\", name=\"NWI\", opacity=0.6)\n",
    "m.add_layer_control()\n",
    "m.add_legend(builtin_legend=\"NWI\", title=\"Wetland Type\")\n",
    "m"
   ]
  },
  {
   "cell_type": "code",
   "execution_count": 4,
   "id": "4df696c1",
   "metadata": {},
   "outputs": [],
   "source": [
    "style = {\n",
    "    \"version\": 8,\n",
    "    \"sources\": {\n",
    "        \"raster-tiles\": {\n",
    "            \"type\": \"raster\",\n",
    "            \"tiles\": [\n",
    "                \"https://tiles.stadiamaps.com/tiles/stamen_watercolor/{z}/{x}/{y}.jpg\"\n",
    "            ],\n",
    "            \"tileSize\": 256,\n",
    "            \"attribution\": \"Map tiles by Stamen Design; Hosting by Stadia Maps. Data © OpenStreetMap contributors\",\n",
    "        }\n",
    "    },\n",
    "    \"layers\": [\n",
    "        {\n",
    "            \"id\": \"simple-tiles\",\n",
    "            \"type\": \"raster\",\n",
    "            \"source\": \"raster-tiles\",\n",
    "            \"minzoom\": 0,\n",
    "            \"maxzoom\": 22,\n",
    "        }\n",
    "    ],\n",
    "}"
   ]
  },
  {
   "cell_type": "code",
   "execution_count": 5,
   "id": "5fe7cc78",
   "metadata": {},
   "outputs": [
    {
     "data": {
      "application/vnd.jupyter.widget-view+json": {
       "model_id": "43282c980f3d4adaaf21d1ccb4a05cfe",
       "version_major": 2,
       "version_minor": 0
      },
      "text/plain": [
       "Container(children=[Row(children=[Col(children=[Map(calls=[['addControl', ('NavigationControl', {'showCompass'…"
      ]
     },
     "metadata": {},
     "output_type": "display_data"
    }
   ],
   "source": [
    "m = leafmap.Map(center=[-74.5, 40], zoom=2, style=style)\n",
    "m"
   ]
  },
  {
   "cell_type": "code",
   "execution_count": 6,
   "id": "afb8b060",
   "metadata": {},
   "outputs": [],
   "source": [
    "import os\n",
    "\n",
    "os.environ[\"MAPTILER_KEY\"] = \"\""
   ]
  },
  {
   "cell_type": "code",
   "execution_count": 7,
   "id": "cf8f275f-7ee2-406e-a5a4-5bdc1cf13d37",
   "metadata": {},
   "outputs": [
    {
     "data": {
      "application/vnd.jupyter.widget-view+json": {
       "model_id": "ca8208e9d4c14af2a7377a0c23dc73a6",
       "version_major": 2,
       "version_minor": 0
      },
      "text/plain": [
       "Container(children=[Row(children=[Col(children=[Map(calls=[['addControl', ('NavigationControl', {'showCompass'…"
      ]
     },
     "metadata": {},
     "output_type": "display_data"
    }
   ],
   "source": [
    "m = leafmap.Map(style=\"streets\")\n",
    "m"
   ]
  },
  {
   "cell_type": "code",
   "execution_count": 8,
   "id": "44e87f9f-f24e-42a4-99f9-68b8686de0b3",
   "metadata": {},
   "outputs": [
    {
     "data": {
      "application/vnd.jupyter.widget-view+json": {
       "model_id": "2d0059e36b524803965b1363ed7a03ea",
       "version_major": 2,
       "version_minor": 0
      },
      "text/plain": [
       "Container(children=[Row(children=[Col(children=[Map(calls=[['addControl', ('NavigationControl', {'showCompass'…"
      ]
     },
     "metadata": {},
     "output_type": "display_data"
    }
   ],
   "source": [
    "m = leafmap.Map(style=\"topo\")\n",
    "m"
   ]
  },
  {
   "cell_type": "code",
   "execution_count": 10,
   "id": "0af0fdef-5a68-4248-b948-6f0ccd8f419c",
   "metadata": {},
   "outputs": [
    {
     "data": {
      "application/vnd.jupyter.widget-view+json": {
       "model_id": "75fd7d223ee1492882a8d243d9c0f401",
       "version_major": 2,
       "version_minor": 0
      },
      "text/plain": [
       "Container(children=[Row(children=[Col(children=[Map(calls=[['addControl', ('NavigationControl', {'showCompass'…"
      ]
     },
     "metadata": {},
     "output_type": "display_data"
    }
   ],
   "source": [
    "m = leafmap.Map(style=\"satellite\")\n",
    "m"
   ]
  },
  {
   "cell_type": "code",
   "execution_count": 11,
   "id": "9f71333a-ac78-4639-ad92-3112263cadbc",
   "metadata": {},
   "outputs": [],
   "source": [
    "MAPTILER_KEY = leafmap.get_api_key(\"MAPTILER_KEY\")"
   ]
  },
  {
   "cell_type": "code",
   "execution_count": 13,
   "id": "7908023f-a30a-460e-82b4-70df04bea25f",
   "metadata": {},
   "outputs": [
    {
     "data": {
      "application/vnd.jupyter.widget-view+json": {
       "model_id": "cafb87f2f6f748edb677ac96a641d525",
       "version_major": 2,
       "version_minor": 0
      },
      "text/plain": [
       "Container(children=[Row(children=[Col(children=[Map(calls=[['addControl', ('NavigationControl', {'showCompass'…"
      ]
     },
     "metadata": {},
     "output_type": "display_data"
    }
   ],
   "source": [
    "m = leafmap.Map(center=[-122.447303, 37.753574], zoom=13, style=\"streets\")\n",
    "source = {\n",
    "    \"type\": \"vector\",\n",
    "    \"url\": f\"https://api.maptiler.com/tiles/contours/tiles.json?key={MAPTILER_KEY}\",\n",
    "}\n",
    "layer = {\n",
    "    \"id\": \"terrain-data\",\n",
    "    \"type\": \"line\",\n",
    "    \"source\": \"contours\",\n",
    "    \"source-layer\": \"contour\",\n",
    "    \"layout\": {\"line-join\": \"round\", \"line-cap\": \"round\"},\n",
    "    \"paint\": {\"line-color\": \"#ff69b4\", \"line-width\": 1},\n",
    "}\n",
    "m.add_source(\"contours\", source)\n",
    "m.add_layer(layer)\n",
    "m"
   ]
  },
  {
   "cell_type": "code",
   "execution_count": 14,
   "id": "9aa8b3d7-2e2e-4631-b10b-07d6267323e1",
   "metadata": {},
   "outputs": [
    {
     "data": {
      "application/vnd.jupyter.widget-view+json": {
       "model_id": "b9f38e79417e43c485c3d3f25886e41a",
       "version_major": 2,
       "version_minor": 0
      },
      "text/plain": [
       "Container(children=[Row(children=[Col(children=[Map(calls=[['addControl', ('NavigationControl', {'showCompass'…"
      ]
     },
     "metadata": {},
     "output_type": "display_data"
    }
   ],
   "source": [
    "m = leafmap.Map(\n",
    "    center=[-122.1874314, 46.2022386], zoom=13, pitch=60, bearing=220, style=\"3d-hybrid\"\n",
    ")\n",
    "m.add_layer_control(bg_layers=True)\n",
    "m"
   ]
  },
  {
   "cell_type": "code",
   "execution_count": 15,
   "id": "da7e87e3-1268-4691-b29d-6fe0f416d959",
   "metadata": {},
   "outputs": [
    {
     "data": {
      "application/vnd.jupyter.widget-view+json": {
       "model_id": "4eb70609702b48269d50084712fe0274",
       "version_major": 2,
       "version_minor": 0
      },
      "text/plain": [
       "Container(children=[Row(children=[Col(children=[Map(calls=[['addControl', ('NavigationControl', {'showCompass'…"
      ]
     },
     "metadata": {},
     "output_type": "display_data"
    }
   ],
   "source": [
    "m = leafmap.Map(\n",
    "    center=[-74.0060, 40.7128], zoom=13, pitch=60, bearing=220, style=\"3d-hybrid\"\n",
    ")\n",
    "m.add_layer_control(bg_layers=True)\n",
    "m"
   ]
  },
  {
   "cell_type": "code",
   "execution_count": 21,
   "id": "a0777808-d21e-429f-98c7-f4410dc30ad5",
   "metadata": {},
   "outputs": [
    {
     "data": {
      "application/vnd.jupyter.widget-view+json": {
       "model_id": "94bd238290ae4021bf93d4c4af5b1817",
       "version_major": 2,
       "version_minor": 0
      },
      "text/plain": [
       "Container(children=[Row(children=[Col(children=[Map(calls=[['addControl', ('NavigationControl', {'showCompass'…"
      ]
     },
     "metadata": {},
     "output_type": "display_data"
    }
   ],
   "source": [
    "m = leafmap.Map(\n",
    "    center=[-122.1874314, 46.2022386],\n",
    "    zoom=13,\n",
    "    pitch=60,\n",
    "    bearing=220,\n",
    "    style=\"3d-landscape\",\n",
    "    exaggeration=1,\n",
    "    hillshade=True,\n",
    ")\n",
    "m.add_layer_control(bg_layers=True)\n",
    "m"
   ]
  },
  {
   "cell_type": "code",
   "execution_count": 22,
   "id": "feffd2c6-1ebc-4ce4-bb41-6c0227944128",
   "metadata": {},
   "outputs": [
    {
     "data": {
      "application/vnd.jupyter.widget-view+json": {
       "model_id": "70c2e8c4686c4936813d2e93f5083d1d",
       "version_major": 2,
       "version_minor": 0
      },
      "text/plain": [
       "Container(children=[Row(children=[Col(children=[Map(calls=[['addControl', ('NavigationControl', {'showCompass'…"
      ]
     },
     "metadata": {},
     "output_type": "display_data"
    }
   ],
   "source": [
    "m = leafmap.Map(style=\"3d-ocean\", exaggeration=1.5, hillshade=True)\n",
    "m.add_layer_control(bg_layers=True)\n",
    "m"
   ]
  },
  {
   "cell_type": "code",
   "execution_count": 23,
   "id": "3645174c-276e-4f1e-ac12-52680d660b1c",
   "metadata": {},
   "outputs": [
    {
     "data": {
      "application/vnd.jupyter.widget-view+json": {
       "model_id": "7a0c8077368f4e2cbbcd8ecd9e450c2a",
       "version_major": 2,
       "version_minor": 0
      },
      "text/plain": [
       "Container(children=[Row(children=[Col(children=[Map(calls=[['addControl', ('NavigationControl', {'showCompass'…"
      ]
     },
     "metadata": {},
     "output_type": "display_data"
    }
   ],
   "source": [
    "m = leafmap.Map(\n",
    "    center=[-74.01201, 40.70473], zoom=16, pitch=60, bearing=35, style=\"basic-v2\"\n",
    ")\n",
    "MAPTILER_KEY = leafmap.get_api_key(\"MAPTILER_KEY\")\n",
    "m.add_basemap(\"Esri.WorldImagery\", visible=False)\n",
    "source = {\n",
    "    \"url\": f\"https://api.maptiler.com/tiles/v3/tiles.json?key={MAPTILER_KEY}\",\n",
    "    \"type\": \"vector\",\n",
    "}\n",
    "\n",
    "layer = {\n",
    "    \"id\": \"3d-buildings\",\n",
    "    \"source\": \"openmaptiles\",\n",
    "    \"source-layer\": \"building\",\n",
    "    \"type\": \"fill-extrusion\",\n",
    "    \"min-zoom\": 15,\n",
    "    \"paint\": {\n",
    "        \"fill-extrusion-color\": [\n",
    "            \"interpolate\",\n",
    "            [\"linear\"],\n",
    "            [\"get\", \"render_height\"],\n",
    "            0,\n",
    "            \"lightgray\",\n",
    "            200,\n",
    "            \"royalblue\",\n",
    "            400,\n",
    "            \"lightblue\",\n",
    "        ],\n",
    "        \"fill-extrusion-height\": [\n",
    "            \"interpolate\",\n",
    "            [\"linear\"],\n",
    "            [\"zoom\"],\n",
    "            15,\n",
    "            0,\n",
    "            16,\n",
    "            [\"get\", \"render_height\"],\n",
    "        ],\n",
    "        \"fill-extrusion-base\": [\n",
    "            \"case\",\n",
    "            [\">=\", [\"get\", \"zoom\"], 16],\n",
    "            [\"get\", \"render_min_height\"],\n",
    "            0,\n",
    "        ],\n",
    "    },\n",
    "}\n",
    "m.add_source(\"openmaptiles\", source)\n",
    "m.add_layer(layer)\n",
    "m.add_layer_control()\n",
    "m"
   ]
  },
  {
   "cell_type": "code",
   "execution_count": 29,
   "id": "937c351d-4c33-4e92-8d8f-4b80c9e9e1d7",
   "metadata": {},
   "outputs": [
    {
     "data": {
      "application/vnd.jupyter.widget-view+json": {
       "model_id": "600608bf2e0b473c8edc31c8c02e4184",
       "version_major": 2,
       "version_minor": 0
      },
      "text/plain": [
       "Container(children=[Row(children=[Col(children=[Map(calls=[['addControl', ('NavigationControl', {'showCompass'…"
      ]
     },
     "metadata": {},
     "output_type": "display_data"
    }
   ],
   "source": [
    "m = leafmap.Map(\n",
    "    center=[-74.01201, 40.70473], zoom=16, pitch=60, bearing=35, style=\"basic-v2\"\n",
    ")\n",
    "m.add_basemap(\"Esri.WorldImagery\", visible=False)\n",
    "m.add_3d_buildings(min_zoom=15)\n",
    "m.add_layer_control()\n",
    "m"
   ]
  },
  {
   "cell_type": "code",
   "execution_count": 31,
   "id": "57457d17-c5b9-4577-a53b-aff98b7e3554",
   "metadata": {},
   "outputs": [],
   "source": [
    "data = \"https://maplibre.org/maplibre-gl-js/docs/assets/indoor-3d-map.geojson\""
   ]
  },
  {
   "cell_type": "code",
   "execution_count": 32,
   "id": "a4ab24fb-a688-4563-90a6-95b6da1f7586",
   "metadata": {},
   "outputs": [
    {
     "data": {
      "text/html": [
       "<div>\n",
       "<style scoped>\n",
       "    .dataframe tbody tr th:only-of-type {\n",
       "        vertical-align: middle;\n",
       "    }\n",
       "\n",
       "    .dataframe tbody tr th {\n",
       "        vertical-align: top;\n",
       "    }\n",
       "\n",
       "    .dataframe thead th {\n",
       "        text-align: right;\n",
       "    }\n",
       "</style>\n",
       "<table border=\"1\" class=\"dataframe\">\n",
       "  <thead>\n",
       "    <tr style=\"text-align: right;\">\n",
       "      <th></th>\n",
       "      <th>id</th>\n",
       "      <th>level</th>\n",
       "      <th>name</th>\n",
       "      <th>height</th>\n",
       "      <th>base_height</th>\n",
       "      <th>color</th>\n",
       "      <th>geometry</th>\n",
       "    </tr>\n",
       "  </thead>\n",
       "  <tbody>\n",
       "    <tr>\n",
       "      <th>0</th>\n",
       "      <td>06e8fa0b3f851e3ae0e1da5fc17e111e</td>\n",
       "      <td>1</td>\n",
       "      <td>Bird Exhibit</td>\n",
       "      <td>0</td>\n",
       "      <td>0</td>\n",
       "      <td>orange</td>\n",
       "      <td>POLYGON ((-87.61831 41.86628, -87.61832 41.866...</td>\n",
       "    </tr>\n",
       "    <tr>\n",
       "      <th>1</th>\n",
       "      <td>08a10ab2bf15c4d14669b588062f7f08</td>\n",
       "      <td>1</td>\n",
       "      <td>Bird Exhibit</td>\n",
       "      <td>40</td>\n",
       "      <td>0</td>\n",
       "      <td>grey</td>\n",
       "      <td>POLYGON ((-87.61781 41.86627, -87.61781 41.866...</td>\n",
       "    </tr>\n",
       "    <tr>\n",
       "      <th>2</th>\n",
       "      <td>09ead44537d94ece576c7bc001c33e53</td>\n",
       "      <td>1</td>\n",
       "      <td>East Hallway</td>\n",
       "      <td>0</td>\n",
       "      <td>0</td>\n",
       "      <td>indigo</td>\n",
       "      <td>POLYGON ((-87.6167 41.86614, -87.61671 41.8663...</td>\n",
       "    </tr>\n",
       "    <tr>\n",
       "      <th>3</th>\n",
       "      <td>12251ebf764b36cf3b8c5ad42e2deb29</td>\n",
       "      <td>1</td>\n",
       "      <td>East Entrance</td>\n",
       "      <td>0</td>\n",
       "      <td>0</td>\n",
       "      <td>violet</td>\n",
       "      <td>POLYGON ((-87.61544 41.86615, -87.61545 41.866...</td>\n",
       "    </tr>\n",
       "    <tr>\n",
       "      <th>4</th>\n",
       "      <td>1ce4f8c186a40b9927006644e27bfd69</td>\n",
       "      <td>1</td>\n",
       "      <td>Under the Earth</td>\n",
       "      <td>0</td>\n",
       "      <td>0</td>\n",
       "      <td>red</td>\n",
       "      <td>POLYGON ((-87.6167 41.86582, -87.6167 41.86612...</td>\n",
       "    </tr>\n",
       "  </tbody>\n",
       "</table>\n",
       "</div>"
      ],
      "text/plain": [
       "                                 id  level             name  height  \\\n",
       "0  06e8fa0b3f851e3ae0e1da5fc17e111e      1     Bird Exhibit       0   \n",
       "1  08a10ab2bf15c4d14669b588062f7f08      1     Bird Exhibit      40   \n",
       "2  09ead44537d94ece576c7bc001c33e53      1     East Hallway       0   \n",
       "3  12251ebf764b36cf3b8c5ad42e2deb29      1    East Entrance       0   \n",
       "4  1ce4f8c186a40b9927006644e27bfd69      1  Under the Earth       0   \n",
       "\n",
       "   base_height   color                                           geometry  \n",
       "0            0  orange  POLYGON ((-87.61831 41.86628, -87.61832 41.866...  \n",
       "1            0    grey  POLYGON ((-87.61781 41.86627, -87.61781 41.866...  \n",
       "2            0  indigo  POLYGON ((-87.6167 41.86614, -87.61671 41.8663...  \n",
       "3            0  violet  POLYGON ((-87.61544 41.86615, -87.61545 41.866...  \n",
       "4            0     red  POLYGON ((-87.6167 41.86582, -87.6167 41.86612...  "
      ]
     },
     "execution_count": 32,
     "metadata": {},
     "output_type": "execute_result"
    }
   ],
   "source": [
    "gdf.head()"
   ]
  },
  {
   "cell_type": "code",
   "execution_count": 33,
   "id": "08cd57d6-db4a-4599-abb6-b2ffd0eeb1c8",
   "metadata": {},
   "outputs": [
    {
     "data": {
      "application/vnd.jupyter.widget-view+json": {
       "model_id": "28370223485e4fd89b2bd696052022a2",
       "version_major": 2,
       "version_minor": 0
      },
      "text/plain": [
       "Container(children=[Row(children=[Col(children=[Map(calls=[['addControl', ('NavigationControl', {'showCompass'…"
      ]
     },
     "metadata": {},
     "output_type": "display_data"
    }
   ],
   "source": [
    "m = leafmap.Map(\n",
    "    center=(-87.61694, 41.86625), zoom=17, pitch=40, bearing=20, style=\"positron\"\n",
    ")\n",
    "m.add_basemap(\"OpenStreetMap.Mapnik\")\n",
    "m.add_geojson(\n",
    "    data,\n",
    "    layer_type=\"fill-extrusion\",\n",
    "    name=\"floorplan\",\n",
    "    paint={\n",
    "        \"fill-extrusion-color\": [\"get\", \"color\"],\n",
    "        \"fill-extrusion-height\": [\"get\", \"height\"],\n",
    "        \"fill-extrusion-base\": [\"get\", \"base_height\"],\n",
    "        \"fill-extrusion-opacity\": 0.5,\n",
    "    },\n",
    ")\n",
    "m.add_layer_control()\n",
    "m"
   ]
  },
  {
   "cell_type": "code",
   "execution_count": 34,
   "id": "dadd9d2d-8ae2-4c36-bb31-d000e7be9182",
   "metadata": {},
   "outputs": [
    {
     "data": {
      "application/vnd.jupyter.widget-view+json": {
       "model_id": "978674028fca4b848d3608865cb3f4c0",
       "version_major": 2,
       "version_minor": 0
      },
      "text/plain": [
       "Container(children=[Row(children=[Col(children=[Map(calls=[['addControl', ('NavigationControl', {'showCompass'…"
      ]
     },
     "metadata": {},
     "output_type": "display_data"
    }
   ],
   "source": [
    "m = leafmap.Map(center=[19.43, 49.49], zoom=3, pitch=60, style=\"basic\")\n",
    "source = {\n",
    "    \"type\": \"geojson\",\n",
    "    \"data\": \"https://docs.maptiler.com/sdk-js/assets/Mean_age_of_women_at_first_marriage_in_2019.geojson\",\n",
    "}\n",
    "m.add_source(\"countries\", source)\n",
    "layer = {\n",
    "    \"id\": \"eu-countries\",\n",
    "    \"source\": \"countries\",\n",
    "    \"type\": \"fill-extrusion\",\n",
    "    \"paint\": {\n",
    "        \"fill-extrusion-color\": [\n",
    "            \"interpolate\",\n",
    "            [\"linear\"],\n",
    "            [\"get\", \"age\"],\n",
    "            23.0,\n",
    "            \"#fff5eb\",\n",
    "            24.0,\n",
    "            \"#fee6ce\",\n",
    "            25.0,\n",
    "            \"#fdd0a2\",\n",
    "            26.0,\n",
    "            \"#fdae6b\",\n",
    "            27.0,\n",
    "            \"#fd8d3c\",\n",
    "            28.0,\n",
    "            \"#f16913\",\n",
    "            29.0,\n",
    "            \"#d94801\",\n",
    "            30.0,\n",
    "            \"#8c2d04\",\n",
    "        ],\n",
    "        \"fill-extrusion-opacity\": 1,\n",
    "        \"fill-extrusion-height\": [\"*\", [\"get\", \"age\"], 5000],\n",
    "    },\n",
    "}\n",
    "first_symbol_layer_id = m.find_first_symbol_layer()[\"id\"]\n",
    "m.add_layer(layer, first_symbol_layer_id)\n",
    "m.add_layer_control()\n",
    "m"
   ]
  },
  {
   "cell_type": "code",
   "execution_count": null,
   "id": "40d9f7e1-641b-4d6a-94a2-84b1d7f47919",
   "metadata": {},
   "outputs": [],
   "source": []
  },
  {
   "cell_type": "code",
   "execution_count": null,
   "id": "78561f21-522a-462d-aa37-c079256b3470",
   "metadata": {},
   "outputs": [],
   "source": []
  }
 ],
 "metadata": {
  "kernelspec": {
   "display_name": "Python 3 (ipykernel)",
   "language": "python",
   "name": "python3"
  },
  "language_info": {
   "codemirror_mode": {
    "name": "ipython",
    "version": 3
   },
   "file_extension": ".py",
   "mimetype": "text/x-python",
   "name": "python",
   "nbconvert_exporter": "python",
   "pygments_lexer": "ipython3",
   "version": "3.12.3"
  }
 },
 "nbformat": 4,
 "nbformat_minor": 5
}
