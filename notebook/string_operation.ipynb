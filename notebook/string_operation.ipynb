{
 "cells": [
  {
   "cell_type": "code",
   "execution_count": 1,
   "id": "42b0c0fa",
   "metadata": {},
   "outputs": [],
   "source": [
    "location_name = \"Mount Everest\""
   ]
  },
  {
   "cell_type": "code",
   "execution_count": 5,
   "id": "acdbb2dc",
   "metadata": {},
   "outputs": [
    {
     "name": "stdout",
     "output_type": "stream",
     "text": [
      "Mount Everest, Nepal10000\n"
     ]
    }
   ],
   "source": [
    "location_name_full = location_name + \", Nepal\" + str(10000)\n",
    "print(location_name_full)"
   ]
  },
  {
   "cell_type": "code",
   "execution_count": 3,
   "id": "a119310b",
   "metadata": {},
   "outputs": [
    {
     "name": "stdout",
     "output_type": "stream",
     "text": [
      "----------\n"
     ]
    }
   ],
   "source": [
    "separator = \"-\" * 10\n",
    "print(separator)"
   ]
  },
  {
   "cell_type": "code",
   "execution_count": 6,
   "id": "1c455d9b",
   "metadata": {},
   "outputs": [
    {
     "name": "stdout",
     "output_type": "stream",
     "text": [
      "SELECT * FROM locations WHERE country = 'Nepal';\n"
     ]
    }
   ],
   "source": [
    "table_name = \"locations\"\n",
    "condition = \"country = 'Nepal'\"\n",
    "sql_query = f\"SELECT * FROM {table_name} WHERE {condition};\"\n",
    "print(sql_query)"
   ]
  },
  {
   "cell_type": "code",
   "execution_count": 7,
   "id": "ad0277a6",
   "metadata": {},
   "outputs": [
    {
     "data": {
      "text/plain": [
       "False"
      ]
     },
     "execution_count": 7,
     "metadata": {},
     "output_type": "execute_result"
    }
   ],
   "source": [
    "location_name.islower()"
   ]
  },
  {
   "cell_type": "code",
   "execution_count": 10,
   "id": "734e46e2",
   "metadata": {},
   "outputs": [],
   "source": [
    "name= [\"Michel Jordan\", \"LeBron James\", \"Kobe Bryant\"]"
   ]
  },
  {
   "cell_type": "code",
   "execution_count": 16,
   "id": "5fa9e59b",
   "metadata": {},
   "outputs": [
    {
     "data": {
      "text/plain": [
       "['J', 'J', 'B']"
      ]
     },
     "execution_count": 16,
     "metadata": {},
     "output_type": "execute_result"
    }
   ],
   "source": [
    "[a.split()[1][0] for a in name]"
   ]
  },
  {
   "cell_type": "code",
   "execution_count": 17,
   "id": "11ab12e9",
   "metadata": {},
   "outputs": [],
   "source": [
    "location_name= \"Knoxville, Knox County, Tennessee, USA\""
   ]
  },
  {
   "cell_type": "code",
   "execution_count": 18,
   "id": "a63a8ef8",
   "metadata": {},
   "outputs": [
    {
     "data": {
      "text/plain": [
       "16"
      ]
     },
     "execution_count": 18,
     "metadata": {},
     "output_type": "execute_result"
    }
   ],
   "source": [
    "location_name.index(\"County\")"
   ]
  },
  {
   "cell_type": "code",
   "execution_count": 19,
   "id": "0d356109",
   "metadata": {},
   "outputs": [
    {
     "data": {
      "text/plain": [
       "'County, Tennessee, USA'"
      ]
     },
     "execution_count": 19,
     "metadata": {},
     "output_type": "execute_result"
    }
   ],
   "source": [
    "location_name[location_name.index(\"County\"):].strip()"
   ]
  },
  {
   "cell_type": "code",
   "execution_count": 20,
   "id": "d9918bd7",
   "metadata": {},
   "outputs": [
    {
     "data": {
      "text/plain": [
       "'Knoxville, Knox'"
      ]
     },
     "execution_count": 20,
     "metadata": {},
     "output_type": "execute_result"
    }
   ],
   "source": [
    "location_name[:location_name.index(\"County\")].strip()"
   ]
  },
  {
   "cell_type": "code",
   "execution_count": null,
   "id": "ce9cf2c5",
   "metadata": {},
   "outputs": [],
   "source": []
  }
 ],
 "metadata": {
  "kernelspec": {
   "display_name": "geoai",
   "language": "python",
   "name": "python3"
  },
  "language_info": {
   "codemirror_mode": {
    "name": "ipython",
    "version": 3
   },
   "file_extension": ".py",
   "mimetype": "text/x-python",
   "name": "python",
   "nbconvert_exporter": "python",
   "pygments_lexer": "ipython3",
   "version": "3.13.5"
  }
 },
 "nbformat": 4,
 "nbformat_minor": 5
}
