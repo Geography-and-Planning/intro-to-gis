{
 "cells": [
  {
   "cell_type": "code",
   "execution_count": 1,
   "id": "42b0c0fa",
   "metadata": {},
   "outputs": [],
   "source": [
    "location_name = \"Mount Everest\""
   ]
  },
  {
   "cell_type": "code",
   "execution_count": 5,
   "id": "acdbb2dc",
   "metadata": {},
   "outputs": [
    {
     "name": "stdout",
     "output_type": "stream",
     "text": [
      "Mount Everest, Nepal10000\n"
     ]
    }
   ],
   "source": [
    "location_name_full = location_name + \", Nepal\" + str(10000)\n",
    "print(location_name_full)"
   ]
  },
  {
   "cell_type": "code",
   "execution_count": 3,
   "id": "a119310b",
   "metadata": {},
   "outputs": [
    {
     "name": "stdout",
     "output_type": "stream",
     "text": [
      "----------\n"
     ]
    }
   ],
   "source": [
    "separator = \"-\" * 10\n",
    "print(separator)"
   ]
  },
  {
   "cell_type": "code",
   "execution_count": 6,
   "id": "1c455d9b",
   "metadata": {},
   "outputs": [
    {
     "name": "stdout",
     "output_type": "stream",
     "text": [
      "SELECT * FROM locations WHERE country = 'Nepal';\n"
     ]
    }
   ],
   "source": [
    "table_name = \"locations\"\n",
    "condition = \"country = 'Nepal'\"\n",
    "sql_query = f\"SELECT * FROM {table_name} WHERE {condition};\"\n",
    "print(sql_query)"
   ]
  },
  {
   "cell_type": "code",
   "execution_count": 7,
   "id": "ad0277a6",
   "metadata": {},
   "outputs": [
    {
     "data": {
      "text/plain": [
       "False"
      ]
     },
     "execution_count": 7,
     "metadata": {},
     "output_type": "execute_result"
    }
   ],
   "source": [
    "location_name.islower()"
   ]
  },
  {
   "cell_type": "code",
   "execution_count": null,
   "id": "734e46e2",
   "metadata": {},
   "outputs": [],
   "source": []
  }
 ],
 "metadata": {
  "kernelspec": {
   "display_name": "geoai",
   "language": "python",
   "name": "python3"
  },
  "language_info": {
   "codemirror_mode": {
    "name": "ipython",
    "version": 3
   },
   "file_extension": ".py",
   "mimetype": "text/x-python",
   "name": "python",
   "nbconvert_exporter": "python",
   "pygments_lexer": "ipython3",
   "version": "3.13.5"
  }
 },
 "nbformat": 4,
 "nbformat_minor": 5
}
