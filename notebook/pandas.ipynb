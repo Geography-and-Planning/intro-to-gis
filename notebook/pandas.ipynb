{
 "cells": [
  {
   "cell_type": "code",
   "execution_count": 1,
   "id": "a4f855ca",
   "metadata": {},
   "outputs": [],
   "source": [
    "import numpy as np\n",
    "import pandas as pd"
   ]
  },
  {
   "cell_type": "code",
   "execution_count": 2,
   "id": "7aad8c9a",
   "metadata": {},
   "outputs": [
    {
     "name": "stdout",
     "output_type": "stream",
     "text": [
      "Pandas Series:\n",
      "0          Tokyo\n",
      "1    Los Angeles\n",
      "2         London\n",
      "Name: City, dtype: object\n",
      "\n"
     ]
    }
   ],
   "source": [
    "city_series = pd.Series([\"Tokyo\", \"Los Angeles\", \"London\"], name=\"City\")\n",
    "print(f\"Pandas Series:\\n{city_series}\\n\")"
   ]
  },
  {
   "cell_type": "code",
   "execution_count": 3,
   "id": "f5ec2478",
   "metadata": {},
   "outputs": [
    {
     "name": "stdout",
     "output_type": "stream",
     "text": [
      "Pandas DataFrame:\n",
      "          City  Latitude  Longitude\n",
      "0        Tokyo   35.6895   139.6917\n",
      "1  Los Angeles   34.0522  -118.2437\n",
      "2       London   51.5074    -0.1278\n"
     ]
    }
   ],
   "source": [
    "data = {\n",
    "    \"City\": [\"Tokyo\", \"Los Angeles\", \"London\"],\n",
    "    \"Latitude\": [35.6895, 34.0522, 51.5074],\n",
    "    \"Longitude\": [139.6917, -118.2437, -0.1278],\n",
    "}\n",
    "df = pd.DataFrame(data)\n",
    "print(f\"Pandas DataFrame:\\n{df}\")"
   ]
  },
  {
   "cell_type": "code",
   "execution_count": 4,
   "id": "55eed0a1",
   "metadata": {},
   "outputs": [
    {
     "data": {
      "text/html": [
       "<div>\n",
       "<style scoped>\n",
       "    .dataframe tbody tr th:only-of-type {\n",
       "        vertical-align: middle;\n",
       "    }\n",
       "\n",
       "    .dataframe tbody tr th {\n",
       "        vertical-align: top;\n",
       "    }\n",
       "\n",
       "    .dataframe thead th {\n",
       "        text-align: right;\n",
       "    }\n",
       "</style>\n",
       "<table border=\"1\" class=\"dataframe\">\n",
       "  <thead>\n",
       "    <tr style=\"text-align: right;\">\n",
       "      <th></th>\n",
       "      <th>City</th>\n",
       "      <th>Latitude</th>\n",
       "      <th>Longitude</th>\n",
       "    </tr>\n",
       "  </thead>\n",
       "  <tbody>\n",
       "    <tr>\n",
       "      <th>0</th>\n",
       "      <td>Tokyo</td>\n",
       "      <td>35.6895</td>\n",
       "      <td>139.6917</td>\n",
       "    </tr>\n",
       "    <tr>\n",
       "      <th>1</th>\n",
       "      <td>Los Angeles</td>\n",
       "      <td>34.0522</td>\n",
       "      <td>-118.2437</td>\n",
       "    </tr>\n",
       "    <tr>\n",
       "      <th>2</th>\n",
       "      <td>London</td>\n",
       "      <td>51.5074</td>\n",
       "      <td>-0.1278</td>\n",
       "    </tr>\n",
       "  </tbody>\n",
       "</table>\n",
       "</div>"
      ],
      "text/plain": [
       "          City  Latitude  Longitude\n",
       "0        Tokyo   35.6895   139.6917\n",
       "1  Los Angeles   34.0522  -118.2437\n",
       "2       London   51.5074    -0.1278"
      ]
     },
     "execution_count": 4,
     "metadata": {},
     "output_type": "execute_result"
    }
   ],
   "source": [
    "df"
   ]
  },
  {
   "cell_type": "code",
   "execution_count": 5,
   "id": "e17c835c",
   "metadata": {},
   "outputs": [
    {
     "name": "stdout",
     "output_type": "stream",
     "text": [
      "Latitudes:\n",
      "0    35.6895\n",
      "1    34.0522\n",
      "2    51.5074\n",
      "Name: Latitude, dtype: float64\n",
      "\n",
      "Longitudes:\n",
      "0    139.6917\n",
      "1   -118.2437\n",
      "2     -0.1278\n",
      "Name: Longitude, dtype: float64\n",
      "\n"
     ]
    }
   ],
   "source": [
    "latitudes=df[\"Latitude\"]\n",
    "print(f\"Latitudes:\\n{latitudes}\\n\")\n",
    "longitudes=df[\"Longitude\"]\n",
    "print(f\"Longitudes:\\n{longitudes}\\n\")"
   ]
  },
  {
   "cell_type": "code",
   "execution_count": null,
   "id": "4463c1de",
   "metadata": {},
   "outputs": [],
   "source": []
  }
 ],
 "metadata": {
  "kernelspec": {
   "display_name": "geoai",
   "language": "python",
   "name": "python3"
  },
  "language_info": {
   "codemirror_mode": {
    "name": "ipython",
    "version": 3
   },
   "file_extension": ".py",
   "mimetype": "text/x-python",
   "name": "python",
   "nbconvert_exporter": "python",
   "pygments_lexer": "ipython3",
   "version": "3.13.5"
  }
 },
 "nbformat": 4,
 "nbformat_minor": 5
}
