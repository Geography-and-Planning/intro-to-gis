{
 "cells": [
  {
   "cell_type": "code",
   "execution_count": 1,
   "id": "f2432850",
   "metadata": {},
   "outputs": [],
   "source": [
    "import numpy as np"
   ]
  },
  {
   "cell_type": "code",
   "execution_count": 2,
   "id": "9ac345d3",
   "metadata": {},
   "outputs": [
    {
     "name": "stdout",
     "output_type": "stream",
     "text": [
      "1D Array: [1 2 3 4 5]\n"
     ]
    }
   ],
   "source": [
    "arr_1d = np.array([1, 2, 3, 4, 5])\n",
    "print(f\"1D Array: {arr_1d}\")"
   ]
  },
  {
   "cell_type": "code",
   "execution_count": 3,
   "id": "bc51bd46",
   "metadata": {},
   "outputs": [
    {
     "name": "stdout",
     "output_type": "stream",
     "text": [
      "2D Array:\n",
      "[[1 2 3]\n",
      " [4 5 6]]\n"
     ]
    }
   ],
   "source": [
    "arr_2d = np.array([[1, 2, 3], [4, 5, 6]])\n",
    "print(f\"2D Array:\\n{arr_2d}\")"
   ]
  },
  {
   "cell_type": "code",
   "execution_count": 4,
   "id": "d4b71954",
   "metadata": {},
   "outputs": [
    {
     "data": {
      "text/plain": [
       "(2, 3)"
      ]
     },
     "execution_count": 4,
     "metadata": {},
     "output_type": "execute_result"
    }
   ],
   "source": [
    "arr_2d.shape"
   ]
  },
  {
   "cell_type": "code",
   "execution_count": 5,
   "id": "20b3b0c6",
   "metadata": {},
   "outputs": [
    {
     "name": "stdout",
     "output_type": "stream",
     "text": [
      "Zeros Array:\n",
      "[[0. 0. 0.]\n",
      " [0. 0. 0.]]\n"
     ]
    }
   ],
   "source": [
    "zeros= np.zeros((2, 3))\n",
    "print(f\"Zeros Array:\\n{zeros}\")"
   ]
  },
  {
   "cell_type": "code",
   "execution_count": 6,
   "id": "7dd34c5c",
   "metadata": {},
   "outputs": [
    {
     "name": "stdout",
     "output_type": "stream",
     "text": [
      "Ones Array:\n",
      "[[1. 1. 1.]\n",
      " [1. 1. 1.]]\n"
     ]
    }
   ],
   "source": [
    "ones= np.ones((2, 3))\n",
    "print(f\"Ones Array:\\n{ones}\")"
   ]
  },
  {
   "cell_type": "code",
   "execution_count": 7,
   "id": "38b35c38",
   "metadata": {},
   "outputs": [
    {
     "name": "stdout",
     "output_type": "stream",
     "text": [
      "Range Array:\n",
      "[0 2 4 6 8]\n"
     ]
    }
   ],
   "source": [
    "range_arr= np.arange(0,10,2)\n",
    "print(f\"Range Array:\\n{range_arr}\")"
   ]
  },
  {
   "cell_type": "code",
   "execution_count": 8,
   "id": "5c5b6c8b",
   "metadata": {},
   "outputs": [
    {
     "name": "stdout",
     "output_type": "stream",
     "text": [
      "Range Array:\n",
      "[ 1  3  5  7  9 11 13 15 17 19]\n"
     ]
    }
   ],
   "source": [
    "range_array= np.arange(1, 20, 2)\n",
    "print(f\"Range Array:\\n{range_array}\")"
   ]
  },
  {
   "cell_type": "code",
   "execution_count": 9,
   "id": "396ee5bb",
   "metadata": {},
   "outputs": [
    {
     "name": "stdout",
     "output_type": "stream",
     "text": [
      "Sum of 1D Array with 10: [11 12 13 14 15]\n"
     ]
    }
   ],
   "source": [
    "arr_sum= arr_1d + 10\n",
    "print(f\"Sum of 1D Array with 10: {arr_sum}\")"
   ]
  },
  {
   "cell_type": "code",
   "execution_count": 12,
   "id": "5b1d10f4",
   "metadata": {},
   "outputs": [
    {
     "name": "stdout",
     "output_type": "stream",
     "text": [
      "Modified List: [11, 12, 13, 14, 15]\n"
     ]
    }
   ],
   "source": [
    "#not use numpy\n",
    "nums= [1, 2, 3, 4, 5]\n",
    "for i in range(len(nums)):\n",
    "    nums[i] += 10\n",
    "print(f\"Modified List: {nums}\")"
   ]
  },
  {
   "cell_type": "code",
   "execution_count": 14,
   "id": "fd0dd367",
   "metadata": {},
   "outputs": [
    {
     "data": {
      "text/plain": [
       "[21, 22, 23, 24, 25]"
      ]
     },
     "execution_count": 14,
     "metadata": {},
     "output_type": "execute_result"
    }
   ],
   "source": [
    "[num + 10 for num in nums]"
   ]
  },
  {
   "cell_type": "code",
   "execution_count": 10,
   "id": "5e29070d",
   "metadata": {},
   "outputs": [
    {
     "name": "stdout",
     "output_type": "stream",
     "text": [
      "Product of 1D Array with 2: [ 2  4  6  8 10]\n"
     ]
    }
   ],
   "source": [
    "arr_product = arr_1d * 2\n",
    "print(f\"Product of 1D Array with 2: {arr_product}\")"
   ]
  },
  {
   "cell_type": "code",
   "execution_count": 15,
   "id": "7a264426",
   "metadata": {},
   "outputs": [
    {
     "name": "stdout",
     "output_type": "stream",
     "text": [
      "Product of 2D Array with [1, 2, 3]:\n",
      "[[ 1  4  9]\n",
      " [ 4 10 18]]\n"
     ]
    }
   ],
   "source": [
    "arr_2d_product= arr_2d * np.array([1,2,3])\n",
    "print(f\"Product of 2D Array with [1, 2, 3]:\\n{arr_2d_product}\")"
   ]
  },
  {
   "cell_type": "code",
   "execution_count": 16,
   "id": "6edb99a2",
   "metadata": {},
   "outputs": [
    {
     "name": "stdout",
     "output_type": "stream",
     "text": [
      "Reshaped Array:\n",
      "[[ 0  1  2  3]\n",
      " [ 4  5  6  7]\n",
      " [ 8  9 10 11]]\n"
     ]
    }
   ],
   "source": [
    "arr_reshape= np.arange(12).reshape(3, 4)\n",
    "print(f\"Reshaped Array:\\n{arr_reshape}\")"
   ]
  },
  {
   "cell_type": "code",
   "execution_count": 17,
   "id": "1cdb9f24",
   "metadata": {},
   "outputs": [
    {
     "data": {
      "text/plain": [
       "array([ 0,  1,  2,  3,  4,  5,  6,  7,  8,  9, 10, 11])"
      ]
     },
     "execution_count": 17,
     "metadata": {},
     "output_type": "execute_result"
    }
   ],
   "source": [
    "np.arange(12)"
   ]
  },
  {
   "cell_type": "code",
   "execution_count": 18,
   "id": "86536c3e",
   "metadata": {},
   "outputs": [
    {
     "data": {
      "text/plain": [
       "(3, 4)"
      ]
     },
     "execution_count": 18,
     "metadata": {},
     "output_type": "execute_result"
    }
   ],
   "source": [
    "arr_reshape.shape"
   ]
  },
  {
   "cell_type": "code",
   "execution_count": 19,
   "id": "88c27caf",
   "metadata": {},
   "outputs": [
    {
     "name": "stdout",
     "output_type": "stream",
     "text": [
      "Square Root of 2D Array:\n",
      "[[0.         1.         1.41421356 1.73205081]\n",
      " [2.         2.23606798 2.44948974 2.64575131]\n",
      " [2.82842712 3.         3.16227766 3.31662479]]\n"
     ]
    }
   ],
   "source": [
    "sqrt_arr = np.sqrt(arr_reshape)\n",
    "print(f\"Square Root of 2D Array:\\n{sqrt_arr}\")"
   ]
  },
  {
   "cell_type": "code",
   "execution_count": 21,
   "id": "e7c8285d",
   "metadata": {},
   "outputs": [
    {
     "name": "stdout",
     "output_type": "stream",
     "text": [
      "Logarithm of 2D Array:\n",
      "[[0.         0.69314718 1.09861229 1.38629436]\n",
      " [1.60943791 1.79175947 1.94591015 2.07944154]\n",
      " [2.19722458 2.30258509 2.39789527 2.48490665]]\n"
     ]
    }
   ],
   "source": [
    "log_arr = np.log1p(arr_reshape)\n",
    "print(f\"Logarithm of 2D Array:\\n{log_arr}\")"
   ]
  },
  {
   "cell_type": "code",
   "execution_count": 23,
   "id": "eb822754",
   "metadata": {},
   "outputs": [
    {
     "data": {
      "text/plain": [
       "array([ 1,  2,  3,  4,  5,  6,  7,  8,  9, 10])"
      ]
     },
     "execution_count": 23,
     "metadata": {},
     "output_type": "execute_result"
    }
   ],
   "source": [
    "arr = np.arange(1,11)\n",
    "arr"
   ]
  },
  {
   "cell_type": "code",
   "execution_count": 24,
   "id": "b1eab0ee",
   "metadata": {},
   "outputs": [
    {
     "name": "stdout",
     "output_type": "stream",
     "text": [
      "Mean of Array: 5.5\n"
     ]
    }
   ],
   "source": [
    "mean_val= np.mean(arr)\n",
    "print(f\"Mean of Array: {mean_val}\")"
   ]
  },
  {
   "cell_type": "code",
   "execution_count": 25,
   "id": "3a1928ec",
   "metadata": {},
   "outputs": [
    {
     "data": {
      "text/plain": [
       "np.float64(5.5)"
      ]
     },
     "execution_count": 25,
     "metadata": {},
     "output_type": "execute_result"
    }
   ],
   "source": [
    "np.median(arr)"
   ]
  },
  {
   "cell_type": "code",
   "execution_count": 26,
   "id": "08d70ec0",
   "metadata": {},
   "outputs": [
    {
     "data": {
      "text/plain": [
       "np.float64(2.8722813232690143)"
      ]
     },
     "execution_count": 26,
     "metadata": {},
     "output_type": "execute_result"
    }
   ],
   "source": [
    "np.std(arr)"
   ]
  },
  {
   "cell_type": "code",
   "execution_count": 27,
   "id": "cd28bdcc",
   "metadata": {},
   "outputs": [
    {
     "name": "stdout",
     "output_type": "stream",
     "text": [
      "Random Coordinates:\n",
      "[[ 69.15598765 -49.66740088]\n",
      " [ 22.27797458  71.02591774]\n",
      " [-82.53961243 -15.2367288 ]\n",
      " [-61.23066406  79.27250936]\n",
      " [-89.25103203   9.44787361]\n",
      " [-48.5917129  -60.52641808]\n",
      " [-24.88017275  -9.83542641]\n",
      " [ 83.53212374 -56.25314372]\n",
      " [ 71.69675047 -80.88471541]\n",
      " [-31.34559942 -58.7893485 ]]\n"
     ]
    }
   ],
   "source": [
    "random_coords= np.random.uniform(low= -90, high= 90, size=(10, 2))\n",
    "print(f\"Random Coordinates:\\n{random_coords}\")"
   ]
  },
  {
   "cell_type": "code",
   "execution_count": 30,
   "id": "4b30aac2",
   "metadata": {},
   "outputs": [
    {
     "name": "stdout",
     "output_type": "stream",
     "text": [
      "First Element: 1\n",
      "Last Element: 10\n"
     ]
    }
   ],
   "source": [
    "arr= np.array([1,2,3,4,5,6,7,8,9,10])\n",
    "first_element = arr[0]\n",
    "print(f\"First Element: {first_element}\")\n",
    "last_element = arr[-1]\n",
    "print(f\"Last Element: {last_element}\")"
   ]
  },
  {
   "cell_type": "code",
   "execution_count": 32,
   "id": "ac9cf518",
   "metadata": {},
   "outputs": [
    {
     "data": {
      "text/plain": [
       "array([[1, 2, 3],\n",
       "       [4, 5, 6],\n",
       "       [7, 8, 9]])"
      ]
     },
     "execution_count": 32,
     "metadata": {},
     "output_type": "execute_result"
    }
   ],
   "source": [
    "arr_2d= np.array([[1,2,3],[4,5,6],[7,8,9]])\n",
    "arr_2d"
   ]
  },
  {
   "cell_type": "code",
   "execution_count": 33,
   "id": "9bcb3b9a",
   "metadata": {},
   "outputs": [
    {
     "name": "stdout",
     "output_type": "stream",
     "text": [
      "Element at (1, 2): 6\n"
     ]
    }
   ],
   "source": [
    "element= arr_2d[1, 2]\n",
    "print(f\"Element at (1, 2): {element}\")"
   ]
  },
  {
   "cell_type": "code",
   "execution_count": 34,
   "id": "eb24fc4f",
   "metadata": {},
   "outputs": [
    {
     "name": "stdout",
     "output_type": "stream",
     "text": [
      "Last Element in 2D Array: 9\n"
     ]
    }
   ],
   "source": [
    "element_last= arr_2d[-1, -1]\n",
    "print(f\"Last Element in 2D Array: {element_last}\")"
   ]
  },
  {
   "cell_type": "code",
   "execution_count": 38,
   "id": "e97c994b",
   "metadata": {},
   "outputs": [
    {
     "name": "stdout",
     "output_type": "stream",
     "text": [
      "Sliced Array from the third element to the sixth element: [3 4 5]\n"
     ]
    }
   ],
   "source": [
    "# slicing -get multiple elements from the array\n",
    "arr_slice= arr[2:5]\n",
    "print(f\"Sliced Array from the third element to the sixth element: {arr_slice}\")"
   ]
  },
  {
   "cell_type": "code",
   "execution_count": 39,
   "id": "b39e1514",
   "metadata": {},
   "outputs": [
    {
     "name": "stdout",
     "output_type": "stream",
     "text": [
      "Sliced Array from the third elements to end: [ 3  4  5  6  7  8  9 10]\n"
     ]
    }
   ],
   "source": [
    "arr_slice= arr[2:]\n",
    "print(f\"Sliced Array from the third elements to end: {arr_slice}\")"
   ]
  },
  {
   "cell_type": "code",
   "execution_count": null,
   "id": "d989d1d4",
   "metadata": {},
   "outputs": [],
   "source": []
  },
  {
   "cell_type": "code",
   "execution_count": null,
   "id": "210286b8",
   "metadata": {},
   "outputs": [],
   "source": []
  },
  {
   "cell_type": "code",
   "execution_count": null,
   "id": "c6e7bb7a",
   "metadata": {},
   "outputs": [],
   "source": []
  }
 ],
 "metadata": {
  "kernelspec": {
   "display_name": "geoai",
   "language": "python",
   "name": "python3"
  },
  "language_info": {
   "codemirror_mode": {
    "name": "ipython",
    "version": 3
   },
   "file_extension": ".py",
   "mimetype": "text/x-python",
   "name": "python",
   "nbconvert_exporter": "python",
   "pygments_lexer": "ipython3",
   "version": "3.13.5"
  }
 },
 "nbformat": 4,
 "nbformat_minor": 5
}
