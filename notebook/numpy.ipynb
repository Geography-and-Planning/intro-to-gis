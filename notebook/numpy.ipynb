{
 "cells": [
  {
   "cell_type": "code",
   "execution_count": 1,
   "id": "f2432850",
   "metadata": {},
   "outputs": [],
   "source": [
    "import numpy as np"
   ]
  },
  {
   "cell_type": "code",
   "execution_count": 2,
   "id": "9ac345d3",
   "metadata": {},
   "outputs": [
    {
     "name": "stdout",
     "output_type": "stream",
     "text": [
      "1D Array: [1 2 3 4 5]\n"
     ]
    }
   ],
   "source": [
    "arr_1d = np.array([1, 2, 3, 4, 5])\n",
    "print(f\"1D Array: {arr_1d}\")"
   ]
  },
  {
   "cell_type": "code",
   "execution_count": 3,
   "id": "bc51bd46",
   "metadata": {},
   "outputs": [
    {
     "name": "stdout",
     "output_type": "stream",
     "text": [
      "2D Array:\n",
      "[[1 2 3]\n",
      " [4 5 6]]\n"
     ]
    }
   ],
   "source": [
    "arr_2d = np.array([[1, 2, 3], [4, 5, 6]])\n",
    "print(f\"2D Array:\\n{arr_2d}\")"
   ]
  },
  {
   "cell_type": "code",
   "execution_count": 4,
   "id": "d4b71954",
   "metadata": {},
   "outputs": [
    {
     "data": {
      "text/plain": [
       "(2, 3)"
      ]
     },
     "execution_count": 4,
     "metadata": {},
     "output_type": "execute_result"
    }
   ],
   "source": [
    "arr_2d.shape"
   ]
  },
  {
   "cell_type": "code",
   "execution_count": 5,
   "id": "20b3b0c6",
   "metadata": {},
   "outputs": [
    {
     "name": "stdout",
     "output_type": "stream",
     "text": [
      "Zeros Array:\n",
      "[[0. 0. 0.]\n",
      " [0. 0. 0.]]\n"
     ]
    }
   ],
   "source": [
    "zeros = np.zeros((2, 3))\n",
    "print(f\"Zeros Array:\\n{zeros}\")"
   ]
  },
  {
   "cell_type": "code",
   "execution_count": 6,
   "id": "7dd34c5c",
   "metadata": {},
   "outputs": [
    {
     "name": "stdout",
     "output_type": "stream",
     "text": [
      "Ones Array:\n",
      "[[1. 1. 1.]\n",
      " [1. 1. 1.]]\n"
     ]
    }
   ],
   "source": [
    "ones = np.ones((2, 3))\n",
    "print(f\"Ones Array:\\n{ones}\")"
   ]
  },
  {
   "cell_type": "code",
   "execution_count": 7,
   "id": "38b35c38",
   "metadata": {},
   "outputs": [
    {
     "name": "stdout",
     "output_type": "stream",
     "text": [
      "Range Array:\n",
      "[0 2 4 6 8]\n"
     ]
    }
   ],
   "source": [
    "range_arr = np.arange(0, 10, 2)\n",
    "print(f\"Range Array:\\n{range_arr}\")"
   ]
  },
  {
   "cell_type": "code",
   "execution_count": 8,
   "id": "5c5b6c8b",
   "metadata": {},
   "outputs": [
    {
     "name": "stdout",
     "output_type": "stream",
     "text": [
      "Range Array:\n",
      "[ 1  3  5  7  9 11 13 15 17 19]\n"
     ]
    }
   ],
   "source": [
    "range_array = np.arange(1, 20, 2)\n",
    "print(f\"Range Array:\\n{range_array}\")"
   ]
  },
  {
   "cell_type": "code",
   "execution_count": 9,
   "id": "396ee5bb",
   "metadata": {},
   "outputs": [
    {
     "name": "stdout",
     "output_type": "stream",
     "text": [
      "Sum of 1D Array with 10: [11 12 13 14 15]\n"
     ]
    }
   ],
   "source": [
    "arr_sum = arr_1d + 10\n",
    "print(f\"Sum of 1D Array with 10: {arr_sum}\")"
   ]
  },
  {
   "cell_type": "code",
   "execution_count": 12,
   "id": "5b1d10f4",
   "metadata": {},
   "outputs": [
    {
     "name": "stdout",
     "output_type": "stream",
     "text": [
      "Modified List: [11, 12, 13, 14, 15]\n"
     ]
    }
   ],
   "source": [
    "# not use numpy\n",
    "nums = [1, 2, 3, 4, 5]\n",
    "for i in range(len(nums)):\n",
    "    nums[i] += 10\n",
    "print(f\"Modified List: {nums}\")"
   ]
  },
  {
   "cell_type": "code",
   "execution_count": 14,
   "id": "fd0dd367",
   "metadata": {},
   "outputs": [
    {
     "data": {
      "text/plain": [
       "[21, 22, 23, 24, 25]"
      ]
     },
     "execution_count": 14,
     "metadata": {},
     "output_type": "execute_result"
    }
   ],
   "source": [
    "[num + 10 for num in nums]"
   ]
  },
  {
   "cell_type": "code",
   "execution_count": 10,
   "id": "5e29070d",
   "metadata": {},
   "outputs": [
    {
     "name": "stdout",
     "output_type": "stream",
     "text": [
      "Product of 1D Array with 2: [ 2  4  6  8 10]\n"
     ]
    }
   ],
   "source": [
    "arr_product = arr_1d * 2\n",
    "print(f\"Product of 1D Array with 2: {arr_product}\")"
   ]
  },
  {
   "cell_type": "code",
   "execution_count": 15,
   "id": "7a264426",
   "metadata": {},
   "outputs": [
    {
     "name": "stdout",
     "output_type": "stream",
     "text": [
      "Product of 2D Array with [1, 2, 3]:\n",
      "[[ 1  4  9]\n",
      " [ 4 10 18]]\n"
     ]
    }
   ],
   "source": [
    "arr_2d_product = arr_2d * np.array([1, 2, 3])\n",
    "print(f\"Product of 2D Array with [1, 2, 3]:\\n{arr_2d_product}\")"
   ]
  },
  {
   "cell_type": "code",
   "execution_count": 16,
   "id": "6edb99a2",
   "metadata": {},
   "outputs": [
    {
     "name": "stdout",
     "output_type": "stream",
     "text": [
      "Reshaped Array:\n",
      "[[ 0  1  2  3]\n",
      " [ 4  5  6  7]\n",
      " [ 8  9 10 11]]\n"
     ]
    }
   ],
   "source": [
    "arr_reshape = np.arange(12).reshape(3, 4)\n",
    "print(f\"Reshaped Array:\\n{arr_reshape}\")"
   ]
  },
  {
   "cell_type": "code",
   "execution_count": 17,
   "id": "1cdb9f24",
   "metadata": {},
   "outputs": [
    {
     "data": {
      "text/plain": [
       "array([ 0,  1,  2,  3,  4,  5,  6,  7,  8,  9, 10, 11])"
      ]
     },
     "execution_count": 17,
     "metadata": {},
     "output_type": "execute_result"
    }
   ],
   "source": [
    "np.arange(12)"
   ]
  },
  {
   "cell_type": "code",
   "execution_count": 18,
   "id": "86536c3e",
   "metadata": {},
   "outputs": [
    {
     "data": {
      "text/plain": [
       "(3, 4)"
      ]
     },
     "execution_count": 18,
     "metadata": {},
     "output_type": "execute_result"
    }
   ],
   "source": [
    "arr_reshape.shape"
   ]
  },
  {
   "cell_type": "code",
   "execution_count": 19,
   "id": "88c27caf",
   "metadata": {},
   "outputs": [
    {
     "name": "stdout",
     "output_type": "stream",
     "text": [
      "Square Root of 2D Array:\n",
      "[[0.         1.         1.41421356 1.73205081]\n",
      " [2.         2.23606798 2.44948974 2.64575131]\n",
      " [2.82842712 3.         3.16227766 3.31662479]]\n"
     ]
    }
   ],
   "source": [
    "sqrt_arr = np.sqrt(arr_reshape)\n",
    "print(f\"Square Root of 2D Array:\\n{sqrt_arr}\")"
   ]
  },
  {
   "cell_type": "code",
   "execution_count": 21,
   "id": "e7c8285d",
   "metadata": {},
   "outputs": [
    {
     "name": "stdout",
     "output_type": "stream",
     "text": [
      "Logarithm of 2D Array:\n",
      "[[0.         0.69314718 1.09861229 1.38629436]\n",
      " [1.60943791 1.79175947 1.94591015 2.07944154]\n",
      " [2.19722458 2.30258509 2.39789527 2.48490665]]\n"
     ]
    }
   ],
   "source": [
    "log_arr = np.log1p(arr_reshape)\n",
    "print(f\"Logarithm of 2D Array:\\n{log_arr}\")"
   ]
  },
  {
   "cell_type": "code",
   "execution_count": 23,
   "id": "eb822754",
   "metadata": {},
   "outputs": [
    {
     "data": {
      "text/plain": [
       "array([ 1,  2,  3,  4,  5,  6,  7,  8,  9, 10])"
      ]
     },
     "execution_count": 23,
     "metadata": {},
     "output_type": "execute_result"
    }
   ],
   "source": [
    "arr = np.arange(1, 11)\n",
    "arr"
   ]
  },
  {
   "cell_type": "code",
   "execution_count": 24,
   "id": "b1eab0ee",
   "metadata": {},
   "outputs": [
    {
     "name": "stdout",
     "output_type": "stream",
     "text": [
      "Mean of Array: 5.5\n"
     ]
    }
   ],
   "source": [
    "mean_val = np.mean(arr)\n",
    "print(f\"Mean of Array: {mean_val}\")"
   ]
  },
  {
   "cell_type": "code",
   "execution_count": 25,
   "id": "3a1928ec",
   "metadata": {},
   "outputs": [
    {
     "data": {
      "text/plain": [
       "np.float64(5.5)"
      ]
     },
     "execution_count": 25,
     "metadata": {},
     "output_type": "execute_result"
    }
   ],
   "source": [
    "np.median(arr)"
   ]
  },
  {
   "cell_type": "code",
   "execution_count": 26,
   "id": "08d70ec0",
   "metadata": {},
   "outputs": [
    {
     "data": {
      "text/plain": [
       "np.float64(2.8722813232690143)"
      ]
     },
     "execution_count": 26,
     "metadata": {},
     "output_type": "execute_result"
    }
   ],
   "source": [
    "np.std(arr)"
   ]
  },
  {
   "cell_type": "code",
   "execution_count": 27,
   "id": "cd28bdcc",
   "metadata": {},
   "outputs": [
    {
     "name": "stdout",
     "output_type": "stream",
     "text": [
      "Random Coordinates:\n",
      "[[ 69.15598765 -49.66740088]\n",
      " [ 22.27797458  71.02591774]\n",
      " [-82.53961243 -15.2367288 ]\n",
      " [-61.23066406  79.27250936]\n",
      " [-89.25103203   9.44787361]\n",
      " [-48.5917129  -60.52641808]\n",
      " [-24.88017275  -9.83542641]\n",
      " [ 83.53212374 -56.25314372]\n",
      " [ 71.69675047 -80.88471541]\n",
      " [-31.34559942 -58.7893485 ]]\n"
     ]
    }
   ],
   "source": [
    "random_coords = np.random.uniform(low=-90, high=90, size=(10, 2))\n",
    "print(f\"Random Coordinates:\\n{random_coords}\")"
   ]
  },
  {
   "cell_type": "code",
   "execution_count": 30,
   "id": "4b30aac2",
   "metadata": {},
   "outputs": [
    {
     "name": "stdout",
     "output_type": "stream",
     "text": [
      "First Element: 1\n",
      "Last Element: 10\n"
     ]
    }
   ],
   "source": [
    "arr = np.array([1, 2, 3, 4, 5, 6, 7, 8, 9, 10])\n",
    "first_element = arr[0]\n",
    "print(f\"First Element: {first_element}\")\n",
    "last_element = arr[-1]\n",
    "print(f\"Last Element: {last_element}\")"
   ]
  },
  {
   "cell_type": "code",
   "execution_count": 32,
   "id": "ac9cf518",
   "metadata": {},
   "outputs": [
    {
     "data": {
      "text/plain": [
       "array([[1, 2, 3],\n",
       "       [4, 5, 6],\n",
       "       [7, 8, 9]])"
      ]
     },
     "execution_count": 32,
     "metadata": {},
     "output_type": "execute_result"
    }
   ],
   "source": [
    "arr_2d = np.array([[1, 2, 3], [4, 5, 6], [7, 8, 9]])\n",
    "arr_2d"
   ]
  },
  {
   "cell_type": "code",
   "execution_count": 33,
   "id": "9bcb3b9a",
   "metadata": {},
   "outputs": [
    {
     "name": "stdout",
     "output_type": "stream",
     "text": [
      "Element at (1, 2): 6\n"
     ]
    }
   ],
   "source": [
    "element = arr_2d[1, 2]\n",
    "print(f\"Element at (1, 2): {element}\")"
   ]
  },
  {
   "cell_type": "code",
   "execution_count": 34,
   "id": "eb24fc4f",
   "metadata": {},
   "outputs": [
    {
     "name": "stdout",
     "output_type": "stream",
     "text": [
      "Last Element in 2D Array: 9\n"
     ]
    }
   ],
   "source": [
    "element_last = arr_2d[-1, -1]\n",
    "print(f\"Last Element in 2D Array: {element_last}\")"
   ]
  },
  {
   "cell_type": "code",
   "execution_count": 44,
   "id": "85ad176f",
   "metadata": {},
   "outputs": [
    {
     "data": {
      "text/plain": [
       "array([ 1,  2,  3,  4,  5,  6,  7,  8,  9, 10])"
      ]
     },
     "execution_count": 44,
     "metadata": {},
     "output_type": "execute_result"
    }
   ],
   "source": [
    "arr"
   ]
  },
  {
   "cell_type": "code",
   "execution_count": 45,
   "id": "e97c994b",
   "metadata": {},
   "outputs": [
    {
     "name": "stdout",
     "output_type": "stream",
     "text": [
      "Sliced Array from the third element to the fifth element: [3 4 5]\n"
     ]
    }
   ],
   "source": [
    "# slicing -get multiple elements from the array\n",
    "arr_slice = arr[2:5]\n",
    "print(f\"Sliced Array from the third element to the fifth element: {arr_slice}\")"
   ]
  },
  {
   "cell_type": "code",
   "execution_count": 39,
   "id": "b39e1514",
   "metadata": {},
   "outputs": [
    {
     "name": "stdout",
     "output_type": "stream",
     "text": [
      "Sliced Array from the third elements to end: [ 3  4  5  6  7  8  9 10]\n"
     ]
    }
   ],
   "source": [
    "arr_slice = arr[2:]\n",
    "print(f\"Sliced Array from the third elements to end: {arr_slice}\")"
   ]
  },
  {
   "cell_type": "code",
   "execution_count": null,
   "id": "d989d1d4",
   "metadata": {},
   "outputs": [
    {
     "name": "stdout",
     "output_type": "stream",
     "text": [
      "Sliced Array from the first element to the fourth element: [1 2 3 4]\n"
     ]
    }
   ],
   "source": [
    "arr_slice = arr[:4]\n",
    "print(f\"Sliced Array from the first element to the fourth element: {arr_slice}\")"
   ]
  },
  {
   "cell_type": "code",
   "execution_count": 41,
   "id": "1999e8d5",
   "metadata": {},
   "outputs": [
    {
     "data": {
      "text/plain": [
       "array([[1, 2, 3],\n",
       "       [4, 5, 6],\n",
       "       [7, 8, 9]])"
      ]
     },
     "execution_count": 41,
     "metadata": {},
     "output_type": "execute_result"
    }
   ],
   "source": [
    "arr_2d = np.array([[1, 2, 3], [4, 5, 6], [7, 8, 9]])\n",
    "arr_2d"
   ]
  },
  {
   "cell_type": "code",
   "execution_count": 42,
   "id": "0c0c8caa",
   "metadata": {},
   "outputs": [
    {
     "name": "stdout",
     "output_type": "stream",
     "text": [
      "Sliced 2D array (first two rows):\n",
      "[[1 2 3]\n",
      " [4 5 6]]\n"
     ]
    }
   ],
   "source": [
    "# Slice the first two rows and all columns\n",
    "slice_2d = arr_2d[:2, :]\n",
    "print(f\"Sliced 2D array (first two rows):\\n{slice_2d}\")"
   ]
  },
  {
   "cell_type": "code",
   "execution_count": 43,
   "id": "7de688ad",
   "metadata": {},
   "outputs": [
    {
     "name": "stdout",
     "output_type": "stream",
     "text": [
      "Sliced 2D array (last two rows, first two columns):\n",
      "[[4 5]\n",
      " [7 8]]\n"
     ]
    }
   ],
   "source": [
    "# Slice the last two rows and the first two columns\n",
    "slice_2d_partial = arr_2d[1:, :2]\n",
    "print(f\"Sliced 2D array (last two rows, first two columns):\\n{slice_2d_partial}\")"
   ]
  },
  {
   "cell_type": "code",
   "execution_count": 50,
   "id": "7fd26a44",
   "metadata": {},
   "outputs": [
    {
     "data": {
      "text/plain": [
       "array([[2, 3],\n",
       "       [5, 6]])"
      ]
     },
     "execution_count": 50,
     "metadata": {},
     "output_type": "execute_result"
    }
   ],
   "source": [
    "arr_2d[:2, 1:]"
   ]
  },
  {
   "cell_type": "code",
   "execution_count": 51,
   "id": "950e1027",
   "metadata": {},
   "outputs": [
    {
     "data": {
      "text/plain": [
       "np.int64(5)"
      ]
     },
     "execution_count": 51,
     "metadata": {},
     "output_type": "execute_result"
    }
   ],
   "source": [
    "arr_2d[1, 1]"
   ]
  },
  {
   "cell_type": "code",
   "execution_count": 53,
   "id": "7505bf75",
   "metadata": {},
   "outputs": [
    {
     "data": {
      "text/plain": [
       "array([[7, 8, 9]])"
      ]
     },
     "execution_count": 53,
     "metadata": {},
     "output_type": "execute_result"
    }
   ],
   "source": [
    "arr_2d[2:, :]"
   ]
  },
  {
   "cell_type": "code",
   "execution_count": 54,
   "id": "46bf731d",
   "metadata": {},
   "outputs": [],
   "source": [
    "# Create a 1D array\n",
    "arr = np.array([10, 20, 30, 40, 50])"
   ]
  },
  {
   "cell_type": "code",
   "execution_count": 55,
   "id": "2e417c40",
   "metadata": {},
   "outputs": [
    {
     "name": "stdout",
     "output_type": "stream",
     "text": [
      "Boolean condition: [False False  True  True  True]\n"
     ]
    }
   ],
   "source": [
    "# Boolean condition to select elements greater than 25\n",
    "condition = arr > 25\n",
    "print(f\"Boolean condition: {condition}\")"
   ]
  },
  {
   "cell_type": "code",
   "execution_count": 56,
   "id": "f384345d",
   "metadata": {},
   "outputs": [
    {
     "data": {
      "text/plain": [
       "array([30, 40, 50])"
      ]
     },
     "execution_count": 56,
     "metadata": {},
     "output_type": "execute_result"
    }
   ],
   "source": [
    "arr[condition]"
   ]
  },
  {
   "cell_type": "code",
   "execution_count": 57,
   "id": "7d94f854",
   "metadata": {},
   "outputs": [
    {
     "data": {
      "text/plain": [
       "array([30, 40, 50])"
      ]
     },
     "execution_count": 57,
     "metadata": {},
     "output_type": "execute_result"
    }
   ],
   "source": [
    "arr[arr > 25]"
   ]
  },
  {
   "cell_type": "code",
   "execution_count": 58,
   "id": "71601a79",
   "metadata": {},
   "outputs": [
    {
     "data": {
      "text/plain": [
       "array([10, 20, 30])"
      ]
     },
     "execution_count": 58,
     "metadata": {},
     "output_type": "execute_result"
    }
   ],
   "source": [
    "arr[arr < 35]"
   ]
  },
  {
   "cell_type": "code",
   "execution_count": 59,
   "id": "2720d223",
   "metadata": {},
   "outputs": [
    {
     "data": {
      "text/plain": [
       "array([40, 50])"
      ]
     },
     "execution_count": 59,
     "metadata": {},
     "output_type": "execute_result"
    }
   ],
   "source": [
    "arr[arr > arr.mean()]"
   ]
  },
  {
   "cell_type": "code",
   "execution_count": 60,
   "id": "7a16ca42",
   "metadata": {},
   "outputs": [
    {
     "data": {
      "text/plain": [
       "array([50])"
      ]
     },
     "execution_count": 60,
     "metadata": {},
     "output_type": "execute_result"
    }
   ],
   "source": [
    "arr[arr > arr.mean() + arr.std()]"
   ]
  },
  {
   "cell_type": "code",
   "execution_count": 61,
   "id": "82e8fa62",
   "metadata": {},
   "outputs": [
    {
     "name": "stdout",
     "output_type": "stream",
     "text": [
      "Element: 10\n",
      "Element: 20\n",
      "Element: 30\n",
      "Element: 40\n",
      "Element: 50\n"
     ]
    }
   ],
   "source": [
    "# Create a 1D array\n",
    "arr = np.array([10, 20, 30, 40, 50])\n",
    "\n",
    "# Iterating through the array\n",
    "for element in arr:\n",
    "    print(f\"Element: {element}\")"
   ]
  },
  {
   "cell_type": "code",
   "execution_count": 62,
   "id": "5decca3d",
   "metadata": {},
   "outputs": [
    {
     "name": "stdout",
     "output_type": "stream",
     "text": [
      "Iterating over rows:\n",
      "[1 2 3]\n",
      "[4 5 6]\n",
      "[7 8 9]\n",
      "\n",
      "Iterating over each element:\n",
      "1 2 3 4 5 6 7 8 9 "
     ]
    }
   ],
   "source": [
    "# Create a 2D array\n",
    "arr_2d = np.array([[1, 2, 3], [4, 5, 6], [7, 8, 9]])\n",
    "\n",
    "# Iterating through rows of the 2D array\n",
    "print(\"Iterating over rows:\")\n",
    "for row in arr_2d:\n",
    "    print(row)\n",
    "\n",
    "# Iterating through each element of the 2D array\n",
    "print(\"\\nIterating over each element:\")\n",
    "for row in arr_2d:\n",
    "    for element in row:\n",
    "        print(element, end=\" \")"
   ]
  },
  {
   "cell_type": "code",
   "execution_count": 63,
   "id": "f4adadd9",
   "metadata": {},
   "outputs": [],
   "source": [
    "nums = [10, 20, 30, 40, 50]"
   ]
  },
  {
   "cell_type": "code",
   "execution_count": 65,
   "id": "69b65fe0",
   "metadata": {},
   "outputs": [
    {
     "data": {
      "text/plain": [
       "[10, 20, 35, 40, 50]"
      ]
     },
     "execution_count": 65,
     "metadata": {},
     "output_type": "execute_result"
    }
   ],
   "source": [
    "nums[2] = 35\n",
    "nums"
   ]
  },
  {
   "cell_type": "code",
   "execution_count": null,
   "id": "d9b2d298",
   "metadata": {},
   "outputs": [
    {
     "name": "stdout",
     "output_type": "stream",
     "text": [
      "Modified array: [10 25 30 40 50]\n"
     ]
    }
   ],
   "source": [
    "arr = np.array([10, 20, 30, 40, 50])\n",
    "\n",
    "# Modify the element at index 1\n",
    "arr[1] = 25\n",
    "print(f\"Modified array: {arr}\")"
   ]
  },
  {
   "cell_type": "code",
   "execution_count": 67,
   "id": "1914afa4",
   "metadata": {},
   "outputs": [
    {
     "name": "stdout",
     "output_type": "stream",
     "text": [
      "Modified array with slicing: [10 25 35 45 50]\n"
     ]
    }
   ],
   "source": [
    "# Modify multiple elements using slicing\n",
    "arr[2:4] = [35, 45]\n",
    "print(f\"Modified array with slicing: {arr}\")"
   ]
  },
  {
   "cell_type": "code",
   "execution_count": null,
   "id": "97628d5c",
   "metadata": {},
   "outputs": [
    {
     "name": "stdout",
     "output_type": "stream",
     "text": [
      "Modified array with slicing: [10 25 35 35 50]\n"
     ]
    }
   ],
   "source": [
    "# same value applies for several elements\n",
    "arr[2:4] = [35]\n",
    "print(f\"Modified array with slicing: {arr}\")"
   ]
  },
  {
   "cell_type": "code",
   "execution_count": null,
   "id": "21b36267",
   "metadata": {},
   "outputs": [],
   "source": []
  },
  {
   "cell_type": "code",
   "execution_count": null,
   "id": "2a038c57",
   "metadata": {},
   "outputs": [],
   "source": []
  },
  {
   "cell_type": "code",
   "execution_count": null,
   "id": "84fd46d9",
   "metadata": {},
   "outputs": [],
   "source": []
  },
  {
   "cell_type": "code",
   "execution_count": null,
   "id": "686f8907",
   "metadata": {},
   "outputs": [],
   "source": []
  },
  {
   "cell_type": "code",
   "execution_count": null,
   "id": "0b329c41",
   "metadata": {},
   "outputs": [],
   "source": []
  },
  {
   "cell_type": "code",
   "execution_count": null,
   "id": "73713467",
   "metadata": {},
   "outputs": [],
   "source": []
  },
  {
   "cell_type": "code",
   "execution_count": null,
   "id": "210286b8",
   "metadata": {},
   "outputs": [],
   "source": []
  },
  {
   "cell_type": "code",
   "execution_count": null,
   "id": "c6e7bb7a",
   "metadata": {},
   "outputs": [],
   "source": []
  }
 ],
 "metadata": {
  "kernelspec": {
   "display_name": "geoai",
   "language": "python",
   "name": "python3"
  },
  "language_info": {
   "codemirror_mode": {
    "name": "ipython",
    "version": 3
   },
   "file_extension": ".py",
   "mimetype": "text/x-python",
   "name": "python",
   "nbconvert_exporter": "python",
   "pygments_lexer": "ipython3",
   "version": "3.13.5"
  }
 },
 "nbformat": 4,
 "nbformat_minor": 5
}
