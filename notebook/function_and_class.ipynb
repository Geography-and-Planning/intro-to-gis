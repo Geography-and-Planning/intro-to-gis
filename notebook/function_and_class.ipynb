{
 "cells": [
  {
   "cell_type": "code",
   "execution_count": 2,
   "id": "ea44b150",
   "metadata": {},
   "outputs": [],
   "source": [
    "def add(a,b):\n",
    "    return a + b"
   ]
  },
  {
   "cell_type": "code",
   "execution_count": 3,
   "id": "6c14c606",
   "metadata": {},
   "outputs": [
    {
     "name": "stdout",
     "output_type": "stream",
     "text": [
      "The result of adding 5 and 10 is: 15\n"
     ]
    }
   ],
   "source": [
    "results= add(5, 10)\n",
    "print(f\"The result of adding 5 and 10 is: {results}\")"
   ]
  },
  {
   "cell_type": "code",
   "execution_count": null,
   "id": "a8a408ae",
   "metadata": {},
   "outputs": [
    {
     "name": "stdout",
     "output_type": "stream",
     "text": [
      "20.0\n",
      "20.0\n"
     ]
    }
   ],
   "source": [
    "# * allows users to pass a flexible number of arguments\n",
    "def average(*numbers):\n",
    "    return sum(numbers) / len(numbers)\n",
    "\n",
    "\n",
    "# Example usage\n",
    "print(average(10, 20, 30))  # 20.0\n",
    "print(average(5, 15, 25, 35))"
   ]
  },
  {
   "cell_type": "code",
   "execution_count": 2,
   "id": "cb988a6a",
   "metadata": {},
   "outputs": [],
   "source": [
    "def describe_point(latitude, longitude, **kwargs): # allow flexible keyword arguments\n",
    "    description = f\"Point at ({latitude}, {longitude})\"\n",
    "\n",
    "    # Add optional keyword arguments to the description\n",
    "    for key, value in kwargs.items():\n",
    "        description += f\", {key}: {value}\"\n",
    "\n",
    "    return description"
   ]
  },
  {
   "cell_type": "code",
   "execution_count": 4,
   "id": "b465ae27",
   "metadata": {},
   "outputs": [
    {
     "name": "stdout",
     "output_type": "stream",
     "text": [
      "Point at (35.6895, 139.6917), name: Tokyo, population: 37400000, country: Japan, conten: 777\n"
     ]
    }
   ],
   "source": [
    "print(describe_point(35.6895, 139.6917, name=\"Tokyo\", population=37400000, country=\"Japan\", conten= 777))"
   ]
  },
  {
   "cell_type": "code",
   "execution_count": 5,
   "id": "271ce674",
   "metadata": {},
   "outputs": [],
   "source": [
    "class Point:\n",
    "    def __init__(self, latitude, longitude, name=None):\n",
    "        self.latitude = latitude\n",
    "        self.longitude = longitude\n",
    "        self.name = name\n",
    "# print function __str__ method\n",
    "    def __str__(self):\n",
    "        return f\"{self.name or 'Point'} ({self.latitude}, {self.longitude})\""
   ]
  },
  {
   "cell_type": "code",
   "execution_count": 6,
   "id": "0e2c33b8",
   "metadata": {},
   "outputs": [
    {
     "name": "stdout",
     "output_type": "stream",
     "text": [
      "Los Angeles (34.0522, -118.2437)\n"
     ]
    }
   ],
   "source": [
    "Point1= Point(34.0522, -118.2437, \"Los Angeles\")\n",
    "print(Point1)"
   ]
  },
  {
   "cell_type": "code",
   "execution_count": null,
   "id": "2a1844f0",
   "metadata": {},
   "outputs": [],
   "source": []
  }
 ],
 "metadata": {
  "kernelspec": {
   "display_name": "geoai",
   "language": "python",
   "name": "python3"
  },
  "language_info": {
   "codemirror_mode": {
    "name": "ipython",
    "version": 3
   },
   "file_extension": ".py",
   "mimetype": "text/x-python",
   "name": "python",
   "nbconvert_exporter": "python",
   "pygments_lexer": "ipython3",
   "version": "3.13.5"
  }
 },
 "nbformat": 4,
 "nbformat_minor": 5
}
