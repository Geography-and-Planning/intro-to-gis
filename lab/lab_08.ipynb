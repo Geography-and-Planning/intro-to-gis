{
 "cells": [
  {
   "cell_type": "markdown",
   "metadata": {},
   "source": [
    "# Lab 8\n",
    "\n",
    "[![Open In Colab](https://colab.research.google.com/assets/colab-badge.svg)](https://colab.research.google.com/github/giswqs/geog-312/blob/main/book/labs/lab_08.ipynb)\n",
    "\n",
    "\n",
    "## Overview\n",
    "\n",
    "This lab introduces you to MapLibre, an open-source library for creating highly customizable, interactive 2D and 3D maps in Python. You will gain practical experience using MapLibre in conjunction with the Leafmap library to develop dynamic geospatial visualizations. This lab covers fundamental tasks, such as setting up MapLibre, creating a map, and customizing views, as well as more advanced functionalities, such as overlaying data layers, adding 3D buildings, and adding map elements.\n",
    "\n",
    "\n",
    "\n",
    "## Objectives\n",
    "\n",
    "By completing this lab, you will be able to:\n",
    "\n",
    "1. Set up MapLibre in Python and initialize a basic map.\n",
    "2. Customize map properties, including basemap styles, zoom levels, pitch, and bearing.\n",
    "3. Add interactive controls, such as geolocation, fullscreen, and drawing tools, to enhance user experience.\n",
    "4. Integrate various data layers, such as GeoJSON, XYZ tiles, and WMS layers, to enrich map content.\n",
    "5. Work with 3D visualizations, including extruded buildings, for enhanced spatial representation.\n",
    "6. Add map elements, such as image, text, and GIF, to the map."
   ]
  },
  {
   "cell_type": "markdown",
   "metadata": {},
   "source": [
    "## Exercise 1: Setting up MapLibre and Basic Map Creation  \n",
    "\n",
    "   - Initialize a map centered on a country of your choice with an appropriate zoom level and display it with the `dark-matter` basemap.\n",
    "   - Change the basemap style to `liberty` and display it again.\n",
    "  "
   ]
  },
  {
   "cell_type": "code",
   "execution_count": 1,
   "metadata": {},
   "outputs": [],
   "source": [
    "import leafmap.maplibregl as leafmap"
   ]
  },
  {
   "cell_type": "code",
   "execution_count": 2,
   "metadata": {},
   "outputs": [
    {
     "data": {
      "application/vnd.jupyter.widget-view+json": {
       "model_id": "f38dc94565784ba4aafe020f32203d3d",
       "version_major": 2,
       "version_minor": 0
      },
      "text/plain": [
       "Container(children=[Row(children=[Col(children=[Map(calls=[['addControl', ('NavigationControl', {'showCompass'…"
      ]
     },
     "metadata": {},
     "output_type": "display_data"
    }
   ],
   "source": [
    "m = leafmap.Map(center=[-90, 40], zoom=3, style=\"dark-matter\")\n",
    "m"
   ]
  },
  {
   "cell_type": "code",
   "execution_count": 3,
   "metadata": {},
   "outputs": [
    {
     "data": {
      "application/vnd.jupyter.widget-view+json": {
       "model_id": "127a106f4db741f3a9163e51d92b1328",
       "version_major": 2,
       "version_minor": 0
      },
      "text/plain": [
       "HBox(children=(Dropdown(description='Basemap', options=('Esri.WorldStreetMap', 'Esri.WorldImagery', 'Esri.Worl…"
      ]
     },
     "execution_count": 3,
     "metadata": {},
     "output_type": "execute_result"
    }
   ],
   "source": [
    "m.add_basemap(style=\"liberty\")"
   ]
  },
  {
   "cell_type": "markdown",
   "metadata": {},
   "source": [
    "## Exercise 2: Customizing the Map View  \n",
    "\n",
    "   - Create a 3D map of a city of your choice with an appropriate zoom level, pitch and bearing using the `liberty` basemap.\n",
    "   - Experiment with MapTiler 3D basemap styles, such as `3d-satellite`, `3d-hybrid`, and `3d-topo`, to visualize a location of your choice in different ways. Please set your MapTiler API key as Colab secret and do NOT expose the API key in the notebook."
   ]
  },
  {
   "cell_type": "code",
   "execution_count": 5,
   "metadata": {},
   "outputs": [
    {
     "data": {
      "application/vnd.jupyter.widget-view+json": {
       "model_id": "ab28b434a8494a739ec1d457915e7335",
       "version_major": 2,
       "version_minor": 0
      },
      "text/plain": [
       "Container(children=[Row(children=[Col(children=[Map(calls=[['addControl', ('NavigationControl', {'showCompass'…"
      ]
     },
     "metadata": {},
     "output_type": "display_data"
    }
   ],
   "source": [
    "# New York CIty\n",
    "m = leafmap.Map(\n",
    "    center=[-74.0060, 40.7128], zoom=15, pitch=60, bearing=1, style=\"liberty\"\n",
    ")\n",
    "m"
   ]
  },
  {
   "cell_type": "code",
   "execution_count": 10,
   "metadata": {},
   "outputs": [],
   "source": [
    "MAPTILER_KEY = leafmap.get_api_key(\"MAPTILER_KEY\")\n"
   ]
  },
  {
   "cell_type": "code",
   "execution_count": 8,
   "metadata": {},
   "outputs": [
    {
     "data": {
      "application/vnd.jupyter.widget-view+json": {
       "model_id": "9aeaa9f51ebd4850a3a2a4bb3d3ff783",
       "version_major": 2,
       "version_minor": 0
      },
      "text/plain": [
       "Container(children=[Row(children=[Col(children=[Map(calls=[['addControl', ('NavigationControl', {'showCompass'…"
      ]
     },
     "metadata": {},
     "output_type": "display_data"
    }
   ],
   "source": [
    "m = leafmap.Map(\n",
    "    center=[-74.0060, 40.7128], zoom=13, pitch=60, bearing=220, style=\"3d-hybrid\"\n",
    ")\n",
    "m.add_layer_control(bg_layers=True)\n",
    "m"
   ]
  },
  {
   "cell_type": "code",
   "execution_count": 9,
   "metadata": {},
   "outputs": [
    {
     "data": {
      "application/vnd.jupyter.widget-view+json": {
       "model_id": "65c6fdbcccd343e48aa881eda19b6062",
       "version_major": 2,
       "version_minor": 0
      },
      "text/plain": [
       "Container(children=[Row(children=[Col(children=[Map(calls=[['addControl', ('NavigationControl', {'showCompass'…"
      ]
     },
     "metadata": {},
     "output_type": "display_data"
    }
   ],
   "source": [
    "m = leafmap.Map(\n",
    "    center=[-74.0060, 40.7128], zoom=13, pitch=60, bearing=220, style=\"3d-satellite\"\n",
    ")\n",
    "m.add_layer_control(bg_layers=True)\n",
    "m"
   ]
  },
  {
   "cell_type": "markdown",
   "metadata": {},
   "source": [
    "\n",
    "## Exercise 3: Adding Map Controls  \n",
    "\n",
    "   - Create a map centered on a city of your choice and add the following controls to the map:\n",
    "     - **Geolocate** control positioned at the top left.\n",
    "     - **Fullscreen** control at the top right.\n",
    "     - **Draw** control for adding points, lines, and polygons, positioned at the top left.\n"
   ]
  },
  {
   "cell_type": "code",
   "execution_count": 10,
   "metadata": {},
   "outputs": [
    {
     "data": {
      "application/vnd.jupyter.widget-view+json": {
       "model_id": "9c81b643cb2e4e8f883c25ce30efadb1",
       "version_major": 2,
       "version_minor": 0
      },
      "text/plain": [
       "Container(children=[Row(children=[Col(children=[Map(height='600px', map_options={'attributionControl': False, …"
      ]
     },
     "metadata": {},
     "output_type": "display_data"
    }
   ],
   "source": [
    "m = leafmap.Map(center=[-74.0060, 40.7128], zoom=13, controls={})\n",
    "m"
   ]
  },
  {
   "cell_type": "code",
   "execution_count": 11,
   "metadata": {},
   "outputs": [],
   "source": [
    "m.add_control(\"geolocate\", position=\"top-left\")"
   ]
  },
  {
   "cell_type": "code",
   "execution_count": 12,
   "metadata": {},
   "outputs": [],
   "source": [
    "m.add_draw_control(position=\"top-left\")"
   ]
  },
  {
   "cell_type": "code",
   "execution_count": 13,
   "metadata": {},
   "outputs": [],
   "source": [
    "m.add_control(\"fullscreen\", position=\"top-right\")"
   ]
  },
  {
   "cell_type": "markdown",
   "metadata": {},
   "source": [
    "## Exercise 4: Overlaying Data Layers  \n",
    "\n",
    "   - **GeoJSON Layer**: Create a map and add the following GeoJSON data layers to the map with appropriate styles:\n",
    "     - NYC buildings: https://github.com/opengeos/datasets/releases/download/places/nyc_buildings.geojson\n",
    "     - NYC roads: https://github.com/opengeos/datasets/releases/download/places/nyc_roads.geojson\n",
    "   - **Thematic Raster Layer**: Create a map with a satellite basemap and add the following raster data layer to the map with an appropriate legend:\n",
    "     - National Land Cover Database (NLCD) 2021: https://github.com/opengeos/datasets/releases/download/raster/nlcd_2021_land_cover_90m.tif\n",
    "   - **DEM Layer:** Create a map with a satellite basemap and add the following DEM layer to the map with an appropriate color bar:\n",
    "     - DEM: https://github.com/opengeos/datasets/releases/download/raster/dem.tif\n",
    "   - **WMS Layer**: Create a map and add the ESA WorldCover WMS layer to the map with an appropriate legend:\n",
    "     - url: https://services.terrascope.be/wms/v2\n",
    "     - layers: WORLDCOVER_2021_MAP"
   ]
  },
  {
   "cell_type": "code",
   "execution_count": 20,
   "metadata": {},
   "outputs": [],
   "source": [
    "import geopandas as gpd"
   ]
  },
  {
   "cell_type": "code",
   "execution_count": 22,
   "metadata": {},
   "outputs": [
    {
     "data": {
      "text/html": [
       "<div>\n",
       "<style scoped>\n",
       "    .dataframe tbody tr th:only-of-type {\n",
       "        vertical-align: middle;\n",
       "    }\n",
       "\n",
       "    .dataframe tbody tr th {\n",
       "        vertical-align: top;\n",
       "    }\n",
       "\n",
       "    .dataframe thead th {\n",
       "        text-align: right;\n",
       "    }\n",
       "</style>\n",
       "<table border=\"1\" class=\"dataframe\">\n",
       "  <thead>\n",
       "    <tr style=\"text-align: right;\">\n",
       "      <th></th>\n",
       "      <th>fid</th>\n",
       "      <th>height_MS</th>\n",
       "      <th>height_FM</th>\n",
       "      <th>height_avg</th>\n",
       "      <th>SQMETERS</th>\n",
       "      <th>STATEFP</th>\n",
       "      <th>NAME</th>\n",
       "      <th>geometry</th>\n",
       "    </tr>\n",
       "  </thead>\n",
       "  <tbody>\n",
       "    <tr>\n",
       "      <th>0</th>\n",
       "      <td>2</td>\n",
       "      <td>15.05</td>\n",
       "      <td>23.30</td>\n",
       "      <td>19.18</td>\n",
       "      <td>6365.72</td>\n",
       "      <td>36</td>\n",
       "      <td>New York</td>\n",
       "      <td>POLYGON ((-74.00129 40.71992, -74.00061 40.719...</td>\n",
       "    </tr>\n",
       "    <tr>\n",
       "      <th>1</th>\n",
       "      <td>4</td>\n",
       "      <td>23.62</td>\n",
       "      <td>46.18</td>\n",
       "      <td>34.90</td>\n",
       "      <td>3287.84</td>\n",
       "      <td>36</td>\n",
       "      <td>New York</td>\n",
       "      <td>POLYGON ((-74.0032 40.71654, -74.00265 40.7163...</td>\n",
       "    </tr>\n",
       "    <tr>\n",
       "      <th>2</th>\n",
       "      <td>5</td>\n",
       "      <td>19.98</td>\n",
       "      <td>109.60</td>\n",
       "      <td>64.79</td>\n",
       "      <td>2011.21</td>\n",
       "      <td>36</td>\n",
       "      <td>New York</td>\n",
       "      <td>POLYGON ((-74.01415 40.70324, -74.01342 40.703...</td>\n",
       "    </tr>\n",
       "    <tr>\n",
       "      <th>3</th>\n",
       "      <td>9</td>\n",
       "      <td>18.50</td>\n",
       "      <td>18.18</td>\n",
       "      <td>18.34</td>\n",
       "      <td>3110.32</td>\n",
       "      <td>36</td>\n",
       "      <td>New York</td>\n",
       "      <td>POLYGON ((-73.98974 40.71924, -73.98924 40.720...</td>\n",
       "    </tr>\n",
       "    <tr>\n",
       "      <th>4</th>\n",
       "      <td>34</td>\n",
       "      <td>21.53</td>\n",
       "      <td>32.84</td>\n",
       "      <td>27.18</td>\n",
       "      <td>5240.89</td>\n",
       "      <td>36</td>\n",
       "      <td>New York</td>\n",
       "      <td>POLYGON ((-74.00941 40.72351, -74.00816 40.723...</td>\n",
       "    </tr>\n",
       "    <tr>\n",
       "      <th>...</th>\n",
       "      <td>...</td>\n",
       "      <td>...</td>\n",
       "      <td>...</td>\n",
       "      <td>...</td>\n",
       "      <td>...</td>\n",
       "      <td>...</td>\n",
       "      <td>...</td>\n",
       "      <td>...</td>\n",
       "    </tr>\n",
       "    <tr>\n",
       "      <th>1201</th>\n",
       "      <td>9764</td>\n",
       "      <td>26.54</td>\n",
       "      <td>22.30</td>\n",
       "      <td>24.42</td>\n",
       "      <td>696.24</td>\n",
       "      <td>36</td>\n",
       "      <td>New York</td>\n",
       "      <td>POLYGON ((-73.97463 40.72411, -73.97467 40.724...</td>\n",
       "    </tr>\n",
       "    <tr>\n",
       "      <th>1202</th>\n",
       "      <td>9765</td>\n",
       "      <td>10.44</td>\n",
       "      <td>16.53</td>\n",
       "      <td>13.48</td>\n",
       "      <td>2859.96</td>\n",
       "      <td>36</td>\n",
       "      <td>New York</td>\n",
       "      <td>POLYGON ((-73.98495 40.71911, -73.98436 40.718...</td>\n",
       "    </tr>\n",
       "    <tr>\n",
       "      <th>1203</th>\n",
       "      <td>9766</td>\n",
       "      <td>10.44</td>\n",
       "      <td>13.87</td>\n",
       "      <td>12.16</td>\n",
       "      <td>2859.96</td>\n",
       "      <td>36</td>\n",
       "      <td>New York</td>\n",
       "      <td>POLYGON ((-73.98495 40.71911, -73.98436 40.718...</td>\n",
       "    </tr>\n",
       "    <tr>\n",
       "      <th>1204</th>\n",
       "      <td>9774</td>\n",
       "      <td>13.76</td>\n",
       "      <td>NaN</td>\n",
       "      <td>13.76</td>\n",
       "      <td>1612.84</td>\n",
       "      <td>36</td>\n",
       "      <td>New York</td>\n",
       "      <td>POLYGON ((-73.99154 40.71045, -73.99173 40.710...</td>\n",
       "    </tr>\n",
       "    <tr>\n",
       "      <th>1205</th>\n",
       "      <td>9779</td>\n",
       "      <td>3.03</td>\n",
       "      <td>19.70</td>\n",
       "      <td>11.36</td>\n",
       "      <td>163.44</td>\n",
       "      <td>36</td>\n",
       "      <td>New York</td>\n",
       "      <td>POLYGON ((-74.0034 40.72366, -74.00328 40.7235...</td>\n",
       "    </tr>\n",
       "  </tbody>\n",
       "</table>\n",
       "<p>1206 rows × 8 columns</p>\n",
       "</div>"
      ],
      "text/plain": [
       "       fid  height_MS  height_FM  height_avg  SQMETERS STATEFP      NAME  \\\n",
       "0        2      15.05      23.30       19.18   6365.72      36  New York   \n",
       "1        4      23.62      46.18       34.90   3287.84      36  New York   \n",
       "2        5      19.98     109.60       64.79   2011.21      36  New York   \n",
       "3        9      18.50      18.18       18.34   3110.32      36  New York   \n",
       "4       34      21.53      32.84       27.18   5240.89      36  New York   \n",
       "...    ...        ...        ...         ...       ...     ...       ...   \n",
       "1201  9764      26.54      22.30       24.42    696.24      36  New York   \n",
       "1202  9765      10.44      16.53       13.48   2859.96      36  New York   \n",
       "1203  9766      10.44      13.87       12.16   2859.96      36  New York   \n",
       "1204  9774      13.76        NaN       13.76   1612.84      36  New York   \n",
       "1205  9779       3.03      19.70       11.36    163.44      36  New York   \n",
       "\n",
       "                                               geometry  \n",
       "0     POLYGON ((-74.00129 40.71992, -74.00061 40.719...  \n",
       "1     POLYGON ((-74.0032 40.71654, -74.00265 40.7163...  \n",
       "2     POLYGON ((-74.01415 40.70324, -74.01342 40.703...  \n",
       "3     POLYGON ((-73.98974 40.71924, -73.98924 40.720...  \n",
       "4     POLYGON ((-74.00941 40.72351, -74.00816 40.723...  \n",
       "...                                                 ...  \n",
       "1201  POLYGON ((-73.97463 40.72411, -73.97467 40.724...  \n",
       "1202  POLYGON ((-73.98495 40.71911, -73.98436 40.718...  \n",
       "1203  POLYGON ((-73.98495 40.71911, -73.98436 40.718...  \n",
       "1204  POLYGON ((-73.99154 40.71045, -73.99173 40.710...  \n",
       "1205  POLYGON ((-74.0034 40.72366, -74.00328 40.7235...  \n",
       "\n",
       "[1206 rows x 8 columns]"
      ]
     },
     "execution_count": 22,
     "metadata": {},
     "output_type": "execute_result"
    }
   ],
   "source": [
    "gdf= gpd.read_file(buildings)\n",
    "gdf"
   ]
  },
  {
   "cell_type": "code",
   "execution_count": 56,
   "metadata": {},
   "outputs": [],
   "source": [
    "m= leafmap.Map(center=[-74.0060, 40.7128], zoom=13, pitch=45)\n",
    "roads= \"https://github.com/opengeos/datasets/releases/download/places/nyc_roads.geojson\"\n",
    "paint={\n",
    "    \"line_width\": 1,\n",
    "    \"line_color\": \"#00ffae\",\n",
    "    \"line_opacity\": 0.8,\n",
    "}\n",
    "m.add_geojson(roads, layer_type=\"line\", paint=paint, name=\"NYC Roads\")\n"
   ]
  },
  {
   "cell_type": "code",
   "execution_count": 57,
   "metadata": {},
   "outputs": [
    {
     "data": {
      "application/vnd.jupyter.widget-view+json": {
       "model_id": "3e08ace4634d45ca81871bc20cd96b6d",
       "version_major": 2,
       "version_minor": 0
      },
      "text/plain": [
       "Container(children=[Row(children=[Col(children=[Map(calls=[['addControl', ('NavigationControl', {'showCompass'…"
      ]
     },
     "metadata": {},
     "output_type": "display_data"
    }
   ],
   "source": [
    "buildings= \"https://github.com/opengeos/datasets/releases/download/places/nyc_buildings.geojson\"\n",
    "paint_fill = {\n",
    "    \"fill-extrusion-color\": {\n",
    "        \"property\": \"SQMETERS\",\n",
    "        \"stops\": [\n",
    "            [0, \"grey\"],\n",
    "            [1000, \"yellow\"],\n",
    "            [3000, \"orange\"],\n",
    "            [5000, \"darkred\"],\n",
    "            [10000, \"lightblue\"],\n",
    "        ],\n",
    "    },\n",
    "    \"fill-extrusion-height\": [\"*\", 12, [\"sqrt\", [\"get\", \"SQMETERS\"]]],\n",
    "    \"fill-extrusion-opacity\": 0.9,\n",
    "}\n",
    "m.add_geojson(buildings,layer_type=\"fill-extrusion\", paint= paint_fill,name=\"NYC Buildings\")\n",
    "m"
   ]
  },
  {
   "cell_type": "code",
   "execution_count": 59,
   "metadata": {},
   "outputs": [
    {
     "data": {
      "application/vnd.jupyter.widget-view+json": {
       "model_id": "1028bc40d2d24e01a99e3e7bc38dcb33",
       "version_major": 2,
       "version_minor": 0
      },
      "text/plain": [
       "Container(children=[Row(children=[Col(children=[Map(calls=[['addControl', ('NavigationControl', {'showCompass'…"
      ]
     },
     "metadata": {},
     "output_type": "display_data"
    }
   ],
   "source": [
    "m=leafmap.Map(style= \"satellite\")\n",
    "url=\"https://github.com/opengeos/datasets/releases/download/raster/nlcd_2021_land_cover_90m.tif\"\n",
    "m.add_cog_layer(url, name=\"NLCD 2021 Land Cover\")\n",
    "m.add_legend(builtin_legend=\"NLCD\")\n",
    "m"
   ]
  },
  {
   "cell_type": "code",
   "execution_count": 3,
   "metadata": {},
   "outputs": [
    {
     "name": "stdout",
     "output_type": "stream",
     "text": [
      "dem.tif already exists. Skip downloading. Set overwrite=True to overwrite.\n"
     ]
    },
    {
     "data": {
      "text/plain": [
       "'/home/zyang91/Desktop/intro-to-gis/lab/dem.tif'"
      ]
     },
     "execution_count": 3,
     "metadata": {},
     "output_type": "execute_result"
    }
   ],
   "source": [
    "url = \"https://github.com/opengeos/datasets/releases/download/raster/dem.tif\"\n",
    "filepath = \"dem.tif\"\n",
    "leafmap.download_file(url, filepath, quiet=True)"
   ]
  },
  {
   "cell_type": "code",
   "execution_count": 18,
   "metadata": {},
   "outputs": [
    {
     "data": {
      "application/vnd.jupyter.widget-view+json": {
       "model_id": "4ebac08a4cdf426ca3a728781bf17b81",
       "version_major": 2,
       "version_minor": 0
      },
      "text/plain": [
       "Container(children=[Row(children=[Col(children=[Map(calls=[['addControl', ('NavigationControl', {'showCompass'…"
      ]
     },
     "metadata": {},
     "output_type": "display_data"
    }
   ],
   "source": [
    "m=leafmap.Map(style= \"satellite\")\n",
    "m.add_raster(filepath, name=\"DEM\", colormap=\"terrain\",vmin=0, vmax=3000)\n",
    "m.add_colorbar(\n",
    "    cmap=\"terrain\",         # Colormap name (must match your layer's colormap)\n",
    "    vmin=0,                   # Minimum DEM value\n",
    "    vmax=3000,                # Maximum DEM value\n",
    "    label=\"Elevation (m)\"     # Legend title\n",
    ")\n",
    "m"
   ]
  },
  {
   "cell_type": "code",
   "execution_count": 21,
   "metadata": {},
   "outputs": [
    {
     "data": {
      "application/vnd.jupyter.widget-view+json": {
       "model_id": "d87d798f12e14405aba15b5f198a06d7",
       "version_major": 2,
       "version_minor": 0
      },
      "text/plain": [
       "Container(children=[Row(children=[Col(children=[Map(calls=[['addControl', ('NavigationControl', {'showCompass'…"
      ]
     },
     "metadata": {},
     "output_type": "display_data"
    }
   ],
   "source": [
    "m= leafmap.Map(style=\"satellite\")\n",
    "url=\"https://services.terrascope.be/wms/v2\"\n",
    "m.add_wms_layer(url=url, layers=\"WORLDCOVER_2021_MAP\",name=\"WorldCover 2021\",format=\"image/png\", attribution=\"ESA WorldCover 2021\")\n",
    "m.add_legend(builtin_legend=\"ESA_WorldCover\")\n",
    "m\n"
   ]
  },
  {
   "cell_type": "markdown",
   "metadata": {},
   "source": [
    "## Exercise 5: Working with 3D Buildings  \n",
    "\n",
    "   - Set up a 3D map centered on a city of your choice with an appropriate zoom level, pitch, and bearing.\n",
    "   - Add 3D buildings to the map with extrusions based on their height attributes. Use a custom color gradient for the extrusion color.\n"
   ]
  },
  {
   "cell_type": "code",
   "execution_count": 53,
   "metadata": {},
   "outputs": [
    {
     "data": {
      "application/vnd.jupyter.widget-view+json": {
       "model_id": "6878a4e6245f4f798577c3631c493dac",
       "version_major": 2,
       "version_minor": 0
      },
      "text/plain": [
       "Container(children=[Row(children=[Col(children=[Map(calls=[['addControl', ('NavigationControl', {'showCompass'…"
      ]
     },
     "metadata": {},
     "output_type": "display_data"
    }
   ],
   "source": [
    "m = leafmap.Map(\n",
    "    center=[-75.1652, 39.9526], zoom=16, pitch=60, bearing=35, style=\"basic-v2\"\n",
    ")\n",
    "m.add_3d_buildings(min_zoom=15,colors=[\"#ff0000\", \"#00ff00\", \"#0000ff\"])\n",
    "m.add_layer_control()\n",
    "m"
   ]
  },
  {
   "cell_type": "markdown",
   "metadata": {},
   "source": [
    "## Exercise 6: Adding Map Elements  \n",
    "   - **Image and Text**: Add a logo image of your choice with appropriate text to the map.\n",
    "   - **GIF**: Add an animated GIF of your choice to the map."
   ]
  },
  {
   "cell_type": "code",
   "execution_count": null,
   "metadata": {},
   "outputs": [],
   "source": []
  }
 ],
 "metadata": {
  "kernelspec": {
   "display_name": "geosptial",
   "language": "python",
   "name": "python3"
  },
  "language_info": {
   "codemirror_mode": {
    "name": "ipython",
    "version": 3
   },
   "file_extension": ".py",
   "mimetype": "text/x-python",
   "name": "python",
   "nbconvert_exporter": "python",
   "pygments_lexer": "ipython3",
   "version": "3.13.5"
  }
 },
 "nbformat": 4,
 "nbformat_minor": 2
}
