{
 "cells": [
  {
   "cell_type": "markdown",
   "metadata": {},
   "source": [
    "# Lab 7\n",
    "\n",
    "[![Open In Colab](https://colab.research.google.com/assets/colab-badge.svg)](https://colab.research.google.com/github/giswqs/geog-312/blob/main/book/labs/lab_07.ipynb)\n",
    "\n",
    "## Overview\n",
    "\n",
    "In this lab, you will delve deeper into Leafmap, a powerful Python package for interactive geospatial mapping and analysis. You will explore how to work with various types of raster and vector data, customize basemaps and map layers, and visualize data using Cloud Optimized GeoTIFFs (COGs), PMTiles, GeoParquet, and other formats. You will also learn how to enhance your maps with advanced features like legends, colorbars, marker clusters, and split maps for comparison.\n",
    "\n",
    "## Objective\n",
    "\n",
    "* Create and customize interactive maps using Leafmap.\n",
    "* Add and configure basemaps, XYZ tile layers, and WMS layers.\n",
    "* Visualize various raster formats such as GeoTIFF, Cloud Optimized GeoTIFF (COG), and multi-band imagery.\n",
    "* Explore vector data visualization, including marker clusters and choropleth maps.\n",
    "* Implement advanced mapping features like legends, colorbars, and split map comparisons."
   ]
  },
  {
   "cell_type": "markdown",
   "metadata": {},
   "source": [
    "## Exercise 1: Creating an Interactive Map\n",
    "\n",
    "1. Create an interactive map with search functionality that allows users to search for places and zoom to them. Disable the draw control on the map."
   ]
  },
  {
   "cell_type": "code",
   "execution_count": 1,
   "metadata": {},
   "outputs": [],
   "source": [
    "import leafmap"
   ]
  },
  {
   "cell_type": "code",
   "execution_count": 2,
   "metadata": {},
   "outputs": [
    {
     "data": {
      "application/vnd.jupyter.widget-view+json": {
       "model_id": "a7cb09f2ece04758b8839ac00b7c19f6",
       "version_major": 2,
       "version_minor": 0
      },
      "text/plain": [
       "Map(center=[35.96, -83.92], controls=(ZoomControl(options=['position', 'zoom_in_text', 'zoom_in_title', 'zoom_…"
      ]
     },
     "execution_count": 2,
     "metadata": {},
     "output_type": "execute_result"
    }
   ],
   "source": [
    "m = leafmap.Map(center=(35.96, -83.92), zoom=10, draw_control=False)\n",
    "url = \"https://nominatim.openstreetmap.org/search?format=json&q={s}\"\n",
    "m.add_search_control(url, zoom=10, position=\"topleft\")\n",
    "m"
   ]
  },
  {
   "cell_type": "markdown",
   "metadata": {},
   "source": [
    "![image](https://github.com/user-attachments/assets/b930fb63-3bd1-4d7e-9bf8-87e6d398e5c3)"
   ]
  },
  {
   "cell_type": "markdown",
   "metadata": {},
   "source": [
    "## Exercise 2: Adding XYZ and WMS Tile Layers\n",
    "\n",
    "1. Add a custom XYZ tile layer ([USGS Topographic basemap](https://apps.nationalmap.gov/services)) using the following URL:\n",
    "   - URL: `https://basemap.nationalmap.gov/arcgis/rest/services/USGSTopo/MapServer/tile/{z}/{y}/{x}`\n",
    "2. **Not Valid anymore** Add two WMS layers to visualize NAIP imagery and NDVI using a USGS WMS service. \n",
    "   - URL: `https://imagery.nationalmap.gov/arcgis/services/USGSNAIPImagery/ImageServer/WMSServer?`\n",
    "   - Layer names: `USGSNAIPImagery:FalseColorComposite`, `USGSNAIPImagery:NDVI_Color`"
   ]
  },
  {
   "cell_type": "code",
   "execution_count": 3,
   "metadata": {},
   "outputs": [
    {
     "data": {
      "application/vnd.jupyter.widget-view+json": {
       "model_id": "26fe6b48b29d4d46b4e795bfb677810b",
       "version_major": 2,
       "version_minor": 0
      },
      "text/plain": [
       "Map(center=[20, 0], controls=(ZoomControl(options=['position', 'zoom_in_text', 'zoom_in_title', 'zoom_out_text…"
      ]
     },
     "execution_count": 3,
     "metadata": {},
     "output_type": "execute_result"
    }
   ],
   "source": [
    "m = leafmap.Map()\n",
    "m.add_tile_layer(\n",
    "    url=\"https://basemap.nationalmap.gov/arcgis/rest/services/USGSTopo/MapServer/tile/{z}/{y}/{x}\",\n",
    "    name=\"USGS Topo\",\n",
    "    attribution=\"USGS\",\n",
    ")\n",
    "m"
   ]
  },
  {
   "cell_type": "markdown",
   "metadata": {},
   "source": [
    "![image](https://github.com/user-attachments/assets/28dd8511-a0ac-4b44-ab02-9ed791817043)"
   ]
  },
  {
   "cell_type": "code",
   "execution_count": 4,
   "metadata": {},
   "outputs": [
    {
     "data": {
      "application/vnd.jupyter.widget-view+json": {
       "model_id": "b9b9c2bf56b048db859a38d29679179b",
       "version_major": 2,
       "version_minor": 0
      },
      "text/plain": [
       "Map(center=[40, -100], controls=(ZoomControl(options=['position', 'zoom_in_text', 'zoom_in_title', 'zoom_out_t…"
      ]
     },
     "execution_count": 4,
     "metadata": {},
     "output_type": "execute_result"
    }
   ],
   "source": [
    "m = leafmap.Map(center=(40, -100), zoom=4)\n",
    "m.add_wms_layer(\n",
    "    url=\"https://imagery.nationalmap.gov/arcgis/services/USGSNAIPImagery/ImageServer/WMSServer?\",\n",
    "    layers=\"USGSNAIPImagery:FalseColorComposite\",\n",
    "    name=\"NAIP Imagery\",\n",
    "    attribution=\"USGS\",\n",
    "    format=\"image/png\",\n",
    "    shown=True,\n",
    ")\n",
    "m"
   ]
  },
  {
   "cell_type": "code",
   "execution_count": 5,
   "metadata": {},
   "outputs": [
    {
     "data": {
      "application/vnd.jupyter.widget-view+json": {
       "model_id": "b9b9c2bf56b048db859a38d29679179b",
       "version_major": 2,
       "version_minor": 0
      },
      "text/plain": [
       "Map(center=[40, -100], controls=(ZoomControl(options=['position', 'zoom_in_text', 'zoom_in_title', 'zoom_out_t…"
      ]
     },
     "execution_count": 5,
     "metadata": {},
     "output_type": "execute_result"
    }
   ],
   "source": [
    "m.add_wms_layer(\n",
    "    url=\"https://imagery.nationalmap.gov/arcgis/services/USGSNAIPImagery/ImageServer/WMSServer?\",\n",
    "    layers=\"USGSNAIPImagery:NDVI_Color\",\n",
    "    name=\"NAIP NDVI\",\n",
    "    attribution=\"USGS\",\n",
    "    format=\"image/png\",\n",
    "    shown=True,\n",
    ")\n",
    "m"
   ]
  },
  {
   "cell_type": "markdown",
   "metadata": {},
   "source": [
    "![image](https://github.com/user-attachments/assets/719c1e07-f955-42d6-985c-b5842c9eac4c)"
   ]
  },
  {
   "cell_type": "markdown",
   "metadata": {},
   "source": [
    "## Exercise 3: Adding Map Legends\n",
    "\n",
    "1. Add the [ESA World Cover](https://esa-worldcover.org/en) WMS tile layer to the map.\n",
    "    - URL: `https://services.terrascope.be/wms/v2?`\n",
    "    - Layer name: `WORLDCOVER_2021_MAP`\n",
    "2. Add a legend to the map using the leafmap built-in `ESA_WorldCover` legend."
   ]
  },
  {
   "cell_type": "code",
   "execution_count": 6,
   "metadata": {},
   "outputs": [
    {
     "data": {
      "application/vnd.jupyter.widget-view+json": {
       "model_id": "ec9719791d2b4af6a2972ae0a09b271e",
       "version_major": 2,
       "version_minor": 0
      },
      "text/plain": [
       "Map(center=[20, 0], controls=(ZoomControl(options=['position', 'zoom_in_text', 'zoom_in_title', 'zoom_out_text…"
      ]
     },
     "execution_count": 6,
     "metadata": {},
     "output_type": "execute_result"
    }
   ],
   "source": [
    "m = leafmap.Map()\n",
    "m.add_wms_layer(\n",
    "    url=\"https://services.terrascope.be/wms/v2?\",\n",
    "    layers=\"WORLDCOVER_2021_MAP\",\n",
    "    name=\"WorldCover 2021\",\n",
    "    attribution=\"ESA\",\n",
    "    shown=True,\n",
    ")\n",
    "m"
   ]
  },
  {
   "cell_type": "code",
   "execution_count": 7,
   "metadata": {},
   "outputs": [],
   "source": [
    "m.add_legend(title=\"ESA Land Cover Type\", builtin_legend=\"ESA_WorldCover\")"
   ]
  },
  {
   "cell_type": "markdown",
   "metadata": {},
   "source": [
    "![image](https://github.com/user-attachments/assets/be5a9b07-4f6c-4245-9737-31db2df14f7f)"
   ]
  },
  {
   "cell_type": "markdown",
   "metadata": {},
   "source": [
    "## Exercise 4: Creating Marker Clusters\n",
    "\n",
    "1. Create a marker cluster visualization from a GeoJSON file of building centroids:\n",
    "    - URL: https://github.com/opengeos/datasets/releases/download/places/wa_building_centroids.geojson\n",
    "    - Hint: Read the GeoJSON file using GeoPandas and add \"latitude\" and \"longitude\" columns to the GeoDataFrame.\n",
    "2. Create circle markers for each building centroid using the `Map.add_circle_markers_from_xy()` method with the following styling:\n",
    "    * Radius: 5\n",
    "    * Outline color: \"red\"\n",
    "    * Fill color: \"yellow\"\n",
    "    * Fill opacity: 0.8"
   ]
  },
  {
   "cell_type": "code",
   "execution_count": 8,
   "metadata": {},
   "outputs": [
    {
     "data": {
      "text/html": [
       "<div>\n",
       "<style scoped>\n",
       "    .dataframe tbody tr th:only-of-type {\n",
       "        vertical-align: middle;\n",
       "    }\n",
       "\n",
       "    .dataframe tbody tr th {\n",
       "        vertical-align: top;\n",
       "    }\n",
       "\n",
       "    .dataframe thead th {\n",
       "        text-align: right;\n",
       "    }\n",
       "</style>\n",
       "<table border=\"1\" class=\"dataframe\">\n",
       "  <thead>\n",
       "    <tr style=\"text-align: right;\">\n",
       "      <th></th>\n",
       "      <th>Class</th>\n",
       "      <th>Confidence</th>\n",
       "      <th>Shape_Leng</th>\n",
       "      <th>Shape_Area</th>\n",
       "      <th>geometry</th>\n",
       "    </tr>\n",
       "  </thead>\n",
       "  <tbody>\n",
       "    <tr>\n",
       "      <th>0</th>\n",
       "      <td>1</td>\n",
       "      <td>28.905460</td>\n",
       "      <td>68.457069</td>\n",
       "      <td>292.568026</td>\n",
       "      <td>POINT (-117.60109 47.65499)</td>\n",
       "    </tr>\n",
       "    <tr>\n",
       "      <th>1</th>\n",
       "      <td>1</td>\n",
       "      <td>99.420196</td>\n",
       "      <td>97.152785</td>\n",
       "      <td>556.702899</td>\n",
       "      <td>POINT (-117.59953 47.65533)</td>\n",
       "    </tr>\n",
       "    <tr>\n",
       "      <th>2</th>\n",
       "      <td>1</td>\n",
       "      <td>95.450807</td>\n",
       "      <td>90.916993</td>\n",
       "      <td>492.940128</td>\n",
       "      <td>POINT (-117.59991 47.65514)</td>\n",
       "    </tr>\n",
       "    <tr>\n",
       "      <th>3</th>\n",
       "      <td>1</td>\n",
       "      <td>91.446453</td>\n",
       "      <td>85.645123</td>\n",
       "      <td>453.842109</td>\n",
       "      <td>POINT (-117.59953 47.65575)</td>\n",
       "    </tr>\n",
       "    <tr>\n",
       "      <th>4</th>\n",
       "      <td>1</td>\n",
       "      <td>90.172392</td>\n",
       "      <td>78.057638</td>\n",
       "      <td>380.403649</td>\n",
       "      <td>POINT (-117.59989 47.65534)</td>\n",
       "    </tr>\n",
       "    <tr>\n",
       "      <th>...</th>\n",
       "      <td>...</td>\n",
       "      <td>...</td>\n",
       "      <td>...</td>\n",
       "      <td>...</td>\n",
       "      <td>...</td>\n",
       "    </tr>\n",
       "    <tr>\n",
       "      <th>264</th>\n",
       "      <td>1</td>\n",
       "      <td>97.903937</td>\n",
       "      <td>118.104570</td>\n",
       "      <td>871.108950</td>\n",
       "      <td>POINT (-117.59608 47.65027)</td>\n",
       "    </tr>\n",
       "    <tr>\n",
       "      <th>265</th>\n",
       "      <td>1</td>\n",
       "      <td>99.787593</td>\n",
       "      <td>99.553885</td>\n",
       "      <td>601.413628</td>\n",
       "      <td>POINT (-117.5943 47.65023)</td>\n",
       "    </tr>\n",
       "    <tr>\n",
       "      <th>266</th>\n",
       "      <td>1</td>\n",
       "      <td>73.798037</td>\n",
       "      <td>92.227436</td>\n",
       "      <td>476.532518</td>\n",
       "      <td>POINT (-117.59385 47.65021)</td>\n",
       "    </tr>\n",
       "    <tr>\n",
       "      <th>267</th>\n",
       "      <td>1</td>\n",
       "      <td>84.850258</td>\n",
       "      <td>164.656782</td>\n",
       "      <td>1632.982925</td>\n",
       "      <td>POINT (-117.59377 47.65025)</td>\n",
       "    </tr>\n",
       "    <tr>\n",
       "      <th>268</th>\n",
       "      <td>1</td>\n",
       "      <td>58.151555</td>\n",
       "      <td>55.734711</td>\n",
       "      <td>182.307253</td>\n",
       "      <td>POINT (-117.59368 47.6503)</td>\n",
       "    </tr>\n",
       "  </tbody>\n",
       "</table>\n",
       "<p>269 rows × 5 columns</p>\n",
       "</div>"
      ],
      "text/plain": [
       "    Class  Confidence  Shape_Leng   Shape_Area                     geometry\n",
       "0       1   28.905460   68.457069   292.568026  POINT (-117.60109 47.65499)\n",
       "1       1   99.420196   97.152785   556.702899  POINT (-117.59953 47.65533)\n",
       "2       1   95.450807   90.916993   492.940128  POINT (-117.59991 47.65514)\n",
       "3       1   91.446453   85.645123   453.842109  POINT (-117.59953 47.65575)\n",
       "4       1   90.172392   78.057638   380.403649  POINT (-117.59989 47.65534)\n",
       "..    ...         ...         ...          ...                          ...\n",
       "264     1   97.903937  118.104570   871.108950  POINT (-117.59608 47.65027)\n",
       "265     1   99.787593   99.553885   601.413628   POINT (-117.5943 47.65023)\n",
       "266     1   73.798037   92.227436   476.532518  POINT (-117.59385 47.65021)\n",
       "267     1   84.850258  164.656782  1632.982925  POINT (-117.59377 47.65025)\n",
       "268     1   58.151555   55.734711   182.307253   POINT (-117.59368 47.6503)\n",
       "\n",
       "[269 rows x 5 columns]"
      ]
     },
     "execution_count": 8,
     "metadata": {},
     "output_type": "execute_result"
    }
   ],
   "source": [
    "import geopandas as gpd\n",
    "\n",
    "url = \"https://github.com/opengeos/datasets/releases/download/places/wa_building_centroids.geojson\"\n",
    "gdf = gpd.read_file(url)\n",
    "gdf"
   ]
  },
  {
   "cell_type": "code",
   "execution_count": 9,
   "metadata": {},
   "outputs": [
    {
     "data": {
      "text/html": [
       "<div>\n",
       "<style scoped>\n",
       "    .dataframe tbody tr th:only-of-type {\n",
       "        vertical-align: middle;\n",
       "    }\n",
       "\n",
       "    .dataframe tbody tr th {\n",
       "        vertical-align: top;\n",
       "    }\n",
       "\n",
       "    .dataframe thead th {\n",
       "        text-align: right;\n",
       "    }\n",
       "</style>\n",
       "<table border=\"1\" class=\"dataframe\">\n",
       "  <thead>\n",
       "    <tr style=\"text-align: right;\">\n",
       "      <th></th>\n",
       "      <th>Class</th>\n",
       "      <th>Confidence</th>\n",
       "      <th>Shape_Leng</th>\n",
       "      <th>Shape_Area</th>\n",
       "      <th>geometry</th>\n",
       "      <th>latitude</th>\n",
       "      <th>longitude</th>\n",
       "    </tr>\n",
       "  </thead>\n",
       "  <tbody>\n",
       "    <tr>\n",
       "      <th>0</th>\n",
       "      <td>1</td>\n",
       "      <td>28.905460</td>\n",
       "      <td>68.457069</td>\n",
       "      <td>292.568026</td>\n",
       "      <td>POINT (-117.60109 47.65499)</td>\n",
       "      <td>47.654993</td>\n",
       "      <td>-117.601092</td>\n",
       "    </tr>\n",
       "    <tr>\n",
       "      <th>1</th>\n",
       "      <td>1</td>\n",
       "      <td>99.420196</td>\n",
       "      <td>97.152785</td>\n",
       "      <td>556.702899</td>\n",
       "      <td>POINT (-117.59953 47.65533)</td>\n",
       "      <td>47.655326</td>\n",
       "      <td>-117.599525</td>\n",
       "    </tr>\n",
       "    <tr>\n",
       "      <th>2</th>\n",
       "      <td>1</td>\n",
       "      <td>95.450807</td>\n",
       "      <td>90.916993</td>\n",
       "      <td>492.940128</td>\n",
       "      <td>POINT (-117.59991 47.65514)</td>\n",
       "      <td>47.655143</td>\n",
       "      <td>-117.599910</td>\n",
       "    </tr>\n",
       "    <tr>\n",
       "      <th>3</th>\n",
       "      <td>1</td>\n",
       "      <td>91.446453</td>\n",
       "      <td>85.645123</td>\n",
       "      <td>453.842109</td>\n",
       "      <td>POINT (-117.59953 47.65575)</td>\n",
       "      <td>47.655747</td>\n",
       "      <td>-117.599532</td>\n",
       "    </tr>\n",
       "    <tr>\n",
       "      <th>4</th>\n",
       "      <td>1</td>\n",
       "      <td>90.172392</td>\n",
       "      <td>78.057638</td>\n",
       "      <td>380.403649</td>\n",
       "      <td>POINT (-117.59989 47.65534)</td>\n",
       "      <td>47.655336</td>\n",
       "      <td>-117.599892</td>\n",
       "    </tr>\n",
       "    <tr>\n",
       "      <th>...</th>\n",
       "      <td>...</td>\n",
       "      <td>...</td>\n",
       "      <td>...</td>\n",
       "      <td>...</td>\n",
       "      <td>...</td>\n",
       "      <td>...</td>\n",
       "      <td>...</td>\n",
       "    </tr>\n",
       "    <tr>\n",
       "      <th>264</th>\n",
       "      <td>1</td>\n",
       "      <td>97.903937</td>\n",
       "      <td>118.104570</td>\n",
       "      <td>871.108950</td>\n",
       "      <td>POINT (-117.59608 47.65027)</td>\n",
       "      <td>47.650275</td>\n",
       "      <td>-117.596083</td>\n",
       "    </tr>\n",
       "    <tr>\n",
       "      <th>265</th>\n",
       "      <td>1</td>\n",
       "      <td>99.787593</td>\n",
       "      <td>99.553885</td>\n",
       "      <td>601.413628</td>\n",
       "      <td>POINT (-117.5943 47.65023)</td>\n",
       "      <td>47.650228</td>\n",
       "      <td>-117.594302</td>\n",
       "    </tr>\n",
       "    <tr>\n",
       "      <th>266</th>\n",
       "      <td>1</td>\n",
       "      <td>73.798037</td>\n",
       "      <td>92.227436</td>\n",
       "      <td>476.532518</td>\n",
       "      <td>POINT (-117.59385 47.65021)</td>\n",
       "      <td>47.650212</td>\n",
       "      <td>-117.593853</td>\n",
       "    </tr>\n",
       "    <tr>\n",
       "      <th>267</th>\n",
       "      <td>1</td>\n",
       "      <td>84.850258</td>\n",
       "      <td>164.656782</td>\n",
       "      <td>1632.982925</td>\n",
       "      <td>POINT (-117.59377 47.65025)</td>\n",
       "      <td>47.650251</td>\n",
       "      <td>-117.593774</td>\n",
       "    </tr>\n",
       "    <tr>\n",
       "      <th>268</th>\n",
       "      <td>1</td>\n",
       "      <td>58.151555</td>\n",
       "      <td>55.734711</td>\n",
       "      <td>182.307253</td>\n",
       "      <td>POINT (-117.59368 47.6503)</td>\n",
       "      <td>47.650301</td>\n",
       "      <td>-117.593681</td>\n",
       "    </tr>\n",
       "  </tbody>\n",
       "</table>\n",
       "<p>269 rows × 7 columns</p>\n",
       "</div>"
      ],
      "text/plain": [
       "    Class  Confidence  Shape_Leng   Shape_Area                     geometry  \\\n",
       "0       1   28.905460   68.457069   292.568026  POINT (-117.60109 47.65499)   \n",
       "1       1   99.420196   97.152785   556.702899  POINT (-117.59953 47.65533)   \n",
       "2       1   95.450807   90.916993   492.940128  POINT (-117.59991 47.65514)   \n",
       "3       1   91.446453   85.645123   453.842109  POINT (-117.59953 47.65575)   \n",
       "4       1   90.172392   78.057638   380.403649  POINT (-117.59989 47.65534)   \n",
       "..    ...         ...         ...          ...                          ...   \n",
       "264     1   97.903937  118.104570   871.108950  POINT (-117.59608 47.65027)   \n",
       "265     1   99.787593   99.553885   601.413628   POINT (-117.5943 47.65023)   \n",
       "266     1   73.798037   92.227436   476.532518  POINT (-117.59385 47.65021)   \n",
       "267     1   84.850258  164.656782  1632.982925  POINT (-117.59377 47.65025)   \n",
       "268     1   58.151555   55.734711   182.307253   POINT (-117.59368 47.6503)   \n",
       "\n",
       "      latitude   longitude  \n",
       "0    47.654993 -117.601092  \n",
       "1    47.655326 -117.599525  \n",
       "2    47.655143 -117.599910  \n",
       "3    47.655747 -117.599532  \n",
       "4    47.655336 -117.599892  \n",
       "..         ...         ...  \n",
       "264  47.650275 -117.596083  \n",
       "265  47.650228 -117.594302  \n",
       "266  47.650212 -117.593853  \n",
       "267  47.650251 -117.593774  \n",
       "268  47.650301 -117.593681  \n",
       "\n",
       "[269 rows x 7 columns]"
      ]
     },
     "execution_count": 9,
     "metadata": {},
     "output_type": "execute_result"
    }
   ],
   "source": [
    "gdf[\"latitude\"] = gdf.geometry.y\n",
    "gdf[\"longitude\"] = gdf.geometry.x\n",
    "gdf"
   ]
  },
  {
   "cell_type": "code",
   "execution_count": 10,
   "metadata": {},
   "outputs": [
    {
     "data": {
      "application/vnd.jupyter.widget-view+json": {
       "model_id": "4d09841302cc444ca046ffd4fcb33ae3",
       "version_major": 2,
       "version_minor": 0
      },
      "text/plain": [
       "Map(center=[20, 0], controls=(ZoomControl(options=['position', 'zoom_in_text', 'zoom_in_title', 'zoom_out_text…"
      ]
     },
     "execution_count": 10,
     "metadata": {},
     "output_type": "execute_result"
    }
   ],
   "source": [
    "m = leafmap.Map()\n",
    "m.add_basemap(\"Esri.WorldImagery\")\n",
    "m.add_marker_cluster(\n",
    "    gdf,\n",
    "    latitude=\"latitude\",\n",
    "    longitude=\"longitude\",\n",
    "    layer_name=\"Buildings\",\n",
    ")\n",
    "m.zoom_to_bounds(gdf.total_bounds)\n",
    "m"
   ]
  },
  {
   "cell_type": "markdown",
   "metadata": {},
   "source": [
    "![image](https://github.com/user-attachments/assets/d60cbfc7-b8c9-4cab-8852-bc34e82fd665)"
   ]
  },
  {
   "cell_type": "code",
   "execution_count": 11,
   "metadata": {},
   "outputs": [
    {
     "data": {
      "application/vnd.jupyter.widget-view+json": {
       "model_id": "95d32e60fad041b88d1b1c098d0d7c7e",
       "version_major": 2,
       "version_minor": 0
      },
      "text/plain": [
       "Map(center=[20, 0], controls=(ZoomControl(options=['position', 'zoom_in_text', 'zoom_in_title', 'zoom_out_text…"
      ]
     },
     "execution_count": 11,
     "metadata": {},
     "output_type": "execute_result"
    }
   ],
   "source": [
    "m = leafmap.Map()\n",
    "m.add_basemap(\"Esri.WorldImagery\")\n",
    "m.add_circle_markers_from_xy(\n",
    "    gdf,\n",
    "    x=\"longitude\",\n",
    "    y=\"latitude\",\n",
    "    radius=5,\n",
    "    color=\"red\",\n",
    "    fill_color=\"yellow\",\n",
    "    fill_opacity=0.8,\n",
    "    layer_name=\"Buildings\",\n",
    ")\n",
    "m.zoom_to_bounds(gdf.total_bounds)\n",
    "m"
   ]
  },
  {
   "cell_type": "markdown",
   "metadata": {},
   "source": [
    "![image](https://github.com/user-attachments/assets/637e00ae-89af-495e-84b4-e668e16cce88)"
   ]
  },
  {
   "cell_type": "markdown",
   "metadata": {},
   "source": [
    "## Exercise 5: Visualizing Vector Data\n",
    "\n",
    "1. Visualize the building polygons GeoJSON file and style it with:\n",
    "    * Outline color: \"red\"\n",
    "    * No fill color\n",
    "    * URL: https://github.com/opengeos/datasets/releases/download/places/wa_overture_buildings.geojson\n",
    "  \n",
    "2. Visualize the road polylines GeoJSON file and style it with:\n",
    "    * Line color: \"red\"\n",
    "    * Line width: 2\n",
    "    * URL: https://github.com/opengeos/datasets/releases/download/places/las_vegas_roads.geojson\n",
    "\n",
    "3. Create a choropleth map of county areas in the US:\n",
    "    * URL: https://github.com/opengeos/datasets/releases/download/us/us_counties.geojson\n",
    "    * Column: `CENSUSAREA`\n"
   ]
  },
  {
   "cell_type": "code",
   "execution_count": 12,
   "metadata": {},
   "outputs": [
    {
     "data": {
      "application/vnd.jupyter.widget-view+json": {
       "model_id": "879b860ce1b642a588be8aac78be7095",
       "version_major": 2,
       "version_minor": 0
      },
      "text/plain": [
       "Map(center=[20, 0], controls=(ZoomControl(options=['position', 'zoom_in_text', 'zoom_in_title', 'zoom_out_text…"
      ]
     },
     "execution_count": 12,
     "metadata": {},
     "output_type": "execute_result"
    }
   ],
   "source": [
    "m = leafmap.Map()\n",
    "m.add_basemap(\"Esri.WorldImagery\")\n",
    "url = \"https://github.com/opengeos/datasets/releases/download/places/wa_overture_buildings.geojson\"\n",
    "m.add_vector(\n",
    "    url,\n",
    "    layer_name=\"Buildings\",\n",
    "    style={\"color\": \"red\", \"fillColor\": \"None\"},\n",
    "    zoom_to_layer=True,\n",
    ")\n",
    "m"
   ]
  },
  {
   "cell_type": "markdown",
   "metadata": {},
   "source": [
    "![image](https://github.com/user-attachments/assets/069eb704-c409-44ee-af9e-7582d1ab23a5)"
   ]
  },
  {
   "cell_type": "code",
   "execution_count": 13,
   "metadata": {},
   "outputs": [],
   "source": [
    "gdf = gpd.read_file(\n",
    "    \"https://github.com/opengeos/datasets/releases/download/places/las_vegas_roads.geojson\"\n",
    ")"
   ]
  },
  {
   "cell_type": "code",
   "execution_count": 14,
   "metadata": {},
   "outputs": [
    {
     "data": {
      "application/vnd.jupyter.widget-view+json": {
       "model_id": "3863dbaf6cb0440daeeb9a1acaf8c12f",
       "version_major": 2,
       "version_minor": 0
      },
      "text/plain": [
       "Map(center=[20, 0], controls=(ZoomControl(options=['position', 'zoom_in_text', 'zoom_in_title', 'zoom_out_text…"
      ]
     },
     "execution_count": 14,
     "metadata": {},
     "output_type": "execute_result"
    }
   ],
   "source": [
    "m = leafmap.Map()\n",
    "m.add_basemap(\"Esri.WorldImagery\")\n",
    "style = {\"color\": \"red\", \"weight\": 2}\n",
    "m.add_gdf(gdf, layer_name=\"Roads\", style=style, zoom_to_layer=True)\n",
    "m"
   ]
  },
  {
   "cell_type": "markdown",
   "metadata": {},
   "source": [
    "![image](https://github.com/user-attachments/assets/f28d19a6-4f60-484c-b2f7-c1ecce7ecb26)"
   ]
  },
  {
   "cell_type": "code",
   "execution_count": 20,
   "metadata": {},
   "outputs": [
    {
     "data": {
      "application/vnd.jupyter.widget-view+json": {
       "model_id": "ff212cb3f30e4f5b8d1006452e91fbaa",
       "version_major": 2,
       "version_minor": 0
      },
      "text/plain": [
       "Map(center=[40, -100], controls=(ZoomControl(options=['position', 'zoom_in_text', 'zoom_in_title', 'zoom_out_t…"
      ]
     },
     "execution_count": 20,
     "metadata": {},
     "output_type": "execute_result"
    }
   ],
   "source": [
    "m = leafmap.Map(center=(40, -100), zoom=4)\n",
    "data = \"https://github.com/opengeos/datasets/releases/download/us/us_counties.geojson\"\n",
    "m.add_data(\n",
    "    data,\n",
    "    column=\"CENSUSAREA\",\n",
    "    scheme=\"Quantiles\",\n",
    "    cmap=\"YlOrRd\",\n",
    "    legend_title=\"Census Area\",\n",
    ")\n",
    "m"
   ]
  },
  {
   "cell_type": "markdown",
   "metadata": {},
   "source": [
    "![image](https://github.com/user-attachments/assets/3aa9f54f-64d7-4788-89f1-f3ab88c1aa2e)"
   ]
  },
  {
   "cell_type": "markdown",
   "metadata": {},
   "source": [
    "## Exercise 6: Visualizing GeoParquet Data\n",
    "\n",
    "1. Visualize GeoParquet data of US states:\n",
    "\n",
    "    - URL: https://github.com/opengeos/datasets/releases/download/us/us_states.parquet\n",
    "    - Style: Outline color of \"red\" with no fill."
   ]
  },
  {
   "cell_type": "code",
   "execution_count": 21,
   "metadata": {},
   "outputs": [
    {
     "name": "stderr",
     "output_type": "stream",
     "text": [
      "Downloading...\n",
      "From: https://github.com/opengeos/datasets/releases/download/us/us_states.parquet\n",
      "To: /home/zyang91/Desktop/intro-to-gis/lab/states.parquet\n",
      "100%|██████████| 51.2k/51.2k [00:00<00:00, 2.28MB/s]\n"
     ]
    },
    {
     "data": {
      "text/plain": [
       "'/home/zyang91/Desktop/intro-to-gis/lab/states.parquet'"
      ]
     },
     "execution_count": 21,
     "metadata": {},
     "output_type": "execute_result"
    }
   ],
   "source": [
    "url = \"https://github.com/opengeos/datasets/releases/download/us/us_states.parquet\"\n",
    "filename = \"states.parquet\"\n",
    "leafmap.download_file(url, filename)"
   ]
  },
  {
   "cell_type": "code",
   "execution_count": 22,
   "metadata": {},
   "outputs": [
    {
     "data": {
      "text/html": [
       "<div>\n",
       "<style scoped>\n",
       "    .dataframe tbody tr th:only-of-type {\n",
       "        vertical-align: middle;\n",
       "    }\n",
       "\n",
       "    .dataframe tbody tr th {\n",
       "        vertical-align: top;\n",
       "    }\n",
       "\n",
       "    .dataframe thead th {\n",
       "        text-align: right;\n",
       "    }\n",
       "</style>\n",
       "<table border=\"1\" class=\"dataframe\">\n",
       "  <thead>\n",
       "    <tr style=\"text-align: right;\">\n",
       "      <th></th>\n",
       "      <th>id</th>\n",
       "      <th>name</th>\n",
       "      <th>geometry</th>\n",
       "    </tr>\n",
       "  </thead>\n",
       "  <tbody>\n",
       "    <tr>\n",
       "      <th>0</th>\n",
       "      <td>AL</td>\n",
       "      <td>Alabama</td>\n",
       "      <td>POLYGON ((-87.3593 35.00118, -85.60668 34.9847...</td>\n",
       "    </tr>\n",
       "    <tr>\n",
       "      <th>1</th>\n",
       "      <td>AK</td>\n",
       "      <td>Alaska</td>\n",
       "      <td>MULTIPOLYGON (((-131.60202 55.11798, -131.5691...</td>\n",
       "    </tr>\n",
       "    <tr>\n",
       "      <th>2</th>\n",
       "      <td>AZ</td>\n",
       "      <td>Arizona</td>\n",
       "      <td>POLYGON ((-109.0425 37.00026, -109.04798 31.33...</td>\n",
       "    </tr>\n",
       "    <tr>\n",
       "      <th>3</th>\n",
       "      <td>AR</td>\n",
       "      <td>Arkansas</td>\n",
       "      <td>POLYGON ((-94.47384 36.50186, -90.15254 36.496...</td>\n",
       "    </tr>\n",
       "    <tr>\n",
       "      <th>4</th>\n",
       "      <td>CA</td>\n",
       "      <td>California</td>\n",
       "      <td>POLYGON ((-123.23326 42.00619, -122.37885 42.0...</td>\n",
       "    </tr>\n",
       "  </tbody>\n",
       "</table>\n",
       "</div>"
      ],
      "text/plain": [
       "   id        name                                           geometry\n",
       "0  AL     Alabama  POLYGON ((-87.3593 35.00118, -85.60668 34.9847...\n",
       "1  AK      Alaska  MULTIPOLYGON (((-131.60202 55.11798, -131.5691...\n",
       "2  AZ     Arizona  POLYGON ((-109.0425 37.00026, -109.04798 31.33...\n",
       "3  AR    Arkansas  POLYGON ((-94.47384 36.50186, -90.15254 36.496...\n",
       "4  CA  California  POLYGON ((-123.23326 42.00619, -122.37885 42.0..."
      ]
     },
     "execution_count": 22,
     "metadata": {},
     "output_type": "execute_result"
    }
   ],
   "source": [
    "gdf = gpd.read_parquet(\"states.parquet\")\n",
    "gdf.head()"
   ]
  },
  {
   "cell_type": "code",
   "execution_count": 23,
   "metadata": {},
   "outputs": [
    {
     "data": {
      "application/vnd.jupyter.widget-view+json": {
       "model_id": "431225ade5db4225a905048027fe5798",
       "version_major": 2,
       "version_minor": 0
      },
      "text/plain": [
       "Map(center=[40, -100], controls=(ZoomControl(options=['position', 'zoom_in_text', 'zoom_in_title', 'zoom_out_t…"
      ]
     },
     "execution_count": 23,
     "metadata": {},
     "output_type": "execute_result"
    }
   ],
   "source": [
    "m = leafmap.Map(center=(40, -100), zoom=4)\n",
    "style = {\"color\": \"red\", \"weight\": 1, \"fillColor\": \"None\"}\n",
    "m.add_gdf(gdf, layer_name=\"states\", style=style)\n",
    "m"
   ]
  },
  {
   "cell_type": "markdown",
   "metadata": {},
   "source": [
    "![image](https://github.com/user-attachments/assets/b6d9ec09-035b-4df7-8ab7-a7b4588f1e71)"
   ]
  },
  {
   "cell_type": "markdown",
   "metadata": {},
   "source": [
    "## Exercise 7: Visualizing PMTiles\n",
    "\n",
    "1. Visualize the Overture Maps building dataset using PMTiles:\n",
    "    * URL: https://overturemaps-tiles-us-west-2-beta.s3.amazonaws.com/2024-09-18/buildings.pmtiles\n",
    "    * Style: Blue fill with 0.4 opacity, red outline."
   ]
  },
  {
   "cell_type": "code",
   "execution_count": 34,
   "metadata": {},
   "outputs": [],
   "source": [
    "release = \"2024-09-18\"\n",
    "theme = \"buildings\"\n",
    "url = f\"https://overturemaps-tiles-us-west-2-beta.s3.amazonaws.com/{release}/{theme}.pmtiles\""
   ]
  },
  {
   "cell_type": "code",
   "execution_count": 35,
   "metadata": {},
   "outputs": [],
   "source": [
    "style = {\n",
    "    \"version\": 8,\n",
    "    \"sources\": {\n",
    "        \"example_source\": {\n",
    "            \"type\": \"vector\",\n",
    "            \"url\": \"pmtiles://\" + url,\n",
    "            \"attribution\": \"PMTiles\",\n",
    "        }\n",
    "    },\n",
    "    \"layers\": [\n",
    "        {\n",
    "            \"id\": \"Building\",\n",
    "            \"source\": \"example_source\",\n",
    "            \"source-layer\": \"building\",\n",
    "            \"type\": \"fill\",\n",
    "            \"paint\": {\n",
    "                \"fill-color\": \"#002aff\",\n",
    "                \"fill-opacity\": 0.4,\n",
    "                \"fill-outline-color\": \"#ff0000\",\n",
    "            },\n",
    "        },\n",
    "    ],\n",
    "}"
   ]
  },
  {
   "cell_type": "code",
   "execution_count": 36,
   "metadata": {},
   "outputs": [
    {
     "data": {
      "application/vnd.jupyter.widget-view+json": {
       "model_id": "25e51574b02e4093bbd33fcb1b68d3d7",
       "version_major": 2,
       "version_minor": 0
      },
      "text/plain": [
       "Map(center=[47.65350739, -117.59664999], controls=(ZoomControl(options=['position', 'zoom_in_text', 'zoom_in_t…"
      ]
     },
     "execution_count": 36,
     "metadata": {},
     "output_type": "execute_result"
    }
   ],
   "source": [
    "m = leafmap.Map(center=[47.65350739, -117.59664999], zoom=16)\n",
    "m.add_basemap(\"Satellite\")\n",
    "m.add_pmtiles(url, style=style, layer_name=\"Buildings\", zoom_to_layer=False)\n",
    "m"
   ]
  },
  {
   "cell_type": "markdown",
   "metadata": {},
   "source": [
    "![image](https://github.com/user-attachments/assets/4ee08461-c962-4c37-8979-7105f588842a)"
   ]
  },
  {
   "cell_type": "markdown",
   "metadata": {},
   "source": [
    "## Exercise 8: Visualizing Cloud Optimized GeoTIFFs (COGs)\n",
    "\n",
    "1. Visualize Digital Elevation Model (DEM) data using the following COG file:\n",
    "    - URL: https://github.com/opengeos/datasets/releases/download/raster/dem.tif\n",
    "    - Apply a terrain colormap to show elevation values."
   ]
  },
  {
   "cell_type": "code",
   "execution_count": 45,
   "metadata": {},
   "outputs": [
    {
     "data": {
      "application/vnd.jupyter.widget-view+json": {
       "model_id": "2942ce5338c844b08df77bb4ae6e8cc4",
       "version_major": 2,
       "version_minor": 0
      },
      "text/plain": [
       "Map(center=[39.494897, -108.507278], controls=(ZoomControl(options=['position', 'zoom_in_text', 'zoom_in_title…"
      ]
     },
     "execution_count": 45,
     "metadata": {},
     "output_type": "execute_result"
    }
   ],
   "source": [
    "m = leafmap.Map(center=[39.494897, -108.507278], zoom=10)\n",
    "url = \"https://github.com/opengeos/datasets/releases/download/raster/dem.tif\"\n",
    "m.add_cog_layer(\n",
    "    url, name=\"Digital Elevation Model\", palette=\"terrain\", vmin=0, vmax=2000\n",
    ")\n",
    "m.add_colormap(cmap=\"terrain\", vmin=0, vmax=1600, label=\"Elevation (m)\")\n",
    "m"
   ]
  },
  {
   "cell_type": "markdown",
   "metadata": {},
   "source": [
    "![image](https://github.com/user-attachments/assets/21e1f7dd-466e-4880-94a5-0365bf1495dc)"
   ]
  },
  {
   "cell_type": "markdown",
   "metadata": {},
   "source": [
    "## Exercise 9: Visualizing Local Raster Data\n",
    "\n",
    "1. Visualize the following raster datasets using the Map.add_raster() method:\n",
    "\n",
    "    * Aerial Imagery: https://github.com/opengeos/datasets/releases/download/places/wa_building_image.tif\n",
    "    * Building Footprints: https://github.com/opengeos/datasets/releases/download/places/wa_building_masks.tif (use the \"tab20\" colormap and opacity of 0.7)"
   ]
  },
  {
   "cell_type": "code",
   "execution_count": 1,
   "metadata": {},
   "outputs": [],
   "source": [
    "import leafmap"
   ]
  },
  {
   "cell_type": "code",
   "execution_count": 2,
   "metadata": {},
   "outputs": [
    {
     "name": "stderr",
     "output_type": "stream",
     "text": [
      "Downloading...\n",
      "From: https://github.com/opengeos/datasets/releases/download/places/wa_building_image.tif\n",
      "To: /home/zyang91/Desktop/intro-to-gis/lab/wa_building_image.tif\n",
      "100%|██████████| 9.32M/9.32M [00:01<00:00, 7.95MB/s]\n"
     ]
    },
    {
     "data": {
      "text/plain": [
       "'/home/zyang91/Desktop/intro-to-gis/lab/wa_building_image.tif'"
      ]
     },
     "execution_count": 2,
     "metadata": {},
     "output_type": "execute_result"
    }
   ],
   "source": [
    "url = \"https://github.com/opengeos/datasets/releases/download/places/wa_building_image.tif\"\n",
    "filename = \"wa_building_image.tif\"\n",
    "leafmap.download_file(url, filename)"
   ]
  },
  {
   "cell_type": "code",
   "execution_count": 5,
   "metadata": {},
   "outputs": [],
   "source": [
    "import rioxarray"
   ]
  },
  {
   "cell_type": "code",
   "execution_count": 6,
   "metadata": {},
   "outputs": [
    {
     "data": {
      "text/html": [
       "<div><svg style=\"position: absolute; width: 0; height: 0; overflow: hidden\">\n",
       "<defs>\n",
       "<symbol id=\"icon-database\" viewBox=\"0 0 32 32\">\n",
       "<path d=\"M16 0c-8.837 0-16 2.239-16 5v4c0 2.761 7.163 5 16 5s16-2.239 16-5v-4c0-2.761-7.163-5-16-5z\"></path>\n",
       "<path d=\"M16 17c-8.837 0-16-2.239-16-5v6c0 2.761 7.163 5 16 5s16-2.239 16-5v-6c0 2.761-7.163 5-16 5z\"></path>\n",
       "<path d=\"M16 26c-8.837 0-16-2.239-16-5v6c0 2.761 7.163 5 16 5s16-2.239 16-5v-6c0 2.761-7.163 5-16 5z\"></path>\n",
       "</symbol>\n",
       "<symbol id=\"icon-file-text2\" viewBox=\"0 0 32 32\">\n",
       "<path d=\"M28.681 7.159c-0.694-0.947-1.662-2.053-2.724-3.116s-2.169-2.030-3.116-2.724c-1.612-1.182-2.393-1.319-2.841-1.319h-15.5c-1.378 0-2.5 1.121-2.5 2.5v27c0 1.378 1.122 2.5 2.5 2.5h23c1.378 0 2.5-1.122 2.5-2.5v-19.5c0-0.448-0.137-1.23-1.319-2.841zM24.543 5.457c0.959 0.959 1.712 1.825 2.268 2.543h-4.811v-4.811c0.718 0.556 1.584 1.309 2.543 2.268zM28 29.5c0 0.271-0.229 0.5-0.5 0.5h-23c-0.271 0-0.5-0.229-0.5-0.5v-27c0-0.271 0.229-0.5 0.5-0.5 0 0 15.499-0 15.5 0v7c0 0.552 0.448 1 1 1h7v19.5z\"></path>\n",
       "<path d=\"M23 26h-14c-0.552 0-1-0.448-1-1s0.448-1 1-1h14c0.552 0 1 0.448 1 1s-0.448 1-1 1z\"></path>\n",
       "<path d=\"M23 22h-14c-0.552 0-1-0.448-1-1s0.448-1 1-1h14c0.552 0 1 0.448 1 1s-0.448 1-1 1z\"></path>\n",
       "<path d=\"M23 18h-14c-0.552 0-1-0.448-1-1s0.448-1 1-1h14c0.552 0 1 0.448 1 1s-0.448 1-1 1z\"></path>\n",
       "</symbol>\n",
       "</defs>\n",
       "</svg>\n",
       "<style>/* CSS stylesheet for displaying xarray objects in jupyterlab.\n",
       " *\n",
       " */\n",
       "\n",
       ":root {\n",
       "  --xr-font-color0: var(\n",
       "    --jp-content-font-color0,\n",
       "    var(--pst-color-text-base rgba(0, 0, 0, 1))\n",
       "  );\n",
       "  --xr-font-color2: var(\n",
       "    --jp-content-font-color2,\n",
       "    var(--pst-color-text-base, rgba(0, 0, 0, 0.54))\n",
       "  );\n",
       "  --xr-font-color3: var(\n",
       "    --jp-content-font-color3,\n",
       "    var(--pst-color-text-base, rgba(0, 0, 0, 0.38))\n",
       "  );\n",
       "  --xr-border-color: var(\n",
       "    --jp-border-color2,\n",
       "    hsl(from var(--pst-color-on-background, white) h s calc(l - 10))\n",
       "  );\n",
       "  --xr-disabled-color: var(\n",
       "    --jp-layout-color3,\n",
       "    hsl(from var(--pst-color-on-background, white) h s calc(l - 40))\n",
       "  );\n",
       "  --xr-background-color: var(\n",
       "    --jp-layout-color0,\n",
       "    var(--pst-color-on-background, white)\n",
       "  );\n",
       "  --xr-background-color-row-even: var(\n",
       "    --jp-layout-color1,\n",
       "    hsl(from var(--pst-color-on-background, white) h s calc(l - 5))\n",
       "  );\n",
       "  --xr-background-color-row-odd: var(\n",
       "    --jp-layout-color2,\n",
       "    hsl(from var(--pst-color-on-background, white) h s calc(l - 15))\n",
       "  );\n",
       "}\n",
       "\n",
       "html[theme=\"dark\"],\n",
       "html[data-theme=\"dark\"],\n",
       "body[data-theme=\"dark\"],\n",
       "body.vscode-dark {\n",
       "  --xr-font-color0: var(\n",
       "    --jp-content-font-color0,\n",
       "    var(--pst-color-text-base, rgba(255, 255, 255, 1))\n",
       "  );\n",
       "  --xr-font-color2: var(\n",
       "    --jp-content-font-color2,\n",
       "    var(--pst-color-text-base, rgba(255, 255, 255, 0.54))\n",
       "  );\n",
       "  --xr-font-color3: var(\n",
       "    --jp-content-font-color3,\n",
       "    var(--pst-color-text-base, rgba(255, 255, 255, 0.38))\n",
       "  );\n",
       "  --xr-border-color: var(\n",
       "    --jp-border-color2,\n",
       "    hsl(from var(--pst-color-on-background, #111111) h s calc(l + 10))\n",
       "  );\n",
       "  --xr-disabled-color: var(\n",
       "    --jp-layout-color3,\n",
       "    hsl(from var(--pst-color-on-background, #111111) h s calc(l + 40))\n",
       "  );\n",
       "  --xr-background-color: var(\n",
       "    --jp-layout-color0,\n",
       "    var(--pst-color-on-background, #111111)\n",
       "  );\n",
       "  --xr-background-color-row-even: var(\n",
       "    --jp-layout-color1,\n",
       "    hsl(from var(--pst-color-on-background, #111111) h s calc(l + 5))\n",
       "  );\n",
       "  --xr-background-color-row-odd: var(\n",
       "    --jp-layout-color2,\n",
       "    hsl(from var(--pst-color-on-background, #111111) h s calc(l + 15))\n",
       "  );\n",
       "}\n",
       "\n",
       ".xr-wrap {\n",
       "  display: block !important;\n",
       "  min-width: 300px;\n",
       "  max-width: 700px;\n",
       "}\n",
       "\n",
       ".xr-text-repr-fallback {\n",
       "  /* fallback to plain text repr when CSS is not injected (untrusted notebook) */\n",
       "  display: none;\n",
       "}\n",
       "\n",
       ".xr-header {\n",
       "  padding-top: 6px;\n",
       "  padding-bottom: 6px;\n",
       "  margin-bottom: 4px;\n",
       "  border-bottom: solid 1px var(--xr-border-color);\n",
       "}\n",
       "\n",
       ".xr-header > div,\n",
       ".xr-header > ul {\n",
       "  display: inline;\n",
       "  margin-top: 0;\n",
       "  margin-bottom: 0;\n",
       "}\n",
       "\n",
       ".xr-obj-type,\n",
       ".xr-array-name {\n",
       "  margin-left: 2px;\n",
       "  margin-right: 10px;\n",
       "}\n",
       "\n",
       ".xr-obj-type {\n",
       "  color: var(--xr-font-color2);\n",
       "}\n",
       "\n",
       ".xr-sections {\n",
       "  padding-left: 0 !important;\n",
       "  display: grid;\n",
       "  grid-template-columns: 150px auto auto 1fr 0 20px 0 20px;\n",
       "}\n",
       "\n",
       ".xr-section-item {\n",
       "  display: contents;\n",
       "}\n",
       "\n",
       ".xr-section-item input {\n",
       "  display: inline-block;\n",
       "  opacity: 0;\n",
       "  height: 0;\n",
       "}\n",
       "\n",
       ".xr-section-item input + label {\n",
       "  color: var(--xr-disabled-color);\n",
       "  border: 2px solid transparent !important;\n",
       "}\n",
       "\n",
       ".xr-section-item input:enabled + label {\n",
       "  cursor: pointer;\n",
       "  color: var(--xr-font-color2);\n",
       "}\n",
       "\n",
       ".xr-section-item input:focus + label {\n",
       "  border: 2px solid var(--xr-font-color0) !important;\n",
       "}\n",
       "\n",
       ".xr-section-item input:enabled + label:hover {\n",
       "  color: var(--xr-font-color0);\n",
       "}\n",
       "\n",
       ".xr-section-summary {\n",
       "  grid-column: 1;\n",
       "  color: var(--xr-font-color2);\n",
       "  font-weight: 500;\n",
       "}\n",
       "\n",
       ".xr-section-summary > span {\n",
       "  display: inline-block;\n",
       "  padding-left: 0.5em;\n",
       "}\n",
       "\n",
       ".xr-section-summary-in:disabled + label {\n",
       "  color: var(--xr-font-color2);\n",
       "}\n",
       "\n",
       ".xr-section-summary-in + label:before {\n",
       "  display: inline-block;\n",
       "  content: \"►\";\n",
       "  font-size: 11px;\n",
       "  width: 15px;\n",
       "  text-align: center;\n",
       "}\n",
       "\n",
       ".xr-section-summary-in:disabled + label:before {\n",
       "  color: var(--xr-disabled-color);\n",
       "}\n",
       "\n",
       ".xr-section-summary-in:checked + label:before {\n",
       "  content: \"▼\";\n",
       "}\n",
       "\n",
       ".xr-section-summary-in:checked + label > span {\n",
       "  display: none;\n",
       "}\n",
       "\n",
       ".xr-section-summary,\n",
       ".xr-section-inline-details {\n",
       "  padding-top: 4px;\n",
       "  padding-bottom: 4px;\n",
       "}\n",
       "\n",
       ".xr-section-inline-details {\n",
       "  grid-column: 2 / -1;\n",
       "}\n",
       "\n",
       ".xr-section-details {\n",
       "  display: none;\n",
       "  grid-column: 1 / -1;\n",
       "  margin-bottom: 5px;\n",
       "}\n",
       "\n",
       ".xr-section-summary-in:checked ~ .xr-section-details {\n",
       "  display: contents;\n",
       "}\n",
       "\n",
       ".xr-array-wrap {\n",
       "  grid-column: 1 / -1;\n",
       "  display: grid;\n",
       "  grid-template-columns: 20px auto;\n",
       "}\n",
       "\n",
       ".xr-array-wrap > label {\n",
       "  grid-column: 1;\n",
       "  vertical-align: top;\n",
       "}\n",
       "\n",
       ".xr-preview {\n",
       "  color: var(--xr-font-color3);\n",
       "}\n",
       "\n",
       ".xr-array-preview,\n",
       ".xr-array-data {\n",
       "  padding: 0 5px !important;\n",
       "  grid-column: 2;\n",
       "}\n",
       "\n",
       ".xr-array-data,\n",
       ".xr-array-in:checked ~ .xr-array-preview {\n",
       "  display: none;\n",
       "}\n",
       "\n",
       ".xr-array-in:checked ~ .xr-array-data,\n",
       ".xr-array-preview {\n",
       "  display: inline-block;\n",
       "}\n",
       "\n",
       ".xr-dim-list {\n",
       "  display: inline-block !important;\n",
       "  list-style: none;\n",
       "  padding: 0 !important;\n",
       "  margin: 0;\n",
       "}\n",
       "\n",
       ".xr-dim-list li {\n",
       "  display: inline-block;\n",
       "  padding: 0;\n",
       "  margin: 0;\n",
       "}\n",
       "\n",
       ".xr-dim-list:before {\n",
       "  content: \"(\";\n",
       "}\n",
       "\n",
       ".xr-dim-list:after {\n",
       "  content: \")\";\n",
       "}\n",
       "\n",
       ".xr-dim-list li:not(:last-child):after {\n",
       "  content: \",\";\n",
       "  padding-right: 5px;\n",
       "}\n",
       "\n",
       ".xr-has-index {\n",
       "  font-weight: bold;\n",
       "}\n",
       "\n",
       ".xr-var-list,\n",
       ".xr-var-item {\n",
       "  display: contents;\n",
       "}\n",
       "\n",
       ".xr-var-item > div,\n",
       ".xr-var-item label,\n",
       ".xr-var-item > .xr-var-name span {\n",
       "  background-color: var(--xr-background-color-row-even);\n",
       "  border-color: var(--xr-background-color-row-odd);\n",
       "  margin-bottom: 0;\n",
       "  padding-top: 2px;\n",
       "}\n",
       "\n",
       ".xr-var-item > .xr-var-name:hover span {\n",
       "  padding-right: 5px;\n",
       "}\n",
       "\n",
       ".xr-var-list > li:nth-child(odd) > div,\n",
       ".xr-var-list > li:nth-child(odd) > label,\n",
       ".xr-var-list > li:nth-child(odd) > .xr-var-name span {\n",
       "  background-color: var(--xr-background-color-row-odd);\n",
       "  border-color: var(--xr-background-color-row-even);\n",
       "}\n",
       "\n",
       ".xr-var-name {\n",
       "  grid-column: 1;\n",
       "}\n",
       "\n",
       ".xr-var-dims {\n",
       "  grid-column: 2;\n",
       "}\n",
       "\n",
       ".xr-var-dtype {\n",
       "  grid-column: 3;\n",
       "  text-align: right;\n",
       "  color: var(--xr-font-color2);\n",
       "}\n",
       "\n",
       ".xr-var-preview {\n",
       "  grid-column: 4;\n",
       "}\n",
       "\n",
       ".xr-index-preview {\n",
       "  grid-column: 2 / 5;\n",
       "  color: var(--xr-font-color2);\n",
       "}\n",
       "\n",
       ".xr-var-name,\n",
       ".xr-var-dims,\n",
       ".xr-var-dtype,\n",
       ".xr-preview,\n",
       ".xr-attrs dt {\n",
       "  white-space: nowrap;\n",
       "  overflow: hidden;\n",
       "  text-overflow: ellipsis;\n",
       "  padding-right: 10px;\n",
       "}\n",
       "\n",
       ".xr-var-name:hover,\n",
       ".xr-var-dims:hover,\n",
       ".xr-var-dtype:hover,\n",
       ".xr-attrs dt:hover {\n",
       "  overflow: visible;\n",
       "  width: auto;\n",
       "  z-index: 1;\n",
       "}\n",
       "\n",
       ".xr-var-attrs,\n",
       ".xr-var-data,\n",
       ".xr-index-data {\n",
       "  display: none;\n",
       "  border-top: 2px dotted var(--xr-background-color);\n",
       "  padding-bottom: 20px !important;\n",
       "  padding-top: 10px !important;\n",
       "}\n",
       "\n",
       ".xr-var-attrs-in + label,\n",
       ".xr-var-data-in + label,\n",
       ".xr-index-data-in + label {\n",
       "  padding: 0 1px;\n",
       "}\n",
       "\n",
       ".xr-var-attrs-in:checked ~ .xr-var-attrs,\n",
       ".xr-var-data-in:checked ~ .xr-var-data,\n",
       ".xr-index-data-in:checked ~ .xr-index-data {\n",
       "  display: block;\n",
       "}\n",
       "\n",
       ".xr-var-data > table {\n",
       "  float: right;\n",
       "}\n",
       "\n",
       ".xr-var-data > pre,\n",
       ".xr-index-data > pre,\n",
       ".xr-var-data > table > tbody > tr {\n",
       "  background-color: transparent !important;\n",
       "}\n",
       "\n",
       ".xr-var-name span,\n",
       ".xr-var-data,\n",
       ".xr-index-name div,\n",
       ".xr-index-data,\n",
       ".xr-attrs {\n",
       "  padding-left: 25px !important;\n",
       "}\n",
       "\n",
       ".xr-attrs,\n",
       ".xr-var-attrs,\n",
       ".xr-var-data,\n",
       ".xr-index-data {\n",
       "  grid-column: 1 / -1;\n",
       "}\n",
       "\n",
       "dl.xr-attrs {\n",
       "  padding: 0;\n",
       "  margin: 0;\n",
       "  display: grid;\n",
       "  grid-template-columns: 125px auto;\n",
       "}\n",
       "\n",
       ".xr-attrs dt,\n",
       ".xr-attrs dd {\n",
       "  padding: 0;\n",
       "  margin: 0;\n",
       "  float: left;\n",
       "  padding-right: 10px;\n",
       "  width: auto;\n",
       "}\n",
       "\n",
       ".xr-attrs dt {\n",
       "  font-weight: normal;\n",
       "  grid-column: 1;\n",
       "}\n",
       "\n",
       ".xr-attrs dt:hover span {\n",
       "  display: inline-block;\n",
       "  background: var(--xr-background-color);\n",
       "  padding-right: 10px;\n",
       "}\n",
       "\n",
       ".xr-attrs dd {\n",
       "  grid-column: 2;\n",
       "  white-space: pre-wrap;\n",
       "  word-break: break-all;\n",
       "}\n",
       "\n",
       ".xr-icon-database,\n",
       ".xr-icon-file-text2,\n",
       ".xr-no-icon {\n",
       "  display: inline-block;\n",
       "  vertical-align: middle;\n",
       "  width: 1em;\n",
       "  height: 1.5em !important;\n",
       "  stroke-width: 0;\n",
       "  stroke: currentColor;\n",
       "  fill: currentColor;\n",
       "}\n",
       "\n",
       ".xr-var-attrs-in:checked + label > .xr-icon-file-text2,\n",
       ".xr-var-data-in:checked + label > .xr-icon-database,\n",
       ".xr-index-data-in:checked + label > .xr-icon-database {\n",
       "  color: var(--xr-font-color0);\n",
       "  filter: drop-shadow(1px 1px 5px var(--xr-font-color2));\n",
       "  stroke-width: 0.8px;\n",
       "}\n",
       "</style><pre class='xr-text-repr-fallback'>&lt;xarray.DataArray (band: 3, y: 1743, x: 1734)&gt; Size: 9MB\n",
       "[9067086 values with dtype=uint8]\n",
       "Coordinates:\n",
       "  * band         (band) int64 24B 1 2 3\n",
       "  * x            (x) float64 14kB -1.309e+07 -1.309e+07 ... -1.309e+07\n",
       "  * y            (y) float64 14kB 6.05e+06 6.05e+06 ... 6.049e+06 6.049e+06\n",
       "    spatial_ref  int64 8B 0\n",
       "Attributes:\n",
       "    OVR_RESAMPLING_ALG:  NEAREST\n",
       "    AREA_OR_POINT:       Area\n",
       "    scale_factor:        1.0\n",
       "    add_offset:          0.0</pre><div class='xr-wrap' style='display:none'><div class='xr-header'><div class='xr-obj-type'>xarray.DataArray</div><div class='xr-array-name'></div><ul class='xr-dim-list'><li><span class='xr-has-index'>band</span>: 3</li><li><span class='xr-has-index'>y</span>: 1743</li><li><span class='xr-has-index'>x</span>: 1734</li></ul></div><ul class='xr-sections'><li class='xr-section-item'><div class='xr-array-wrap'><input id='section-c56ba156-6ab5-4598-ad7b-5fecacbd3bb2' class='xr-array-in' type='checkbox' checked><label for='section-c56ba156-6ab5-4598-ad7b-5fecacbd3bb2' title='Show/hide data repr'><svg class='icon xr-icon-database'><use xlink:href='#icon-database'></use></svg></label><div class='xr-array-preview xr-preview'><span>...</span></div><div class='xr-array-data'><pre>[9067086 values with dtype=uint8]</pre></div></div></li><li class='xr-section-item'><input id='section-4891cf69-1168-4901-a8c7-233d48584404' class='xr-section-summary-in' type='checkbox'  checked><label for='section-4891cf69-1168-4901-a8c7-233d48584404' class='xr-section-summary' >Coordinates: <span>(4)</span></label><div class='xr-section-inline-details'></div><div class='xr-section-details'><ul class='xr-var-list'><li class='xr-var-item'><div class='xr-var-name'><span class='xr-has-index'>band</span></div><div class='xr-var-dims'>(band)</div><div class='xr-var-dtype'>int64</div><div class='xr-var-preview xr-preview'>1 2 3</div><input id='attrs-29bd977d-e290-48e3-8f0f-698b5e133c33' class='xr-var-attrs-in' type='checkbox' disabled><label for='attrs-29bd977d-e290-48e3-8f0f-698b5e133c33' title='Show/Hide attributes'><svg class='icon xr-icon-file-text2'><use xlink:href='#icon-file-text2'></use></svg></label><input id='data-e47eb93f-bd78-492b-99e9-0d5af5f2ccac' class='xr-var-data-in' type='checkbox'><label for='data-e47eb93f-bd78-492b-99e9-0d5af5f2ccac' title='Show/Hide data repr'><svg class='icon xr-icon-database'><use xlink:href='#icon-database'></use></svg></label><div class='xr-var-attrs'><dl class='xr-attrs'></dl></div><div class='xr-var-data'><pre>array([1, 2, 3])</pre></div></li><li class='xr-var-item'><div class='xr-var-name'><span class='xr-has-index'>x</span></div><div class='xr-var-dims'>(x)</div><div class='xr-var-dtype'>float64</div><div class='xr-var-preview xr-preview'>-1.309e+07 ... -1.309e+07</div><input id='attrs-26709ffc-ed3b-45fd-9444-2aa8f1daddd8' class='xr-var-attrs-in' type='checkbox' disabled><label for='attrs-26709ffc-ed3b-45fd-9444-2aa8f1daddd8' title='Show/Hide attributes'><svg class='icon xr-icon-file-text2'><use xlink:href='#icon-file-text2'></use></svg></label><input id='data-b0db3f18-c2d0-4e30-beeb-02ab0bb3414b' class='xr-var-data-in' type='checkbox'><label for='data-b0db3f18-c2d0-4e30-beeb-02ab0bb3414b' title='Show/Hide data repr'><svg class='icon xr-icon-database'><use xlink:href='#icon-database'></use></svg></label><div class='xr-var-attrs'><dl class='xr-attrs'></dl></div><div class='xr-var-data'><pre>array([-13091494.645291, -13091494.048249, -13091493.451207, ...,\n",
       "       -13090461.165154, -13090460.568111, -13090459.971069], shape=(1734,))</pre></div></li><li class='xr-var-item'><div class='xr-var-name'><span class='xr-has-index'>y</span></div><div class='xr-var-dims'>(y)</div><div class='xr-var-dtype'>float64</div><div class='xr-var-preview xr-preview'>6.05e+06 6.05e+06 ... 6.049e+06</div><input id='attrs-fb5464b3-8b5d-4322-8ecc-0690be5945a6' class='xr-var-attrs-in' type='checkbox' disabled><label for='attrs-fb5464b3-8b5d-4322-8ecc-0690be5945a6' title='Show/Hide attributes'><svg class='icon xr-icon-file-text2'><use xlink:href='#icon-file-text2'></use></svg></label><input id='data-d5c56798-6996-42cc-9c52-98d8fbb890bb' class='xr-var-data-in' type='checkbox'><label for='data-d5c56798-6996-42cc-9c52-98d8fbb890bb' title='Show/Hide data repr'><svg class='icon xr-icon-database'><use xlink:href='#icon-database'></use></svg></label><div class='xr-var-attrs'><dl class='xr-attrs'></dl></div><div class='xr-var-data'><pre>array([6049864.392097, 6049863.794785, 6049863.197472, ..., 6048825.069104,\n",
       "       6048824.471792, 6048823.87448 ], shape=(1743,))</pre></div></li><li class='xr-var-item'><div class='xr-var-name'><span>spatial_ref</span></div><div class='xr-var-dims'>()</div><div class='xr-var-dtype'>int64</div><div class='xr-var-preview xr-preview'>0</div><input id='attrs-2bde787c-26e4-4337-8f34-6546601e39e2' class='xr-var-attrs-in' type='checkbox' ><label for='attrs-2bde787c-26e4-4337-8f34-6546601e39e2' title='Show/Hide attributes'><svg class='icon xr-icon-file-text2'><use xlink:href='#icon-file-text2'></use></svg></label><input id='data-550d1a3b-72f3-48db-8ae2-92dca421ec40' class='xr-var-data-in' type='checkbox'><label for='data-550d1a3b-72f3-48db-8ae2-92dca421ec40' title='Show/Hide data repr'><svg class='icon xr-icon-database'><use xlink:href='#icon-database'></use></svg></label><div class='xr-var-attrs'><dl class='xr-attrs'><dt><span>crs_wkt :</span></dt><dd>PROJCS[&quot;WGS 84 / Pseudo-Mercator&quot;,GEOGCS[&quot;WGS 84&quot;,DATUM[&quot;WGS_1984&quot;,SPHEROID[&quot;WGS 84&quot;,6378137,298.257223563,AUTHORITY[&quot;EPSG&quot;,&quot;7030&quot;]],AUTHORITY[&quot;EPSG&quot;,&quot;6326&quot;]],PRIMEM[&quot;Greenwich&quot;,0,AUTHORITY[&quot;EPSG&quot;,&quot;8901&quot;]],UNIT[&quot;degree&quot;,0.0174532925199433,AUTHORITY[&quot;EPSG&quot;,&quot;9122&quot;]],AUTHORITY[&quot;EPSG&quot;,&quot;4326&quot;]],PROJECTION[&quot;Mercator_1SP&quot;],PARAMETER[&quot;central_meridian&quot;,0],PARAMETER[&quot;scale_factor&quot;,1],PARAMETER[&quot;false_easting&quot;,0],PARAMETER[&quot;false_northing&quot;,0],UNIT[&quot;metre&quot;,1,AUTHORITY[&quot;EPSG&quot;,&quot;9001&quot;]],AXIS[&quot;Easting&quot;,EAST],AXIS[&quot;Northing&quot;,NORTH],EXTENSION[&quot;PROJ4&quot;,&quot;+proj=merc +a=6378137 +b=6378137 +lat_ts=0 +lon_0=0 +x_0=0 +y_0=0 +k=1 +units=m +nadgrids=@null +wktext +no_defs&quot;],AUTHORITY[&quot;EPSG&quot;,&quot;3857&quot;]]</dd><dt><span>spatial_ref :</span></dt><dd>PROJCS[&quot;WGS 84 / Pseudo-Mercator&quot;,GEOGCS[&quot;WGS 84&quot;,DATUM[&quot;WGS_1984&quot;,SPHEROID[&quot;WGS 84&quot;,6378137,298.257223563,AUTHORITY[&quot;EPSG&quot;,&quot;7030&quot;]],AUTHORITY[&quot;EPSG&quot;,&quot;6326&quot;]],PRIMEM[&quot;Greenwich&quot;,0,AUTHORITY[&quot;EPSG&quot;,&quot;8901&quot;]],UNIT[&quot;degree&quot;,0.0174532925199433,AUTHORITY[&quot;EPSG&quot;,&quot;9122&quot;]],AUTHORITY[&quot;EPSG&quot;,&quot;4326&quot;]],PROJECTION[&quot;Mercator_1SP&quot;],PARAMETER[&quot;central_meridian&quot;,0],PARAMETER[&quot;scale_factor&quot;,1],PARAMETER[&quot;false_easting&quot;,0],PARAMETER[&quot;false_northing&quot;,0],UNIT[&quot;metre&quot;,1,AUTHORITY[&quot;EPSG&quot;,&quot;9001&quot;]],AXIS[&quot;Easting&quot;,EAST],AXIS[&quot;Northing&quot;,NORTH],EXTENSION[&quot;PROJ4&quot;,&quot;+proj=merc +a=6378137 +b=6378137 +lat_ts=0 +lon_0=0 +x_0=0 +y_0=0 +k=1 +units=m +nadgrids=@null +wktext +no_defs&quot;],AUTHORITY[&quot;EPSG&quot;,&quot;3857&quot;]]</dd><dt><span>GeoTransform :</span></dt><dd>-13091494.943812273 0.5970422516597356 0.0 6049864.690752617 0.0 -0.5973120648200168</dd></dl></div><div class='xr-var-data'><pre>array(0)</pre></div></li></ul></div></li><li class='xr-section-item'><input id='section-b2d534a3-044f-4fa8-a2c5-585a8174db86' class='xr-section-summary-in' type='checkbox'  ><label for='section-b2d534a3-044f-4fa8-a2c5-585a8174db86' class='xr-section-summary' >Indexes: <span>(3)</span></label><div class='xr-section-inline-details'></div><div class='xr-section-details'><ul class='xr-var-list'><li class='xr-var-item'><div class='xr-index-name'><div>band</div></div><div class='xr-index-preview'>PandasIndex</div><input type='checkbox' disabled/><label></label><input id='index-b573caa8-1327-4e1c-a55d-fc18c12cf9de' class='xr-index-data-in' type='checkbox'/><label for='index-b573caa8-1327-4e1c-a55d-fc18c12cf9de' title='Show/Hide index repr'><svg class='icon xr-icon-database'><use xlink:href='#icon-database'></use></svg></label><div class='xr-index-data'><pre>PandasIndex(Index([1, 2, 3], dtype=&#x27;int64&#x27;, name=&#x27;band&#x27;))</pre></div></li><li class='xr-var-item'><div class='xr-index-name'><div>x</div></div><div class='xr-index-preview'>PandasIndex</div><input type='checkbox' disabled/><label></label><input id='index-c5d13e9d-e553-450b-84fe-77e14905c368' class='xr-index-data-in' type='checkbox'/><label for='index-c5d13e9d-e553-450b-84fe-77e14905c368' title='Show/Hide index repr'><svg class='icon xr-icon-database'><use xlink:href='#icon-database'></use></svg></label><div class='xr-index-data'><pre>PandasIndex(Index([-13091494.645291148, -13091494.048248896, -13091493.451206645,\n",
       "       -13091492.854164394,  -13091492.25712214, -13091491.660079889,\n",
       "       -13091491.063037638, -13091490.465995386, -13091489.868953135,\n",
       "       -13091489.271910883,\n",
       "       ...\n",
       "       -13090465.344449287, -13090464.747407034, -13090464.150364783,\n",
       "       -13090463.553322531,  -13090462.95628028, -13090462.359238029,\n",
       "       -13090461.762195777, -13090461.165153524, -13090460.568111273,\n",
       "       -13090459.971069021],\n",
       "      dtype=&#x27;float64&#x27;, name=&#x27;x&#x27;, length=1734))</pre></div></li><li class='xr-var-item'><div class='xr-index-name'><div>y</div></div><div class='xr-index-preview'>PandasIndex</div><input type='checkbox' disabled/><label></label><input id='index-fb414cab-8d60-4a17-869c-8aea9c5bcc57' class='xr-index-data-in' type='checkbox'/><label for='index-fb414cab-8d60-4a17-869c-8aea9c5bcc57' title='Show/Hide index repr'><svg class='icon xr-icon-database'><use xlink:href='#icon-database'></use></svg></label><div class='xr-index-data'><pre>PandasIndex(Index([6049864.392096585,  6049863.79478452, 6049863.197472455,\n",
       "        6049862.60016039, 6049862.002848325,  6049861.40553626,\n",
       "       6049860.808224196, 6049860.210912131, 6049859.613600066,\n",
       "       6049859.016288001,\n",
       "       ...\n",
       "       6048829.250288252, 6048828.652976187, 6048828.055664122,\n",
       "       6048827.458352057, 6048826.861039992, 6048826.263727928,\n",
       "       6048825.666415863, 6048825.069103798, 6048824.471791733,\n",
       "       6048823.874479668],\n",
       "      dtype=&#x27;float64&#x27;, name=&#x27;y&#x27;, length=1743))</pre></div></li></ul></div></li><li class='xr-section-item'><input id='section-cf1cd472-51e3-464e-bda5-c2d6595398b9' class='xr-section-summary-in' type='checkbox'  checked><label for='section-cf1cd472-51e3-464e-bda5-c2d6595398b9' class='xr-section-summary' >Attributes: <span>(4)</span></label><div class='xr-section-inline-details'></div><div class='xr-section-details'><dl class='xr-attrs'><dt><span>OVR_RESAMPLING_ALG :</span></dt><dd>NEAREST</dd><dt><span>AREA_OR_POINT :</span></dt><dd>Area</dd><dt><span>scale_factor :</span></dt><dd>1.0</dd><dt><span>add_offset :</span></dt><dd>0.0</dd></dl></div></li></ul></div></div>"
      ],
      "text/plain": [
       "<xarray.DataArray (band: 3, y: 1743, x: 1734)> Size: 9MB\n",
       "[9067086 values with dtype=uint8]\n",
       "Coordinates:\n",
       "  * band         (band) int64 24B 1 2 3\n",
       "  * x            (x) float64 14kB -1.309e+07 -1.309e+07 ... -1.309e+07\n",
       "  * y            (y) float64 14kB 6.05e+06 6.05e+06 ... 6.049e+06 6.049e+06\n",
       "    spatial_ref  int64 8B 0\n",
       "Attributes:\n",
       "    OVR_RESAMPLING_ALG:  NEAREST\n",
       "    AREA_OR_POINT:       Area\n",
       "    scale_factor:        1.0\n",
       "    add_offset:          0.0"
      ]
     },
     "execution_count": 6,
     "metadata": {},
     "output_type": "execute_result"
    }
   ],
   "source": [
    "xr_data = rioxarray.open_rasterio(filename)\n",
    "xr_data"
   ]
  },
  {
   "cell_type": "code",
   "execution_count": 7,
   "metadata": {},
   "outputs": [
    {
     "data": {
      "application/vnd.jupyter.widget-view+json": {
       "model_id": "f3d1e876d2144226bc49e9b73cffe08c",
       "version_major": 2,
       "version_minor": 0
      },
      "text/plain": [
       "Map(center=[47.65315, -117.59825000000001], controls=(ZoomControl(options=['position', 'zoom_in_text', 'zoom_i…"
      ]
     },
     "execution_count": 7,
     "metadata": {},
     "output_type": "execute_result"
    }
   ],
   "source": [
    "m = leafmap.Map()\n",
    "m.add_raster(filename, index=[1, 2, 3], layer_name=\"Building Image\")\n",
    "m"
   ]
  },
  {
   "cell_type": "code",
   "execution_count": 8,
   "metadata": {},
   "outputs": [
    {
     "name": "stderr",
     "output_type": "stream",
     "text": [
      "Downloading...\n",
      "From: https://github.com/opengeos/datasets/releases/download/places/wa_building_masks.tif\n",
      "To: /home/zyang91/Desktop/intro-to-gis/lab/wa_building_masks.tif\n",
      "100%|██████████| 59.0k/59.0k [00:00<00:00, 1.85MB/s]\n"
     ]
    },
    {
     "data": {
      "text/plain": [
       "'/home/zyang91/Desktop/intro-to-gis/lab/wa_building_masks.tif'"
      ]
     },
     "execution_count": 8,
     "metadata": {},
     "output_type": "execute_result"
    }
   ],
   "source": [
    "url = \"https://github.com/opengeos/datasets/releases/download/places/wa_building_masks.tif\"\n",
    "filename = \"wa_building_masks.tif\"\n",
    "leafmap.download_file(url, filename)"
   ]
  },
  {
   "cell_type": "code",
   "execution_count": 11,
   "metadata": {},
   "outputs": [],
   "source": [
    "m.add_raster(\n",
    "    filename, colormap=\"tab20\", layer_name=\"Building Masks\", opacity=0.7, nodata=0\n",
    ")"
   ]
  },
  {
   "cell_type": "markdown",
   "metadata": {},
   "source": [
    "![image](https://github.com/user-attachments/assets/faf7c345-6a3f-4ca0-8eca-7417e6568867)"
   ]
  },
  {
   "cell_type": "markdown",
   "metadata": {},
   "source": [
    "## Exercise 10: Creating a Split Map\n",
    "\n",
    "1. Create a split map to compare imagery of Libya before and after the 2023 flood event:\n",
    "\n",
    "    * Pre-event imagery: https://github.com/opengeos/datasets/releases/download/raster/Libya-2023-07-01.tif\n",
    "    * Post-event imagery: https://github.com/opengeos/datasets/releases/download/raster/Libya-2023-09-13.tif"
   ]
  },
  {
   "cell_type": "code",
   "execution_count": 46,
   "metadata": {},
   "outputs": [],
   "source": [
    "pre_event = (\n",
    "    \"https://github.com/opengeos/datasets/releases/download/raster/Libya-2023-07-01.tif\"\n",
    ")\n",
    "post_event = (\n",
    "    \"https://github.com/opengeos/datasets/releases/download/raster/Libya-2023-09-13.tif\"\n",
    ")"
   ]
  },
  {
   "cell_type": "code",
   "execution_count": 47,
   "metadata": {},
   "outputs": [
    {
     "data": {
      "application/vnd.jupyter.widget-view+json": {
       "model_id": "8107c3b5017445348dcf0dd16d49bfb4",
       "version_major": 2,
       "version_minor": 0
      },
      "text/plain": [
       "Map(center=[20, 0], controls=(ZoomControl(options=['position', 'zoom_in_text', 'zoom_in_title', 'zoom_out_text…"
      ]
     },
     "execution_count": 47,
     "metadata": {},
     "output_type": "execute_result"
    }
   ],
   "source": [
    "m = leafmap.Map()\n",
    "m.split_map(\n",
    "    left_layer=pre_event,\n",
    "    right_layer=post_event,\n",
    "    left_label=\"Pre-event\",\n",
    "    right_label=\"Post-event\",\n",
    ")\n",
    "m"
   ]
  },
  {
   "cell_type": "markdown",
   "metadata": {},
   "source": [
    "![image](https://github.com/user-attachments/assets/8cab4f1c-2dba-4652-a644-3ce6be4bbbd2)"
   ]
  }
 ],
 "metadata": {
  "kernelspec": {
   "display_name": "geosptial",
   "language": "python",
   "name": "python3"
  },
  "language_info": {
   "codemirror_mode": {
    "name": "ipython",
    "version": 3
   },
   "file_extension": ".py",
   "mimetype": "text/x-python",
   "name": "python",
   "nbconvert_exporter": "python",
   "pygments_lexer": "ipython3",
   "version": "3.13.5"
  }
 },
 "nbformat": 4,
 "nbformat_minor": 2
}
