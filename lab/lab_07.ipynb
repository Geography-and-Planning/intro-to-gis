{
 "cells": [
  {
   "cell_type": "markdown",
   "metadata": {},
   "source": [
    "# Lab 7\n",
    "\n",
    "[![Open In Colab](https://colab.research.google.com/assets/colab-badge.svg)](https://colab.research.google.com/github/giswqs/geog-312/blob/main/book/labs/lab_07.ipynb)\n",
    "\n",
    "## Overview\n",
    "\n",
    "In this lab, you will delve deeper into Leafmap, a powerful Python package for interactive geospatial mapping and analysis. You will explore how to work with various types of raster and vector data, customize basemaps and map layers, and visualize data using Cloud Optimized GeoTIFFs (COGs), PMTiles, GeoParquet, and other formats. You will also learn how to enhance your maps with advanced features like legends, colorbars, marker clusters, and split maps for comparison.\n",
    "\n",
    "## Objective\n",
    "\n",
    "* Create and customize interactive maps using Leafmap.\n",
    "* Add and configure basemaps, XYZ tile layers, and WMS layers.\n",
    "* Visualize various raster formats such as GeoTIFF, Cloud Optimized GeoTIFF (COG), and multi-band imagery.\n",
    "* Explore vector data visualization, including marker clusters and choropleth maps.\n",
    "* Implement advanced mapping features like legends, colorbars, and split map comparisons."
   ]
  },
  {
   "cell_type": "markdown",
   "metadata": {},
   "source": [
    "## Exercise 1: Creating an Interactive Map\n",
    "\n",
    "1. Create an interactive map with search functionality that allows users to search for places and zoom to them. Disable the draw control on the map."
   ]
  },
  {
   "cell_type": "code",
   "execution_count": 1,
   "metadata": {},
   "outputs": [],
   "source": [
    "import leafmap"
   ]
  },
  {
   "cell_type": "code",
   "execution_count": 2,
   "metadata": {},
   "outputs": [
    {
     "data": {
      "application/vnd.jupyter.widget-view+json": {
       "model_id": "a7cb09f2ece04758b8839ac00b7c19f6",
       "version_major": 2,
       "version_minor": 0
      },
      "text/plain": [
       "Map(center=[35.96, -83.92], controls=(ZoomControl(options=['position', 'zoom_in_text', 'zoom_in_title', 'zoom_…"
      ]
     },
     "execution_count": 2,
     "metadata": {},
     "output_type": "execute_result"
    }
   ],
   "source": [
    "m = leafmap.Map(center=(35.96, -83.92), zoom=10, draw_control=False)\n",
    "url = \"https://nominatim.openstreetmap.org/search?format=json&q={s}\"\n",
    "m.add_search_control(url, zoom=10, position=\"topleft\")\n",
    "m"
   ]
  },
  {
   "cell_type": "markdown",
   "metadata": {},
   "source": [
    "![image](https://github.com/user-attachments/assets/b930fb63-3bd1-4d7e-9bf8-87e6d398e5c3)"
   ]
  },
  {
   "cell_type": "markdown",
   "metadata": {},
   "source": [
    "## Exercise 2: Adding XYZ and WMS Tile Layers\n",
    "\n",
    "1. Add a custom XYZ tile layer ([USGS Topographic basemap](https://apps.nationalmap.gov/services)) using the following URL:\n",
    "   - URL: `https://basemap.nationalmap.gov/arcgis/rest/services/USGSTopo/MapServer/tile/{z}/{y}/{x}`\n",
    "2. **Not Valid anymore** Add two WMS layers to visualize NAIP imagery and NDVI using a USGS WMS service. \n",
    "   - URL: `https://imagery.nationalmap.gov/arcgis/services/USGSNAIPImagery/ImageServer/WMSServer?`\n",
    "   - Layer names: `USGSNAIPImagery:FalseColorComposite`, `USGSNAIPImagery:NDVI_Color`"
   ]
  },
  {
   "cell_type": "code",
   "execution_count": 3,
   "metadata": {},
   "outputs": [
    {
     "data": {
      "application/vnd.jupyter.widget-view+json": {
       "model_id": "26fe6b48b29d4d46b4e795bfb677810b",
       "version_major": 2,
       "version_minor": 0
      },
      "text/plain": [
       "Map(center=[20, 0], controls=(ZoomControl(options=['position', 'zoom_in_text', 'zoom_in_title', 'zoom_out_text…"
      ]
     },
     "execution_count": 3,
     "metadata": {},
     "output_type": "execute_result"
    }
   ],
   "source": [
    "m = leafmap.Map()\n",
    "m.add_tile_layer(\n",
    "    url=\"https://basemap.nationalmap.gov/arcgis/rest/services/USGSTopo/MapServer/tile/{z}/{y}/{x}\",\n",
    "    name=\"USGS Topo\",\n",
    "    attribution=\"USGS\",\n",
    ")\n",
    "m"
   ]
  },
  {
   "cell_type": "markdown",
   "metadata": {},
   "source": [
    "![image](https://github.com/user-attachments/assets/28dd8511-a0ac-4b44-ab02-9ed791817043)"
   ]
  },
  {
   "cell_type": "code",
   "execution_count": 4,
   "metadata": {},
   "outputs": [
    {
     "data": {
      "application/vnd.jupyter.widget-view+json": {
       "model_id": "b9b9c2bf56b048db859a38d29679179b",
       "version_major": 2,
       "version_minor": 0
      },
      "text/plain": [
       "Map(center=[40, -100], controls=(ZoomControl(options=['position', 'zoom_in_text', 'zoom_in_title', 'zoom_out_t…"
      ]
     },
     "execution_count": 4,
     "metadata": {},
     "output_type": "execute_result"
    }
   ],
   "source": [
    "m = leafmap.Map(center=(40, -100), zoom=4)\n",
    "m.add_wms_layer(\n",
    "    url=\"https://imagery.nationalmap.gov/arcgis/services/USGSNAIPImagery/ImageServer/WMSServer?\",\n",
    "    layers=\"USGSNAIPImagery:FalseColorComposite\",\n",
    "    name=\"NAIP Imagery\",\n",
    "    attribution=\"USGS\",\n",
    "    format=\"image/png\",\n",
    "    shown=True,\n",
    ")\n",
    "m"
   ]
  },
  {
   "cell_type": "code",
   "execution_count": 5,
   "metadata": {},
   "outputs": [
    {
     "data": {
      "application/vnd.jupyter.widget-view+json": {
       "model_id": "b9b9c2bf56b048db859a38d29679179b",
       "version_major": 2,
       "version_minor": 0
      },
      "text/plain": [
       "Map(center=[40, -100], controls=(ZoomControl(options=['position', 'zoom_in_text', 'zoom_in_title', 'zoom_out_t…"
      ]
     },
     "execution_count": 5,
     "metadata": {},
     "output_type": "execute_result"
    }
   ],
   "source": [
    "m.add_wms_layer(\n",
    "    url=\"https://imagery.nationalmap.gov/arcgis/services/USGSNAIPImagery/ImageServer/WMSServer?\",\n",
    "    layers=\"USGSNAIPImagery:NDVI_Color\",\n",
    "    name=\"NAIP NDVI\",\n",
    "    attribution=\"USGS\",\n",
    "    format=\"image/png\",\n",
    "    shown=True,\n",
    ")\n",
    "m"
   ]
  },
  {
   "cell_type": "markdown",
   "metadata": {},
   "source": [
    "![image](https://github.com/user-attachments/assets/719c1e07-f955-42d6-985c-b5842c9eac4c)"
   ]
  },
  {
   "cell_type": "markdown",
   "metadata": {},
   "source": [
    "## Exercise 3: Adding Map Legends\n",
    "\n",
    "1. Add the [ESA World Cover](https://esa-worldcover.org/en) WMS tile layer to the map.\n",
    "    - URL: `https://services.terrascope.be/wms/v2?`\n",
    "    - Layer name: `WORLDCOVER_2021_MAP`\n",
    "2. Add a legend to the map using the leafmap built-in `ESA_WorldCover` legend."
   ]
  },
  {
   "cell_type": "code",
   "execution_count": 6,
   "metadata": {},
   "outputs": [
    {
     "data": {
      "application/vnd.jupyter.widget-view+json": {
       "model_id": "ec9719791d2b4af6a2972ae0a09b271e",
       "version_major": 2,
       "version_minor": 0
      },
      "text/plain": [
       "Map(center=[20, 0], controls=(ZoomControl(options=['position', 'zoom_in_text', 'zoom_in_title', 'zoom_out_text…"
      ]
     },
     "execution_count": 6,
     "metadata": {},
     "output_type": "execute_result"
    }
   ],
   "source": [
    "m = leafmap.Map()\n",
    "m.add_wms_layer(\n",
    "    url=\"https://services.terrascope.be/wms/v2?\",\n",
    "    layers=\"WORLDCOVER_2021_MAP\",\n",
    "    name=\"WorldCover 2021\",\n",
    "    attribution=\"ESA\",\n",
    "    shown=True,\n",
    ")\n",
    "m"
   ]
  },
  {
   "cell_type": "code",
   "execution_count": 7,
   "metadata": {},
   "outputs": [],
   "source": [
    "m.add_legend(title=\"ESA Land Cover Type\", builtin_legend=\"ESA_WorldCover\")"
   ]
  },
  {
   "cell_type": "markdown",
   "metadata": {},
   "source": [
    "![image](https://github.com/user-attachments/assets/be5a9b07-4f6c-4245-9737-31db2df14f7f)"
   ]
  },
  {
   "cell_type": "markdown",
   "metadata": {},
   "source": [
    "## Exercise 4: Creating Marker Clusters\n",
    "\n",
    "1. Create a marker cluster visualization from a GeoJSON file of building centroids:\n",
    "    - URL: https://github.com/opengeos/datasets/releases/download/places/wa_building_centroids.geojson\n",
    "    - Hint: Read the GeoJSON file using GeoPandas and add \"latitude\" and \"longitude\" columns to the GeoDataFrame.\n",
    "2. Create circle markers for each building centroid using the `Map.add_circle_markers_from_xy()` method with the following styling:\n",
    "    * Radius: 5\n",
    "    * Outline color: \"red\"\n",
    "    * Fill color: \"yellow\"\n",
    "    * Fill opacity: 0.8"
   ]
  },
  {
   "cell_type": "code",
   "execution_count": 8,
   "metadata": {},
   "outputs": [
    {
     "data": {
      "text/html": [
       "<div>\n",
       "<style scoped>\n",
       "    .dataframe tbody tr th:only-of-type {\n",
       "        vertical-align: middle;\n",
       "    }\n",
       "\n",
       "    .dataframe tbody tr th {\n",
       "        vertical-align: top;\n",
       "    }\n",
       "\n",
       "    .dataframe thead th {\n",
       "        text-align: right;\n",
       "    }\n",
       "</style>\n",
       "<table border=\"1\" class=\"dataframe\">\n",
       "  <thead>\n",
       "    <tr style=\"text-align: right;\">\n",
       "      <th></th>\n",
       "      <th>Class</th>\n",
       "      <th>Confidence</th>\n",
       "      <th>Shape_Leng</th>\n",
       "      <th>Shape_Area</th>\n",
       "      <th>geometry</th>\n",
       "    </tr>\n",
       "  </thead>\n",
       "  <tbody>\n",
       "    <tr>\n",
       "      <th>0</th>\n",
       "      <td>1</td>\n",
       "      <td>28.905460</td>\n",
       "      <td>68.457069</td>\n",
       "      <td>292.568026</td>\n",
       "      <td>POINT (-117.60109 47.65499)</td>\n",
       "    </tr>\n",
       "    <tr>\n",
       "      <th>1</th>\n",
       "      <td>1</td>\n",
       "      <td>99.420196</td>\n",
       "      <td>97.152785</td>\n",
       "      <td>556.702899</td>\n",
       "      <td>POINT (-117.59953 47.65533)</td>\n",
       "    </tr>\n",
       "    <tr>\n",
       "      <th>2</th>\n",
       "      <td>1</td>\n",
       "      <td>95.450807</td>\n",
       "      <td>90.916993</td>\n",
       "      <td>492.940128</td>\n",
       "      <td>POINT (-117.59991 47.65514)</td>\n",
       "    </tr>\n",
       "    <tr>\n",
       "      <th>3</th>\n",
       "      <td>1</td>\n",
       "      <td>91.446453</td>\n",
       "      <td>85.645123</td>\n",
       "      <td>453.842109</td>\n",
       "      <td>POINT (-117.59953 47.65575)</td>\n",
       "    </tr>\n",
       "    <tr>\n",
       "      <th>4</th>\n",
       "      <td>1</td>\n",
       "      <td>90.172392</td>\n",
       "      <td>78.057638</td>\n",
       "      <td>380.403649</td>\n",
       "      <td>POINT (-117.59989 47.65534)</td>\n",
       "    </tr>\n",
       "    <tr>\n",
       "      <th>...</th>\n",
       "      <td>...</td>\n",
       "      <td>...</td>\n",
       "      <td>...</td>\n",
       "      <td>...</td>\n",
       "      <td>...</td>\n",
       "    </tr>\n",
       "    <tr>\n",
       "      <th>264</th>\n",
       "      <td>1</td>\n",
       "      <td>97.903937</td>\n",
       "      <td>118.104570</td>\n",
       "      <td>871.108950</td>\n",
       "      <td>POINT (-117.59608 47.65027)</td>\n",
       "    </tr>\n",
       "    <tr>\n",
       "      <th>265</th>\n",
       "      <td>1</td>\n",
       "      <td>99.787593</td>\n",
       "      <td>99.553885</td>\n",
       "      <td>601.413628</td>\n",
       "      <td>POINT (-117.5943 47.65023)</td>\n",
       "    </tr>\n",
       "    <tr>\n",
       "      <th>266</th>\n",
       "      <td>1</td>\n",
       "      <td>73.798037</td>\n",
       "      <td>92.227436</td>\n",
       "      <td>476.532518</td>\n",
       "      <td>POINT (-117.59385 47.65021)</td>\n",
       "    </tr>\n",
       "    <tr>\n",
       "      <th>267</th>\n",
       "      <td>1</td>\n",
       "      <td>84.850258</td>\n",
       "      <td>164.656782</td>\n",
       "      <td>1632.982925</td>\n",
       "      <td>POINT (-117.59377 47.65025)</td>\n",
       "    </tr>\n",
       "    <tr>\n",
       "      <th>268</th>\n",
       "      <td>1</td>\n",
       "      <td>58.151555</td>\n",
       "      <td>55.734711</td>\n",
       "      <td>182.307253</td>\n",
       "      <td>POINT (-117.59368 47.6503)</td>\n",
       "    </tr>\n",
       "  </tbody>\n",
       "</table>\n",
       "<p>269 rows × 5 columns</p>\n",
       "</div>"
      ],
      "text/plain": [
       "    Class  Confidence  Shape_Leng   Shape_Area                     geometry\n",
       "0       1   28.905460   68.457069   292.568026  POINT (-117.60109 47.65499)\n",
       "1       1   99.420196   97.152785   556.702899  POINT (-117.59953 47.65533)\n",
       "2       1   95.450807   90.916993   492.940128  POINT (-117.59991 47.65514)\n",
       "3       1   91.446453   85.645123   453.842109  POINT (-117.59953 47.65575)\n",
       "4       1   90.172392   78.057638   380.403649  POINT (-117.59989 47.65534)\n",
       "..    ...         ...         ...          ...                          ...\n",
       "264     1   97.903937  118.104570   871.108950  POINT (-117.59608 47.65027)\n",
       "265     1   99.787593   99.553885   601.413628   POINT (-117.5943 47.65023)\n",
       "266     1   73.798037   92.227436   476.532518  POINT (-117.59385 47.65021)\n",
       "267     1   84.850258  164.656782  1632.982925  POINT (-117.59377 47.65025)\n",
       "268     1   58.151555   55.734711   182.307253   POINT (-117.59368 47.6503)\n",
       "\n",
       "[269 rows x 5 columns]"
      ]
     },
     "execution_count": 8,
     "metadata": {},
     "output_type": "execute_result"
    }
   ],
   "source": [
    "import geopandas as gpd\n",
    "\n",
    "url = \"https://github.com/opengeos/datasets/releases/download/places/wa_building_centroids.geojson\"\n",
    "gdf = gpd.read_file(url)\n",
    "gdf"
   ]
  },
  {
   "cell_type": "code",
   "execution_count": 9,
   "metadata": {},
   "outputs": [
    {
     "data": {
      "text/html": [
       "<div>\n",
       "<style scoped>\n",
       "    .dataframe tbody tr th:only-of-type {\n",
       "        vertical-align: middle;\n",
       "    }\n",
       "\n",
       "    .dataframe tbody tr th {\n",
       "        vertical-align: top;\n",
       "    }\n",
       "\n",
       "    .dataframe thead th {\n",
       "        text-align: right;\n",
       "    }\n",
       "</style>\n",
       "<table border=\"1\" class=\"dataframe\">\n",
       "  <thead>\n",
       "    <tr style=\"text-align: right;\">\n",
       "      <th></th>\n",
       "      <th>Class</th>\n",
       "      <th>Confidence</th>\n",
       "      <th>Shape_Leng</th>\n",
       "      <th>Shape_Area</th>\n",
       "      <th>geometry</th>\n",
       "      <th>latitude</th>\n",
       "      <th>longitude</th>\n",
       "    </tr>\n",
       "  </thead>\n",
       "  <tbody>\n",
       "    <tr>\n",
       "      <th>0</th>\n",
       "      <td>1</td>\n",
       "      <td>28.905460</td>\n",
       "      <td>68.457069</td>\n",
       "      <td>292.568026</td>\n",
       "      <td>POINT (-117.60109 47.65499)</td>\n",
       "      <td>47.654993</td>\n",
       "      <td>-117.601092</td>\n",
       "    </tr>\n",
       "    <tr>\n",
       "      <th>1</th>\n",
       "      <td>1</td>\n",
       "      <td>99.420196</td>\n",
       "      <td>97.152785</td>\n",
       "      <td>556.702899</td>\n",
       "      <td>POINT (-117.59953 47.65533)</td>\n",
       "      <td>47.655326</td>\n",
       "      <td>-117.599525</td>\n",
       "    </tr>\n",
       "    <tr>\n",
       "      <th>2</th>\n",
       "      <td>1</td>\n",
       "      <td>95.450807</td>\n",
       "      <td>90.916993</td>\n",
       "      <td>492.940128</td>\n",
       "      <td>POINT (-117.59991 47.65514)</td>\n",
       "      <td>47.655143</td>\n",
       "      <td>-117.599910</td>\n",
       "    </tr>\n",
       "    <tr>\n",
       "      <th>3</th>\n",
       "      <td>1</td>\n",
       "      <td>91.446453</td>\n",
       "      <td>85.645123</td>\n",
       "      <td>453.842109</td>\n",
       "      <td>POINT (-117.59953 47.65575)</td>\n",
       "      <td>47.655747</td>\n",
       "      <td>-117.599532</td>\n",
       "    </tr>\n",
       "    <tr>\n",
       "      <th>4</th>\n",
       "      <td>1</td>\n",
       "      <td>90.172392</td>\n",
       "      <td>78.057638</td>\n",
       "      <td>380.403649</td>\n",
       "      <td>POINT (-117.59989 47.65534)</td>\n",
       "      <td>47.655336</td>\n",
       "      <td>-117.599892</td>\n",
       "    </tr>\n",
       "    <tr>\n",
       "      <th>...</th>\n",
       "      <td>...</td>\n",
       "      <td>...</td>\n",
       "      <td>...</td>\n",
       "      <td>...</td>\n",
       "      <td>...</td>\n",
       "      <td>...</td>\n",
       "      <td>...</td>\n",
       "    </tr>\n",
       "    <tr>\n",
       "      <th>264</th>\n",
       "      <td>1</td>\n",
       "      <td>97.903937</td>\n",
       "      <td>118.104570</td>\n",
       "      <td>871.108950</td>\n",
       "      <td>POINT (-117.59608 47.65027)</td>\n",
       "      <td>47.650275</td>\n",
       "      <td>-117.596083</td>\n",
       "    </tr>\n",
       "    <tr>\n",
       "      <th>265</th>\n",
       "      <td>1</td>\n",
       "      <td>99.787593</td>\n",
       "      <td>99.553885</td>\n",
       "      <td>601.413628</td>\n",
       "      <td>POINT (-117.5943 47.65023)</td>\n",
       "      <td>47.650228</td>\n",
       "      <td>-117.594302</td>\n",
       "    </tr>\n",
       "    <tr>\n",
       "      <th>266</th>\n",
       "      <td>1</td>\n",
       "      <td>73.798037</td>\n",
       "      <td>92.227436</td>\n",
       "      <td>476.532518</td>\n",
       "      <td>POINT (-117.59385 47.65021)</td>\n",
       "      <td>47.650212</td>\n",
       "      <td>-117.593853</td>\n",
       "    </tr>\n",
       "    <tr>\n",
       "      <th>267</th>\n",
       "      <td>1</td>\n",
       "      <td>84.850258</td>\n",
       "      <td>164.656782</td>\n",
       "      <td>1632.982925</td>\n",
       "      <td>POINT (-117.59377 47.65025)</td>\n",
       "      <td>47.650251</td>\n",
       "      <td>-117.593774</td>\n",
       "    </tr>\n",
       "    <tr>\n",
       "      <th>268</th>\n",
       "      <td>1</td>\n",
       "      <td>58.151555</td>\n",
       "      <td>55.734711</td>\n",
       "      <td>182.307253</td>\n",
       "      <td>POINT (-117.59368 47.6503)</td>\n",
       "      <td>47.650301</td>\n",
       "      <td>-117.593681</td>\n",
       "    </tr>\n",
       "  </tbody>\n",
       "</table>\n",
       "<p>269 rows × 7 columns</p>\n",
       "</div>"
      ],
      "text/plain": [
       "    Class  Confidence  Shape_Leng   Shape_Area                     geometry  \\\n",
       "0       1   28.905460   68.457069   292.568026  POINT (-117.60109 47.65499)   \n",
       "1       1   99.420196   97.152785   556.702899  POINT (-117.59953 47.65533)   \n",
       "2       1   95.450807   90.916993   492.940128  POINT (-117.59991 47.65514)   \n",
       "3       1   91.446453   85.645123   453.842109  POINT (-117.59953 47.65575)   \n",
       "4       1   90.172392   78.057638   380.403649  POINT (-117.59989 47.65534)   \n",
       "..    ...         ...         ...          ...                          ...   \n",
       "264     1   97.903937  118.104570   871.108950  POINT (-117.59608 47.65027)   \n",
       "265     1   99.787593   99.553885   601.413628   POINT (-117.5943 47.65023)   \n",
       "266     1   73.798037   92.227436   476.532518  POINT (-117.59385 47.65021)   \n",
       "267     1   84.850258  164.656782  1632.982925  POINT (-117.59377 47.65025)   \n",
       "268     1   58.151555   55.734711   182.307253   POINT (-117.59368 47.6503)   \n",
       "\n",
       "      latitude   longitude  \n",
       "0    47.654993 -117.601092  \n",
       "1    47.655326 -117.599525  \n",
       "2    47.655143 -117.599910  \n",
       "3    47.655747 -117.599532  \n",
       "4    47.655336 -117.599892  \n",
       "..         ...         ...  \n",
       "264  47.650275 -117.596083  \n",
       "265  47.650228 -117.594302  \n",
       "266  47.650212 -117.593853  \n",
       "267  47.650251 -117.593774  \n",
       "268  47.650301 -117.593681  \n",
       "\n",
       "[269 rows x 7 columns]"
      ]
     },
     "execution_count": 9,
     "metadata": {},
     "output_type": "execute_result"
    }
   ],
   "source": [
    "gdf[\"latitude\"] = gdf.geometry.y\n",
    "gdf[\"longitude\"] = gdf.geometry.x\n",
    "gdf"
   ]
  },
  {
   "cell_type": "code",
   "execution_count": 10,
   "metadata": {},
   "outputs": [
    {
     "data": {
      "application/vnd.jupyter.widget-view+json": {
       "model_id": "4d09841302cc444ca046ffd4fcb33ae3",
       "version_major": 2,
       "version_minor": 0
      },
      "text/plain": [
       "Map(center=[20, 0], controls=(ZoomControl(options=['position', 'zoom_in_text', 'zoom_in_title', 'zoom_out_text…"
      ]
     },
     "execution_count": 10,
     "metadata": {},
     "output_type": "execute_result"
    }
   ],
   "source": [
    "m = leafmap.Map()\n",
    "m.add_basemap(\"Esri.WorldImagery\")\n",
    "m.add_marker_cluster(\n",
    "    gdf, latitude=\"latitude\", longitude=\"longitude\", layer_name=\"Buildings\",\n",
    ")\n",
    "m.zoom_to_bounds(gdf.total_bounds)\n",
    "m"
   ]
  },
  {
   "cell_type": "markdown",
   "metadata": {},
   "source": [
    "![image](https://github.com/user-attachments/assets/d60cbfc7-b8c9-4cab-8852-bc34e82fd665)"
   ]
  },
  {
   "cell_type": "code",
   "execution_count": 11,
   "metadata": {},
   "outputs": [
    {
     "data": {
      "application/vnd.jupyter.widget-view+json": {
       "model_id": "95d32e60fad041b88d1b1c098d0d7c7e",
       "version_major": 2,
       "version_minor": 0
      },
      "text/plain": [
       "Map(center=[20, 0], controls=(ZoomControl(options=['position', 'zoom_in_text', 'zoom_in_title', 'zoom_out_text…"
      ]
     },
     "execution_count": 11,
     "metadata": {},
     "output_type": "execute_result"
    }
   ],
   "source": [
    "m = leafmap.Map()\n",
    "m.add_basemap(\"Esri.WorldImagery\")\n",
    "m.add_circle_markers_from_xy(\n",
    "    gdf,\n",
    "    x=\"longitude\",\n",
    "    y=\"latitude\",\n",
    "    radius=5,\n",
    "    color=\"red\",\n",
    "    fill_color=\"yellow\",\n",
    "    fill_opacity=0.8,\n",
    "    layer_name=\"Buildings\",\n",
    ")\n",
    "m.zoom_to_bounds(gdf.total_bounds)\n",
    "m"
   ]
  },
  {
   "cell_type": "markdown",
   "metadata": {},
   "source": [
    "![image](https://github.com/user-attachments/assets/637e00ae-89af-495e-84b4-e668e16cce88)"
   ]
  },
  {
   "cell_type": "markdown",
   "metadata": {},
   "source": [
    "## Exercise 5: Visualizing Vector Data\n",
    "\n",
    "1. Visualize the building polygons GeoJSON file and style it with:\n",
    "    * Outline color: \"red\"\n",
    "    * No fill color\n",
    "    * URL: https://github.com/opengeos/datasets/releases/download/places/wa_overture_buildings.geojson\n",
    "  \n",
    "2. Visualize the road polylines GeoJSON file and style it with:\n",
    "    * Line color: \"red\"\n",
    "    * Line width: 2\n",
    "    * URL: https://github.com/opengeos/datasets/releases/download/places/las_vegas_roads.geojson\n",
    "\n",
    "3. Create a choropleth map of county areas in the US:\n",
    "    * URL: https://github.com/opengeos/datasets/releases/download/us/us_counties.geojson\n",
    "    * Column: `CENSUSAREA`\n"
   ]
  },
  {
   "cell_type": "code",
   "execution_count": 12,
   "metadata": {},
   "outputs": [
    {
     "data": {
      "application/vnd.jupyter.widget-view+json": {
       "model_id": "879b860ce1b642a588be8aac78be7095",
       "version_major": 2,
       "version_minor": 0
      },
      "text/plain": [
       "Map(center=[20, 0], controls=(ZoomControl(options=['position', 'zoom_in_text', 'zoom_in_title', 'zoom_out_text…"
      ]
     },
     "execution_count": 12,
     "metadata": {},
     "output_type": "execute_result"
    }
   ],
   "source": [
    "m = leafmap.Map()\n",
    "m.add_basemap(\"Esri.WorldImagery\")\n",
    "url = \"https://github.com/opengeos/datasets/releases/download/places/wa_overture_buildings.geojson\"\n",
    "m.add_vector(url, layer_name=\"Buildings\", style={\"color\": \"red\", \"fillColor\": \"None\"},zoom_to_layer=True)\n",
    "m"
   ]
  },
  {
   "cell_type": "markdown",
   "metadata": {},
   "source": [
    "![image](https://github.com/user-attachments/assets/069eb704-c409-44ee-af9e-7582d1ab23a5)"
   ]
  },
  {
   "cell_type": "code",
   "execution_count": 13,
   "metadata": {},
   "outputs": [],
   "source": [
    "gdf= gpd.read_file(\"https://github.com/opengeos/datasets/releases/download/places/las_vegas_roads.geojson\")"
   ]
  },
  {
   "cell_type": "code",
   "execution_count": 14,
   "metadata": {},
   "outputs": [
    {
     "data": {
      "application/vnd.jupyter.widget-view+json": {
       "model_id": "3863dbaf6cb0440daeeb9a1acaf8c12f",
       "version_major": 2,
       "version_minor": 0
      },
      "text/plain": [
       "Map(center=[20, 0], controls=(ZoomControl(options=['position', 'zoom_in_text', 'zoom_in_title', 'zoom_out_text…"
      ]
     },
     "execution_count": 14,
     "metadata": {},
     "output_type": "execute_result"
    }
   ],
   "source": [
    "m= leafmap.Map()\n",
    "m.add_basemap(\"Esri.WorldImagery\")\n",
    "style= {\"color\": \"red\", \"weight\": 2}\n",
    "m.add_gdf(gdf, layer_name= \"Roads\", style= style, zoom_to_layer=True)\n",
    "m"
   ]
  },
  {
   "cell_type": "markdown",
   "metadata": {},
   "source": [
    "![image](https://github.com/user-attachments/assets/f28d19a6-4f60-484c-b2f7-c1ecce7ecb26)"
   ]
  },
  {
   "cell_type": "code",
   "execution_count": 20,
   "metadata": {},
   "outputs": [
    {
     "data": {
      "application/vnd.jupyter.widget-view+json": {
       "model_id": "ff212cb3f30e4f5b8d1006452e91fbaa",
       "version_major": 2,
       "version_minor": 0
      },
      "text/plain": [
       "Map(center=[40, -100], controls=(ZoomControl(options=['position', 'zoom_in_text', 'zoom_in_title', 'zoom_out_t…"
      ]
     },
     "execution_count": 20,
     "metadata": {},
     "output_type": "execute_result"
    }
   ],
   "source": [
    "m=leafmap.Map(center=(40, -100), zoom=4)\n",
    "data='https://github.com/opengeos/datasets/releases/download/us/us_counties.geojson'\n",
    "m.add_data(data, column= \"CENSUSAREA\",scheme=\"Quantiles\", cmap=\"YlOrRd\", legend_title=\"Census Area\")\n",
    "m"
   ]
  },
  {
   "cell_type": "markdown",
   "metadata": {},
   "source": [
    "![image](https://github.com/user-attachments/assets/3aa9f54f-64d7-4788-89f1-f3ab88c1aa2e)"
   ]
  },
  {
   "cell_type": "markdown",
   "metadata": {},
   "source": [
    "## Exercise 6: Visualizing GeoParquet Data\n",
    "\n",
    "1. Visualize GeoParquet data of US states:\n",
    "\n",
    "    - URL: https://github.com/opengeos/datasets/releases/download/us/us_states.parquet\n",
    "    - Style: Outline color of \"red\" with no fill."
   ]
  },
  {
   "cell_type": "code",
   "execution_count": 21,
   "metadata": {},
   "outputs": [
    {
     "name": "stderr",
     "output_type": "stream",
     "text": [
      "Downloading...\n",
      "From: https://github.com/opengeos/datasets/releases/download/us/us_states.parquet\n",
      "To: /home/zyang91/Desktop/intro-to-gis/lab/states.parquet\n",
      "100%|██████████| 51.2k/51.2k [00:00<00:00, 2.28MB/s]\n"
     ]
    },
    {
     "data": {
      "text/plain": [
       "'/home/zyang91/Desktop/intro-to-gis/lab/states.parquet'"
      ]
     },
     "execution_count": 21,
     "metadata": {},
     "output_type": "execute_result"
    }
   ],
   "source": [
    "url = \"https://github.com/opengeos/datasets/releases/download/us/us_states.parquet\"\n",
    "filename = \"states.parquet\"\n",
    "leafmap.download_file(url, filename)"
   ]
  },
  {
   "cell_type": "code",
   "execution_count": 22,
   "metadata": {},
   "outputs": [
    {
     "data": {
      "text/html": [
       "<div>\n",
       "<style scoped>\n",
       "    .dataframe tbody tr th:only-of-type {\n",
       "        vertical-align: middle;\n",
       "    }\n",
       "\n",
       "    .dataframe tbody tr th {\n",
       "        vertical-align: top;\n",
       "    }\n",
       "\n",
       "    .dataframe thead th {\n",
       "        text-align: right;\n",
       "    }\n",
       "</style>\n",
       "<table border=\"1\" class=\"dataframe\">\n",
       "  <thead>\n",
       "    <tr style=\"text-align: right;\">\n",
       "      <th></th>\n",
       "      <th>id</th>\n",
       "      <th>name</th>\n",
       "      <th>geometry</th>\n",
       "    </tr>\n",
       "  </thead>\n",
       "  <tbody>\n",
       "    <tr>\n",
       "      <th>0</th>\n",
       "      <td>AL</td>\n",
       "      <td>Alabama</td>\n",
       "      <td>POLYGON ((-87.3593 35.00118, -85.60668 34.9847...</td>\n",
       "    </tr>\n",
       "    <tr>\n",
       "      <th>1</th>\n",
       "      <td>AK</td>\n",
       "      <td>Alaska</td>\n",
       "      <td>MULTIPOLYGON (((-131.60202 55.11798, -131.5691...</td>\n",
       "    </tr>\n",
       "    <tr>\n",
       "      <th>2</th>\n",
       "      <td>AZ</td>\n",
       "      <td>Arizona</td>\n",
       "      <td>POLYGON ((-109.0425 37.00026, -109.04798 31.33...</td>\n",
       "    </tr>\n",
       "    <tr>\n",
       "      <th>3</th>\n",
       "      <td>AR</td>\n",
       "      <td>Arkansas</td>\n",
       "      <td>POLYGON ((-94.47384 36.50186, -90.15254 36.496...</td>\n",
       "    </tr>\n",
       "    <tr>\n",
       "      <th>4</th>\n",
       "      <td>CA</td>\n",
       "      <td>California</td>\n",
       "      <td>POLYGON ((-123.23326 42.00619, -122.37885 42.0...</td>\n",
       "    </tr>\n",
       "  </tbody>\n",
       "</table>\n",
       "</div>"
      ],
      "text/plain": [
       "   id        name                                           geometry\n",
       "0  AL     Alabama  POLYGON ((-87.3593 35.00118, -85.60668 34.9847...\n",
       "1  AK      Alaska  MULTIPOLYGON (((-131.60202 55.11798, -131.5691...\n",
       "2  AZ     Arizona  POLYGON ((-109.0425 37.00026, -109.04798 31.33...\n",
       "3  AR    Arkansas  POLYGON ((-94.47384 36.50186, -90.15254 36.496...\n",
       "4  CA  California  POLYGON ((-123.23326 42.00619, -122.37885 42.0..."
      ]
     },
     "execution_count": 22,
     "metadata": {},
     "output_type": "execute_result"
    }
   ],
   "source": [
    "gdf=gpd.read_parquet(\"states.parquet\")\n",
    "gdf.head()"
   ]
  },
  {
   "cell_type": "code",
   "execution_count": 23,
   "metadata": {},
   "outputs": [
    {
     "data": {
      "application/vnd.jupyter.widget-view+json": {
       "model_id": "431225ade5db4225a905048027fe5798",
       "version_major": 2,
       "version_minor": 0
      },
      "text/plain": [
       "Map(center=[40, -100], controls=(ZoomControl(options=['position', 'zoom_in_text', 'zoom_in_title', 'zoom_out_t…"
      ]
     },
     "execution_count": 23,
     "metadata": {},
     "output_type": "execute_result"
    }
   ],
   "source": [
    "m= leafmap.Map(center=(40, -100), zoom=4)\n",
    "style= {\"color\": \"red\", \"weight\": 1, \"fillColor\": \"None\"}\n",
    "m.add_gdf(gdf, layer_name= \"states\",style= style)\n",
    "m"
   ]
  },
  {
   "cell_type": "markdown",
   "metadata": {},
   "source": [
    "![image](https://github.com/user-attachments/assets/b6d9ec09-035b-4df7-8ab7-a7b4588f1e71)"
   ]
  },
  {
   "cell_type": "markdown",
   "metadata": {},
   "source": [
    "## Exercise 7: Visualizing PMTiles\n",
    "\n",
    "1. Visualize the Overture Maps building dataset using PMTiles:\n",
    "    * URL: https://overturemaps-tiles-us-west-2-beta.s3.amazonaws.com/2024-09-18/buildings.pmtiles\n",
    "    * Style: Blue fill with 0.4 opacity, red outline."
   ]
  },
  {
   "cell_type": "code",
   "execution_count": null,
   "metadata": {},
   "outputs": [],
   "source": []
  },
  {
   "cell_type": "markdown",
   "metadata": {},
   "source": [
    "![image](https://github.com/user-attachments/assets/4ee08461-c962-4c37-8979-7105f588842a)"
   ]
  },
  {
   "cell_type": "markdown",
   "metadata": {},
   "source": [
    "## Exercise 8: Visualizing Cloud Optimized GeoTIFFs (COGs)\n",
    "\n",
    "1. Visualize Digital Elevation Model (DEM) data using the following COG file:\n",
    "    - URL: https://github.com/opengeos/datasets/releases/download/raster/dem.tif\n",
    "    - Apply a terrain colormap to show elevation values."
   ]
  },
  {
   "cell_type": "code",
   "execution_count": null,
   "metadata": {},
   "outputs": [],
   "source": []
  },
  {
   "cell_type": "markdown",
   "metadata": {},
   "source": [
    "![image](https://github.com/user-attachments/assets/21e1f7dd-466e-4880-94a5-0365bf1495dc)"
   ]
  },
  {
   "cell_type": "markdown",
   "metadata": {},
   "source": [
    "## Exercise 9: Visualizing Local Raster Data\n",
    "\n",
    "1. Visualize the following raster datasets using the Map.add_raster() method:\n",
    "\n",
    "    * Aerial Imagery: https://github.com/opengeos/datasets/releases/download/places/wa_building_image.tif\n",
    "    * Building Footprints: https://github.com/opengeos/datasets/releases/download/places/wa_building_masks.tif (use the \"tab20\" colormap and opacity of 0.7)"
   ]
  },
  {
   "cell_type": "code",
   "execution_count": null,
   "metadata": {},
   "outputs": [],
   "source": []
  },
  {
   "cell_type": "markdown",
   "metadata": {},
   "source": [
    "![image](https://github.com/user-attachments/assets/faf7c345-6a3f-4ca0-8eca-7417e6568867)"
   ]
  },
  {
   "cell_type": "markdown",
   "metadata": {},
   "source": [
    "## Exercise 10: Creating a Split Map\n",
    "\n",
    "1. Create a split map to compare imagery of Libya before and after the 2023 flood event:\n",
    "\n",
    "    * Pre-event imagery: https://github.com/opengeos/datasets/releases/download/raster/Libya-2023-07-01.tif\n",
    "    * Post-event imagery: https://github.com/opengeos/datasets/releases/download/raster/Libya-2023-09-13.tif"
   ]
  },
  {
   "cell_type": "code",
   "execution_count": null,
   "metadata": {},
   "outputs": [],
   "source": []
  },
  {
   "cell_type": "markdown",
   "metadata": {},
   "source": [
    "![image](https://github.com/user-attachments/assets/8cab4f1c-2dba-4652-a644-3ce6be4bbbd2)"
   ]
  }
 ],
 "metadata": {
  "kernelspec": {
   "display_name": "geosptial",
   "language": "python",
   "name": "python3"
  },
  "language_info": {
   "codemirror_mode": {
    "name": "ipython",
    "version": 3
   },
   "file_extension": ".py",
   "mimetype": "text/x-python",
   "name": "python",
   "nbconvert_exporter": "python",
   "pygments_lexer": "ipython3",
   "version": "3.13.5"
  }
 },
 "nbformat": 4,
 "nbformat_minor": 2
}
