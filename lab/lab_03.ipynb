{
 "cells": [
  {
   "cell_type": "markdown",
   "id": "0",
   "metadata": {},
   "source": [
    "# Lab 3\n",
    "\n",
    "[![Open In Colab](https://colab.research.google.com/assets/colab-badge.svg)](https://colab.research.google.com/github/giswqs/geog-312/blob/main/book/labs/lab_03.ipynb)\n",
    "\n",
    "This notebook contains exercises based on the lectures on [**Functions and Classes**](https://geog-312.gishub.org/book/python/06_functions_classes.html) and [**Files and Exception Handling**](https://geog-312.gishub.org/book/python/07_files.html). These exercises will help reinforce the concepts of functions, classes, file handling, and exception management in geospatial contexts."
   ]
  },
  {
   "cell_type": "markdown",
   "id": "1",
   "metadata": {},
   "source": [
    "## Exercise 1: Calculating Distances with Functions\n",
    "\n",
    "- Define a function `calculate_distance` that takes two geographic coordinates (latitude and longitude) and returns the distance between them using the Haversine formula.\n",
    "- Use this function to calculate the distance between multiple pairs of coordinates."
   ]
  },
  {
   "cell_type": "code",
   "execution_count": 5,
   "id": "2",
   "metadata": {},
   "outputs": [],
   "source": [
    "def calculate_distance(coord1, coord2):\n",
    "    \"\"\"\n",
    "    Calculate the distance between two coordinates.\n",
    "\n",
    "    Parameters:\n",
    "    coord1 (tuple): A tuple containing latitude and longitude of the first coordinate.\n",
    "    coord2 (tuple): A tuple containing latitude and longitude of the second coordinate.\n",
    "\n",
    "    \"\"\"\n",
    "    from math import radians, sin, cos, sqrt, atan2\n",
    "\n",
    "    # Convert latitude and longitude from degrees to radians\n",
    "    lat1, lon1 = map(radians, coord1)\n",
    "    lat2, lon2 = map(radians, coord2)\n",
    "\n",
    "    # Haversine formula\n",
    "    dlon = lon2 - lon1\n",
    "    dlat = lat2 - lat1\n",
    "    a = sin(dlat / 2) ** 2 + cos(lat1) * cos(lat2) * sin(dlon / 2) ** 2\n",
    "    c = 2 * atan2(sqrt(a), sqrt(1 - a))\n",
    "\n",
    "    # Radius of Earth in kilometers (mean radius)\n",
    "    R = 6371.0\n",
    "\n",
    "    # Calculate the distance\n",
    "    distance = R * c\n",
    "\n",
    "    return distance"
   ]
  },
  {
   "cell_type": "code",
   "execution_count": 6,
   "id": "1ca9f0e7",
   "metadata": {},
   "outputs": [
    {
     "name": "stdout",
     "output_type": "stream",
     "text": [
      "The distance between the coordinates is: 3935.75 km\n"
     ]
    }
   ],
   "source": [
    "distance = calculate_distance((34.0522, -118.2437), (40.7128, -74.0060))\n",
    "print(f\"The distance between the coordinates is: {distance:.2f} km\")"
   ]
  },
  {
   "cell_type": "code",
   "execution_count": 7,
   "id": "3a52d68e",
   "metadata": {},
   "outputs": [
    {
     "name": "stdout",
     "output_type": "stream",
     "text": [
      "The distance between the coordinates is: 559.12 km\n"
     ]
    }
   ],
   "source": [
    "distance2 = calculate_distance((34.0522, -118.2437), (37.7749, -122.4194))\n",
    "print(f\"The distance between the coordinates is: {distance2:.2f} km\")"
   ]
  },
  {
   "cell_type": "code",
   "execution_count": 8,
   "id": "122d0e42",
   "metadata": {},
   "outputs": [
    {
     "name": "stdout",
     "output_type": "stream",
     "text": [
      "The distance between the coordinates is: 4066.57 km\n"
     ]
    }
   ],
   "source": [
    "distance = calculate_distance((34.0522, -119.8), (40.7128, -74.0060))\n",
    "print(f\"The distance between the coordinates is: {distance:.2f} km\")"
   ]
  },
  {
   "cell_type": "markdown",
   "id": "24d01fc1",
   "metadata": {},
   "source": [
    "## Alternative approaches"
   ]
  },
  {
   "cell_type": "code",
   "execution_count": 1,
   "id": "e43e57a4",
   "metadata": {},
   "outputs": [],
   "source": [
    "def haversine(lat1, lon1, lat2, lon2, radius=6371.0):\n",
    "    from math import radians, sin, cos, sqrt, atan2\n",
    "\n",
    "    dlat = radians(lat2 - lat1)\n",
    "    dlon = radians(lon2 - lon1)\n",
    "    a = (\n",
    "        sin(dlat / 2) ** 2\n",
    "        + cos(radians(lat1)) * cos(radians(lat2)) * sin(dlon / 2) ** 2\n",
    "    )\n",
    "    c = 2 * atan2(sqrt(a), sqrt(1 - a))\n",
    "    distance = radius * c\n",
    "    return distance"
   ]
  },
  {
   "cell_type": "code",
   "execution_count": 2,
   "id": "c701ac49",
   "metadata": {},
   "outputs": [
    {
     "name": "stdout",
     "output_type": "stream",
     "text": [
      "The distance between the coordinates is: 3935.75 km\n"
     ]
    }
   ],
   "source": [
    "distance = haversine(34.0522, -118.2437, 40.7128, -74.0060)\n",
    "print(f\"The distance between the coordinates is: {distance:.2f} km\")"
   ]
  },
  {
   "cell_type": "code",
   "execution_count": 3,
   "id": "a95fb8e6",
   "metadata": {},
   "outputs": [],
   "source": [
    "def haversine2(coord1, coord2, radius=6371.0):\n",
    "    \"\"\"\n",
    "    Calculate the distance between two coordinates using the Haversine formula.\n",
    "\n",
    "    Parameters:\n",
    "    coord1 (tuple): A tuple containing latitude and longitude of the first coordinate.\n",
    "    coord2 (tuple): A tuple containing latitude and longitude of the second coordinate.\n",
    "\n",
    "    \"\"\"\n",
    "    return haversine(coord1[0], coord1[1], coord2[0], coord2[1], radius)"
   ]
  },
  {
   "cell_type": "code",
   "execution_count": 4,
   "id": "0f98e019",
   "metadata": {},
   "outputs": [
    {
     "name": "stdout",
     "output_type": "stream",
     "text": [
      "The distance between the coordinates is: 3935.75 km\n"
     ]
    }
   ],
   "source": [
    "distance = haversine(34.0522, -118.2437, 40.7128, -74.0060)\n",
    "print(f\"The distance between the coordinates is: {distance:.2f} km\")"
   ]
  },
  {
   "cell_type": "markdown",
   "id": "3",
   "metadata": {},
   "source": [
    "## Exercise 2: Batch Distance Calculation\n",
    "\n",
    "- Create a function `batch_distance_calculation` that accepts a list of coordinate pairs and returns a list of distances between consecutive pairs.\n",
    "- Test the function with a list of coordinates representing several cities."
   ]
  },
  {
   "cell_type": "code",
   "execution_count": 9,
   "id": "4",
   "metadata": {},
   "outputs": [],
   "source": [
    "def batch_calculate_distance(coordinates):\n",
    "    \"\"\"\n",
    "    Calculate distances for a list of coordinate pairs.\n",
    "\n",
    "    Parameters:\n",
    "    coordinates (list): A list of tuples, where each tuple contains two coordinate pairs.\n",
    "\n",
    "    Returns:\n",
    "    list: A list of distances for each pair of coordinates.\n",
    "    \"\"\"\n",
    "    distances = []\n",
    "    for coord1, coord2 in coordinates:\n",
    "        distance = calculate_distance(coord1, coord2)\n",
    "        distances.append(distance)\n",
    "    return distances"
   ]
  },
  {
   "cell_type": "code",
   "execution_count": 14,
   "id": "f967511e",
   "metadata": {},
   "outputs": [],
   "source": [
    "coordinates = [\n",
    "    ((40.28, -89.65), (34.05, -118.25)),\n",
    "    ((41.87, -87.62), (37.77, -122.42)),\n",
    "    ((-34.61, -58.38), (-22.91, -43.21)),\n",
    "]"
   ]
  },
  {
   "cell_type": "code",
   "execution_count": 16,
   "id": "1e52672a",
   "metadata": {},
   "outputs": [
    {
     "name": "stdout",
     "output_type": "stream",
     "text": [
      "Distances between coordinate pairs:\n",
      "Pair 1: 2614.55 km\n",
      "Pair 2: 2986.00 km\n",
      "Pair 3: 1965.13 km\n"
     ]
    }
   ],
   "source": [
    "distance = batch_calculate_distance(coordinates)\n",
    "print(\"Distances between coordinate pairs:\")\n",
    "for i, dist in enumerate(distance):\n",
    "    print(f\"Pair {i+1}: {dist:.2f} km\")"
   ]
  },
  {
   "cell_type": "markdown",
   "id": "3e478f21",
   "metadata": {},
   "source": [
    "## Alternative approaches"
   ]
  },
  {
   "cell_type": "code",
   "execution_count": 5,
   "id": "626a3f91",
   "metadata": {},
   "outputs": [],
   "source": [
    "def batch_haversine(coord_list):\n",
    "    distances = []\n",
    "    for i in range(len(coord_list) - 1):\n",
    "        lat1, lon1 = coord_list[i]\n",
    "        lat2, lon2 = coord_list[i + 1]\n",
    "        distance = haversine(lat1, lon1, lat2, lon2)\n",
    "        distances.append(distance)\n",
    "    return distances"
   ]
  },
  {
   "cell_type": "code",
   "execution_count": 7,
   "id": "4469576d",
   "metadata": {},
   "outputs": [
    {
     "name": "stdout",
     "output_type": "stream",
     "text": [
      "Distances between consecutive coordinates:\n",
      "Distance from (34.0522, -118.2437) to (40.7128, -74.006): 3935.75 km\n",
      "Distance from (40.7128, -74.006) to (37.7749, -122.4194): 4129.09 km\n",
      "Distance from (37.7749, -122.4194) to (34.0522, -119.8): 476.39 km\n"
     ]
    }
   ],
   "source": [
    "coordinates = [\n",
    "    (34.0522, -118.2437),\n",
    "    (40.7128, -74.0060),\n",
    "    (37.7749, -122.4194),\n",
    "    (34.0522, -119.8),\n",
    "]\n",
    "distances = batch_haversine(coordinates)\n",
    "print(\"Distances between consecutive coordinates:\")\n",
    "for i, dist in enumerate(distances):\n",
    "    print(f\"Distance from {coordinates[i]} to {coordinates[i + 1]}: {dist:.2f} km\")"
   ]
  },
  {
   "cell_type": "markdown",
   "id": "5",
   "metadata": {},
   "source": [
    "## Exercise 3: Creating and Using a Point Class\n",
    "\n",
    "- Define a `Point` class to represent a geographic point with attributes `latitude`, `longitude`, and `name`.\n",
    "- Add a method `distance_to` that calculates the distance from one point to another.\n",
    "- Instantiate several `Point` objects and calculate the distance between them."
   ]
  },
  {
   "cell_type": "code",
   "execution_count": 8,
   "id": "6",
   "metadata": {},
   "outputs": [],
   "source": [
    "class Point:\n",
    "    def __init__(self, latitude, longitude, name):\n",
    "        self.latitude = latitude\n",
    "        self.longitude = longitude\n",
    "        self.name = name\n",
    "\n",
    "    def distance_to(self, other):\n",
    "        return haversine(self.latitude, self.longitude, other.latitude, other.longitude)"
   ]
  },
  {
   "cell_type": "code",
   "execution_count": 9,
   "id": "275afdf3",
   "metadata": {},
   "outputs": [
    {
     "name": "stdout",
     "output_type": "stream",
     "text": [
      "The distance from Los Angeles to New York is: 3935.75 km\n"
     ]
    }
   ],
   "source": [
    "point1 = Point(34.0522, -118.2437, \"Los Angeles\")\n",
    "point2 = Point(40.7128, -74.0060, \"New York\")\n",
    "distance = point1.distance_to(point2)\n",
    "print(f\"The distance from {point1.name} to {point2.name} is: {distance:.2f} km\")"
   ]
  },
  {
   "cell_type": "markdown",
   "id": "7",
   "metadata": {},
   "source": [
    "## Exercise 4: Reading and Writing Files\n",
    "\n",
    "- Write a function `read_coordinates` that reads a file containing a list of coordinates (latitude, longitude) and returns them as a list of tuples.\n",
    "- Write another function `write_coordinates` that takes a list of coordinates and writes them to a new file.\n",
    "- Ensure that both functions handle exceptions, such as missing files or improperly formatted data."
   ]
  },
  {
   "cell_type": "code",
   "execution_count": null,
   "id": "8",
   "metadata": {},
   "outputs": [],
   "source": []
  },
  {
   "cell_type": "markdown",
   "id": "9",
   "metadata": {},
   "source": [
    "## Exercise 5: Processing Coordinates from a File\n",
    "\n",
    "- Create a function that reads coordinates from a file and uses the `Point` class to create `Point` objects.\n",
    "- Calculate the distance between each consecutive pair of points and write the results to a new file.\n",
    "- Ensure the function handles file-related exceptions and gracefully handles improperly formatted lines."
   ]
  },
  {
   "cell_type": "code",
   "execution_count": null,
   "id": "10",
   "metadata": {},
   "outputs": [],
   "source": [
    "# Create a sample coordinates.txt file\n",
    "sample_data = \"\"\"35.6895,139.6917\n",
    "34.0522,-118.2437\n",
    "51.5074,-0.1278\n",
    "-33.8688,151.2093\n",
    "48.8566,2.3522\"\"\"\n",
    "\n",
    "output_file = \"coordinates.txt\"\n",
    "\n",
    "try:\n",
    "    with open(output_file, \"w\") as file:\n",
    "        file.write(sample_data)\n",
    "    print(f\"Sample file '{output_file}' has been created successfully.\")\n",
    "except Exception as e:\n",
    "    print(f\"An error occurred while creating the file: {e}\")"
   ]
  },
  {
   "cell_type": "code",
   "execution_count": null,
   "id": "11",
   "metadata": {},
   "outputs": [],
   "source": []
  },
  {
   "cell_type": "markdown",
   "id": "12",
   "metadata": {},
   "source": [
    "## Exercise 6: Exception Handling in Data Processing\n",
    "\n",
    "- Modify the `batch_distance_calculation` function to handle exceptions that might occur during the calculation, such as invalid coordinates.\n",
    "- Ensure the function skips invalid data and continues processing the remaining data."
   ]
  },
  {
   "cell_type": "code",
   "execution_count": null,
   "id": "13",
   "metadata": {},
   "outputs": [],
   "source": []
  }
 ],
 "metadata": {
  "kernelspec": {
   "display_name": "geoai",
   "language": "python",
   "name": "python3"
  },
  "language_info": {
   "codemirror_mode": {
    "name": "ipython",
    "version": 3
   },
   "file_extension": ".py",
   "mimetype": "text/x-python",
   "name": "python",
   "nbconvert_exporter": "python",
   "pygments_lexer": "ipython3",
   "version": "3.13.5"
  }
 },
 "nbformat": 4,
 "nbformat_minor": 5
}
