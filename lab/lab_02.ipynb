{
 "cells": [
  {
   "cell_type": "markdown",
   "id": "0",
   "metadata": {},
   "source": [
    "# Lab 2\n",
    "\n",
    "[![Open In Colab](https://colab.research.google.com/assets/colab-badge.svg)](https://colab.research.google.com/github/giswqs/geog-312/blob/main/book/labs/lab_02.ipynb)\n",
    "\n",
    "This notebook contains exercises based on the lectures on [**String Operations**](https://geog-312.gishub.org/book/python/04_string_operations.html) and [**Looping and Control Statements**](https://geog-312.gishub.org/book/python/05_looping.html). These exercises will help reinforce the concepts of string manipulation, loops, and conditionals in geospatial contexts."
   ]
  },
  {
   "cell_type": "markdown",
   "id": "1",
   "metadata": {},
   "source": [
    "## Exercise 1: Manipulating Geographic Location Strings\n",
    "\n",
    "- Create a string that represents the name of a geographic feature (e.g., `\"Amazon River\"`).\n",
    "- Convert the string to lowercase and then to uppercase.\n",
    "- Concatenate the string with the name of the country (e.g., `\"Brazil\"`) to create a full location name.\n",
    "- Repeat the string three times, separating each repetition with a dash (`-`)."
   ]
  },
  {
   "cell_type": "code",
   "execution_count": 1,
   "id": "2",
   "metadata": {},
   "outputs": [],
   "source": [
    "geographic = \"Amazon River\"\n",
    "upper = geographic.upper()\n",
    "lower = geographic.lower()"
   ]
  },
  {
   "cell_type": "code",
   "execution_count": 2,
   "id": "c7692716",
   "metadata": {},
   "outputs": [],
   "source": [
    "county = \"Brazil\""
   ]
  },
  {
   "cell_type": "code",
   "execution_count": 3,
   "id": "92e712fa",
   "metadata": {},
   "outputs": [
    {
     "name": "stdout",
     "output_type": "stream",
     "text": [
      "Amazon River - Brazil\n"
     ]
    }
   ],
   "source": [
    "full_geographic = geographic + \" - \" + county\n",
    "print(full_geographic)"
   ]
  },
  {
   "cell_type": "code",
   "execution_count": 4,
   "id": "fc2a2c15",
   "metadata": {},
   "outputs": [
    {
     "name": "stdout",
     "output_type": "stream",
     "text": [
      "Amazon River - Brazil- Peru\n"
     ]
    }
   ],
   "source": [
    "country = \" Peru\"\n",
    "full_geographic = full_geographic + \"-\" + country\n",
    "print(full_geographic)"
   ]
  },
  {
   "cell_type": "code",
   "execution_count": 5,
   "id": "c54a281a",
   "metadata": {},
   "outputs": [
    {
     "name": "stdout",
     "output_type": "stream",
     "text": [
      "Amazon River - Brazil- Peru-Colombia\n"
     ]
    }
   ],
   "source": [
    "country = \"Colombia\"\n",
    "full_geographic = full_geographic + \"-\" + country\n",
    "print(full_geographic)"
   ]
  },
  {
   "cell_type": "markdown",
   "id": "3",
   "metadata": {},
   "source": [
    "## Exercise 2: Extracting and Formatting Coordinates\n",
    "\n",
    "- Given a string with the format `\"latitude, longitude\"` (e.g., `\"40.7128N, 74.0060W\"`), extract the numeric values of latitude and longitude.\n",
    "- Convert these values to floats and remove the directional indicators (`N`, `S`, `E`, `W`).\n",
    "- Format the coordinates into a `POINT` WKT string (e.g., `\"POINT(-74.0060 40.7128)\"`)."
   ]
  },
  {
   "cell_type": "code",
   "execution_count": 1,
   "id": "4",
   "metadata": {},
   "outputs": [],
   "source": [
    "latitude = \"40.7128N\"\n",
    "longitude = \"74.0060W\""
   ]
  },
  {
   "cell_type": "code",
   "execution_count": 2,
   "id": "34231897",
   "metadata": {},
   "outputs": [
    {
     "name": "stdout",
     "output_type": "stream",
     "text": [
      "40.7128 74.0060\n"
     ]
    }
   ],
   "source": [
    "# extract numbers from latitude and longitude\n",
    "latitude_number = latitude[:-1]\n",
    "longitude_number = longitude[:-1]\n",
    "print(latitude_number, longitude_number)"
   ]
  },
  {
   "cell_type": "code",
   "execution_count": 23,
   "id": "150990ce",
   "metadata": {},
   "outputs": [
    {
     "name": "stdout",
     "output_type": "stream",
     "text": [
      "40.7128 74.006\n"
     ]
    }
   ],
   "source": [
    "latitude_number = float(latitude_number)\n",
    "longitude_number = float(longitude_number)\n",
    "print(latitude_number, longitude_number)"
   ]
  },
  {
   "cell_type": "code",
   "execution_count": 25,
   "id": "6c3e777e",
   "metadata": {},
   "outputs": [
    {
     "name": "stdout",
     "output_type": "stream",
     "text": [
      "POINT(-74.006 40.7128)\n"
     ]
    }
   ],
   "source": [
    "if latitude[-1] == \"S\":\n",
    "    latitude_number = \"-\" + str(latitude_number)\n",
    "if longitude[-1] == \"W\":\n",
    "    longitude_number = \"-\" + str(longitude_number)\n",
    "point_wkt = \"POINT(\" + str(longitude_number) + \" \" + str(latitude_number) + \")\"\n",
    "print(point_wkt)"
   ]
  },
  {
   "cell_type": "code",
   "execution_count": 29,
   "id": "99d9b81a",
   "metadata": {},
   "outputs": [
    {
     "name": "stdout",
     "output_type": "stream",
     "text": [
      "POINT(-74.006 40.7128)\n"
     ]
    }
   ],
   "source": [
    "coordinates = \"40.7128N, 74.0060W\"\n",
    "latitude, longitude = coordinates.split(\", \")\n",
    "latitude_number = float(latitude[:-1])\n",
    "longitude_number = float(longitude[:-1])\n",
    "if latitude[-1] == \"S\":\n",
    "    latitude_number = latitude_number * -1\n",
    "if longitude[-1] == \"W\":\n",
    "    longitude_number = longitude_number * -1\n",
    "print(f\"POINT({longitude_number} {latitude_number})\")"
   ]
  },
  {
   "cell_type": "markdown",
   "id": "5",
   "metadata": {},
   "source": [
    "## Exercise 3: Building Dynamic SQL Queries\n",
    "\n",
    "- Given a table name and a condition, dynamically build an SQL query string.\n",
    "- Example: If `table_name = \"cities\"` and `condition = \"population > 1000000\"`, the query should be `\"SELECT * FROM cities WHERE population > 1000000;\"`.\n",
    "- Add additional conditions dynamically, like `AND` clauses."
   ]
  },
  {
   "cell_type": "code",
   "execution_count": 6,
   "id": "6",
   "metadata": {},
   "outputs": [
    {
     "name": "stdout",
     "output_type": "stream",
     "text": [
      "SELECT * FROM locations WHERE POPULATION > 10000 AND location_name = 'Mount Everest'\n"
     ]
    }
   ],
   "source": [
    "table_name = \"locations\"\n",
    "condition = \"location_name = 'Mount Everest'\"\n",
    "sql_query = f\"SELECT * FROM {table_name} WHERE POPULATION > 10000 AND {condition}\"\n",
    "print(sql_query)"
   ]
  },
  {
   "cell_type": "markdown",
   "id": "7",
   "metadata": {},
   "source": [
    "## Exercise 4: String Normalization and Cleaning\n",
    "\n",
    "- Given a list of city names with inconsistent formatting (e.g., `[\" new york \", \"Los ANGELES\", \"   CHICAGO\"]`), normalize the names by:\n",
    "  - Stripping any leading or trailing whitespace.\n",
    "  - Converting them to title case (e.g., `\"New York\"`, `\"Los Angeles\"`, `\"Chicago\"`).\n",
    "- Ensure that the output is a clean list of city names."
   ]
  },
  {
   "cell_type": "code",
   "execution_count": 10,
   "id": "8",
   "metadata": {},
   "outputs": [],
   "source": [
    "list = [\" new york \", \"Los ANGELES\", \"CHICAGO\"]"
   ]
  },
  {
   "cell_type": "code",
   "execution_count": 11,
   "id": "c809c321",
   "metadata": {},
   "outputs": [
    {
     "name": "stdout",
     "output_type": "stream",
     "text": [
      "['New York', 'Los Angeles', 'Chicago']\n"
     ]
    }
   ],
   "source": [
    "list = [item.strip().title() for item in list]\n",
    "print(list)"
   ]
  },
  {
   "cell_type": "markdown",
   "id": "9",
   "metadata": {},
   "source": [
    "## Exercise 5: Parsing and Extracting Address Information\n",
    "\n",
    "- Given a string in the format `\"Street, City, Country\"` (e.g., `\"123 Main St, Springfield, USA\"`), write a function that parses the string into a dictionary with keys `street`, `city`, and `country`.\n",
    "- The function should return a dictionary like `{\"street\": \"123 Main St\", \"city\": \"Springfield\", \"country\": \"USA\"}`."
   ]
  },
  {
   "cell_type": "code",
   "execution_count": 12,
   "id": "10",
   "metadata": {},
   "outputs": [],
   "source": [
    "address = \"123 Main St, Springfield, IL, USA\""
   ]
  },
  {
   "cell_type": "code",
   "execution_count": 18,
   "id": "fefbbd81",
   "metadata": {},
   "outputs": [],
   "source": [
    "# Split the address into components test\n",
    "# address_components = address.split(\", \")"
   ]
  },
  {
   "cell_type": "code",
   "execution_count": 16,
   "id": "98fc9016",
   "metadata": {},
   "outputs": [],
   "source": [
    "# functions\n",
    "def format_address(address):\n",
    "    \"\"\"\n",
    "    Format the address string by stripping whitespace and converting to title case.\n",
    "    \"\"\"\n",
    "    return {\n",
    "        \"street\": address.split(\",\")[0].strip().title(),\n",
    "        \"city\": address.split(\",\")[1].strip().title(),\n",
    "        \"state\": address.split(\",\")[2].strip().upper(),\n",
    "        \"country\": address.split(\",\")[3].strip().upper(),\n",
    "    }"
   ]
  },
  {
   "cell_type": "code",
   "execution_count": 17,
   "id": "06d828b5",
   "metadata": {},
   "outputs": [
    {
     "data": {
      "text/plain": [
       "{'street': '123 Main St',\n",
       " 'city': 'Springfield',\n",
       " 'state': 'IL',\n",
       " 'country': 'USA'}"
      ]
     },
     "execution_count": 17,
     "metadata": {},
     "output_type": "execute_result"
    }
   ],
   "source": [
    "format_address(address)"
   ]
  },
  {
   "cell_type": "markdown",
   "id": "11",
   "metadata": {},
   "source": [
    "## Exercise 6: Using For Loops to Process Coordinate Lists\n",
    "\n",
    "- Create a list of tuples representing coordinates (latitude, longitude).\n",
    "- Write a `for` loop that prints each coordinate and indicates whether it is in the Northern or Southern Hemisphere based on the latitude."
   ]
  },
  {
   "cell_type": "code",
   "execution_count": 34,
   "id": "12",
   "metadata": {},
   "outputs": [],
   "source": [
    "coordinates = [\n",
    "    (40.28, -89.65),\n",
    "    (34.05, -118.25),\n",
    "    (41.87, -87.62),\n",
    "    (37.77, -122.42),\n",
    "    (-34.61, -58.38),\n",
    "    (-22.91, -43.21),\n",
    "]"
   ]
  },
  {
   "cell_type": "code",
   "execution_count": 36,
   "id": "d4eb9e3a",
   "metadata": {},
   "outputs": [
    {
     "name": "stdout",
     "output_type": "stream",
     "text": [
      "Northern Hemisphere\n",
      "Northern Hemisphere\n",
      "Northern Hemisphere\n",
      "Northern Hemisphere\n",
      "Southern Hemisphere\n",
      "Southern Hemisphere\n"
     ]
    }
   ],
   "source": [
    "for coord in coordinates:\n",
    "    if coord[0] > 0:\n",
    "        sphere = \"Northern Hemisphere\"\n",
    "    else:\n",
    "        sphere = \"Southern Hemisphere\"\n",
    "    print(sphere)"
   ]
  },
  {
   "cell_type": "markdown",
   "id": "13",
   "metadata": {},
   "source": [
    "## Exercise 7: While Loops for Iterative Processing\n",
    "\n",
    "- Create a list of coordinates (latitude, longitude).\n",
    "- Write a `while` loop that continues to print each coordinate until it encounters a coordinate with a negative latitude.\n",
    "- Stop the loop once this condition is met."
   ]
  },
  {
   "cell_type": "code",
   "execution_count": 2,
   "id": "14",
   "metadata": {},
   "outputs": [],
   "source": [
    "coordinates= [\n",
    "    (40.28, -89.65),\n",
    "    (34.05, -118.25),\n",
    "    (41.87, -87.62),\n",
    "    (37.77, -122.42),\n",
    "    (-34.61, -58.38),\n",
    "    (-22.91, -43.21),\n",
    "]"
   ]
  },
  {
   "cell_type": "code",
   "execution_count": 5,
   "id": "2ec0da26",
   "metadata": {},
   "outputs": [
    {
     "name": "stdout",
     "output_type": "stream",
     "text": [
      "Coordinate 1: (40.28, -89.65) is in the Northern Hemisphere\n",
      "Coordinate 2: (34.05, -118.25) is in the Northern Hemisphere\n",
      "Coordinate 3: (41.87, -87.62) is in the Northern Hemisphere\n",
      "Coordinate 4: (37.77, -122.42) is in the Northern Hemisphere\n"
     ]
    }
   ],
   "source": [
    "counter= 0\n",
    "while counter < len(coordinates):\n",
    "    coord = coordinates[counter]\n",
    "    if coord[0] > 0:\n",
    "        sphere = \"Northern Hemisphere\"\n",
    "    else:\n",
    "        break\n",
    "    print(f\"Coordinate {counter + 1}: {coord} is in the {sphere}\")\n",
    "    counter += 1\n",
    "    "
   ]
  },
  {
   "cell_type": "markdown",
   "id": "15",
   "metadata": {},
   "source": [
    "## Exercise 8: Conditional Logic in Loops\n",
    "\n",
    "- Create a list of coordinates and use a `for` loop to iterate over them.\n",
    "- Use an `if-elif-else` statement inside the loop to classify each coordinate based on its longitude:\n",
    "  - Print `\"Eastern Hemisphere\"` if the longitude is greater than 0.\n",
    "  - Print `\"Western Hemisphere\"` if the longitude is less than 0."
   ]
  },
  {
   "cell_type": "code",
   "execution_count": 8,
   "id": "16",
   "metadata": {},
   "outputs": [],
   "source": [
    "coordinates= [\n",
    "    (40.28, -89.65),\n",
    "    (34.05, -118.25),\n",
    "    (41.87, -87.62),\n",
    "    (37.77, -122.42),\n",
    "    (-34.61, -58.38),\n",
    "    (-22.91, -43.21),\n",
    "    (-15.78, 47.56),\n",
    "    (12.34, -56.78),\n",
    "    (23.45, 67.89),\n",
    "    (50.12, -30.45),\n",
    "    (60.34, 80.56),\n",
    "    (70.78, -90.12),\n",
    "    (0,0),\n",
    "]"
   ]
  },
  {
   "cell_type": "code",
   "execution_count": 10,
   "id": "91473f63",
   "metadata": {},
   "outputs": [
    {
     "name": "stdout",
     "output_type": "stream",
     "text": [
      "Western Hemisphere\n",
      "Western Hemisphere\n",
      "Western Hemisphere\n",
      "Western Hemisphere\n",
      "Western Hemisphere\n",
      "Western Hemisphere\n",
      "Eastern Hemisphere\n",
      "Western Hemisphere\n",
      "Eastern Hemisphere\n",
      "Western Hemisphere\n",
      "Eastern Hemisphere\n",
      "Western Hemisphere\n",
      "On the Prime Meridian\n"
     ]
    }
   ],
   "source": [
    "for coord in coordinates:\n",
    "    lat, lon = coord\n",
    "    if lon > 0:\n",
    "        print(\"Eastern Hemisphere\")\n",
    "    elif lon < 0:\n",
    "        print(\"Western Hemisphere\")\n",
    "    else:\n",
    "        print(\"On the Prime Meridian\")"
   ]
  },
  {
   "cell_type": "code",
   "execution_count": 9,
   "id": "c1f11541",
   "metadata": {},
   "outputs": [
    {
     "name": "stdout",
     "output_type": "stream",
     "text": [
      "Coordinate (40.28, -89.65) is in the Western Hemisphere\n",
      "Coordinate (34.05, -118.25) is in the Western Hemisphere\n",
      "Coordinate (41.87, -87.62) is in the Western Hemisphere\n",
      "Coordinate (37.77, -122.42) is in the Western Hemisphere\n",
      "Coordinate (-34.61, -58.38) is in the Western Hemisphere\n",
      "Coordinate (-22.91, -43.21) is in the Western Hemisphere\n",
      "Coordinate (-15.78, 47.56) is in the Eastern Hemisphere\n",
      "Coordinate (12.34, -56.78) is in the Western Hemisphere\n",
      "Coordinate (23.45, 67.89) is in the Eastern Hemisphere\n",
      "Coordinate (50.12, -30.45) is in the Western Hemisphere\n",
      "Coordinate (60.34, 80.56) is in the Eastern Hemisphere\n",
      "Coordinate (70.78, -90.12) is in the Western Hemisphere\n",
      "Coordinate (0, 0) is in the On the Prime Meridian\n"
     ]
    }
   ],
   "source": [
    "for coord in coordinates:\n",
    "    lat, lon = coord\n",
    "    if lon > 0:\n",
    "        hemisphere = \"Eastern Hemisphere\"\n",
    "    elif lon < 0:\n",
    "        hemisphere = \"Western Hemisphere\"\n",
    "    else:\n",
    "        hemisphere = \"On the Prime Meridian\"\n",
    "    print(f\"Coordinate {coord} is in the {hemisphere}\")"
   ]
  },
  {
   "cell_type": "markdown",
   "id": "17",
   "metadata": {},
   "source": [
    "## Exercise 9: Filtering Data with Combined Loops and Conditionals\n",
    "\n",
    "- Given a list of coordinates, filter out and store only those located in the Southern Hemisphere (latitude < 0).\n",
    "- Count the number of coordinates that meet this condition and print the result."
   ]
  },
  {
   "cell_type": "code",
   "execution_count": 11,
   "id": "18",
   "metadata": {},
   "outputs": [],
   "source": [
    "coordinates = [\n",
    "    (40.28, -89.65),\n",
    "    (34.05, -118.25),\n",
    "    (41.87, -87.62),\n",
    "    (37.77, -122.42),\n",
    "    (-34.61, -58.38),\n",
    "    (-22.91, -43.21),   \n",
    "    (-15.78, 47.56),\n",
    "    (12.34, -56.78),\n",
    "    (23.45, 67.89),\n",
    "    (50.12, -30.45),\n",
    "    (60.34, 80.56),\n",
    "    (70.78, -90.12),\n",
    "    (0,0),\n",
    "]"
   ]
  },
  {
   "cell_type": "code",
   "execution_count": null,
   "id": "4b3f39a4",
   "metadata": {},
   "outputs": [
    {
     "name": "stdout",
     "output_type": "stream",
     "text": [
      "(-34.61, -58.38)\n",
      "(-22.91, -43.21)\n",
      "(-15.78, 47.56)\n",
      "there are 3 coordinates in the Southern Hemisphere\n"
     ]
    }
   ],
   "source": [
    "list=[]\n",
    "for coord in coordinates:\n",
    "    if coord[0] < 0:\n",
    "        list.append(coord)\n",
    "        print(coord)\n",
    "print(f\"there are {len(list)} coordinates in the Southern Hemisphere\")"
   ]
  },
  {
   "cell_type": "markdown",
   "id": "19",
   "metadata": {},
   "source": [
    "## Exercise 10: Generating and Analyzing Random Coordinates\n",
    "\n",
    "- Write a program that generates random coordinates (latitude between [-90, 90] degrees and longitude between [-180, 180] degrees).\n",
    "- Use a `while` loop to keep generating coordinates until a pair with both latitude and longitude greater than 50 is generated.\n",
    "- Print each generated coordinate and the final coordinate that meets the condition."
   ]
  },
  {
   "cell_type": "code",
   "execution_count": 16,
   "id": "20",
   "metadata": {},
   "outputs": [],
   "source": [
    "import random"
   ]
  },
  {
   "cell_type": "code",
   "execution_count": 20,
   "id": "59ea3c4c",
   "metadata": {},
   "outputs": [
    {
     "name": "stdout",
     "output_type": "stream",
     "text": [
      "Generated coordinate: (-63.60,22.48)\n",
      "Generated coordinate: (71.46,-49.66)\n",
      "Generated coordinate: (41.89,14.70)\n",
      "Generated coordinate: (52.05,12.01)\n",
      "Generated coordinate: (-42.73,135.35)\n",
      "Generated coordinate: (-22.52,47.90)\n",
      "Generated coordinate: (-84.91,-133.71)\n",
      "Generated coordinate: (-39.26,-118.96)\n",
      "Generated coordinate: (-84.97,-94.24)\n",
      "Generated coordinate: (76.46,-125.19)\n",
      "Generated coordinate: (-3.31,141.96)\n",
      "Generated coordinate: (67.05,-123.63)\n",
      "Generated coordinate: (77.95,37.82)\n",
      "Generated coordinate: (44.32,-63.70)\n",
      "Generated coordinate: (-79.21,-126.05)\n",
      "Generated coordinate: (-84.38,-150.63)\n",
      "Generated coordinate: (14.36,153.75)\n",
      "Generated coordinate: (-44.16,-58.00)\n",
      "Generated coordinate: (43.07,-174.97)\n",
      "Generated coordinate: (75.99,46.58)\n",
      "Generated coordinate: (-75.61,-54.98)\n",
      "Generated coordinate: (27.22,-109.19)\n",
      "Generated coordinate: (13.56,116.65)\n",
      "Generated coordinate: (0.13,-71.78)\n",
      "Generated coordinate: (-45.06,-78.62)\n",
      "Generated coordinate: (34.48,-1.50)\n",
      "Generated coordinate: (-70.79,-32.59)\n",
      "Generated coordinate: (37.85,-10.63)\n",
      "Generated coordinate: (40.07,48.46)\n",
      "Generated coordinate: (-68.24,-97.06)\n",
      "Generated coordinate: (-53.38,114.87)\n",
      "Generated coordinate: (13.20,91.06)\n",
      "Generated coordinate: (-35.99,-135.21)\n",
      "Generated coordinate: (45.69,70.42)\n",
      "Generated coordinate: (-0.77,149.67)\n",
      "Generated coordinate: (46.43,-133.88)\n",
      "Generated coordinate: (34.14,103.93)\n",
      "Generated coordinate: (-52.87,-147.32)\n",
      "Generated coordinate: (-29.01,110.36)\n",
      "Generated coordinate: (-89.69,-109.65)\n",
      "Generated coordinate: (-34.61,118.40)\n",
      "Generated coordinate: (59.51,9.65)\n",
      "Generated coordinate: (-34.61,7.48)\n",
      "Generated coordinate: (-8.55,-121.67)\n",
      "Generated coordinate: (18.21,-30.85)\n",
      "Generated coordinate: (-82.50,40.06)\n",
      "Generated coordinate: (53.12,26.73)\n",
      "Generated coordinate: (-35.96,-12.61)\n",
      "Generated coordinate: (-69.13,80.34)\n",
      "Generated coordinate: (20.63,57.35)\n",
      "Generated coordinate: (-32.20,47.51)\n",
      "Generated coordinate: (-78.62,52.61)\n",
      "Generated coordinate: (-39.36,100.31)\n",
      "Generated coordinate: (-62.25,-64.41)\n",
      "Generated coordinate: (-66.97,-179.94)\n",
      "Generated coordinate: (-65.22,123.83)\n",
      "Generated coordinate: (36.73,128.27)\n",
      "Generated coordinate: (58.72,-31.30)\n",
      "Generated coordinate: (-17.91,-116.07)\n",
      "Generated coordinate: (-25.36,-93.36)\n",
      "Generated coordinate: (-14.17,-157.32)\n",
      "Generated coordinate: (-1.03,-151.49)\n",
      "Generated coordinate: (-80.21,-106.03)\n",
      "Generated coordinate: (22.15,30.20)\n",
      "Generated coordinate: (84.78,105.02)\n",
      "Found a coordinate in the Northern Hemisphere with both latitude and longitude greater than 50\n"
     ]
    }
   ],
   "source": [
    "#generate random coordinates\n",
    "count=0\n",
    "while True:\n",
    "    lat = random.uniform(-90, 90)\n",
    "    lon = random.uniform(-180, 180)\n",
    "    coord = (lat, lon)\n",
    "    print(f\"Generated coordinate: ({coord[0]:.2f},{coord[1]:.2f})\")\n",
    "    if coord[0] >50 and coord[1] > 50:\n",
    "        print(\"Found a coordinate in the Northern Hemisphere with both latitude and longitude greater than 50\")\n",
    "        break\n"
   ]
  },
  {
   "cell_type": "code",
   "execution_count": null,
   "id": "9be2d83c",
   "metadata": {},
   "outputs": [],
   "source": []
  }
 ],
 "metadata": {
  "kernelspec": {
   "display_name": "geoai",
   "language": "python",
   "name": "python3"
  },
  "language_info": {
   "codemirror_mode": {
    "name": "ipython",
    "version": 3
   },
   "file_extension": ".py",
   "mimetype": "text/x-python",
   "name": "python",
   "nbconvert_exporter": "python",
   "pygments_lexer": "ipython3",
   "version": "3.13.5"
  }
 },
 "nbformat": 4,
 "nbformat_minor": 5
}
