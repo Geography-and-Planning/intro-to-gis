{
 "cells": [
  {
   "cell_type": "markdown",
   "id": "0",
   "metadata": {},
   "source": [
    "# Lab 2\n",
    "\n",
    "[![Open In Colab](https://colab.research.google.com/assets/colab-badge.svg)](https://colab.research.google.com/github/giswqs/geog-312/blob/main/book/labs/lab_02.ipynb)\n",
    "\n",
    "This notebook contains exercises based on the lectures on [**String Operations**](https://geog-312.gishub.org/book/python/04_string_operations.html) and [**Looping and Control Statements**](https://geog-312.gishub.org/book/python/05_looping.html). These exercises will help reinforce the concepts of string manipulation, loops, and conditionals in geospatial contexts."
   ]
  },
  {
   "cell_type": "markdown",
   "id": "1",
   "metadata": {},
   "source": [
    "## Exercise 1: Manipulating Geographic Location Strings\n",
    "\n",
    "- Create a string that represents the name of a geographic feature (e.g., `\"Amazon River\"`).\n",
    "- Convert the string to lowercase and then to uppercase.\n",
    "- Concatenate the string with the name of the country (e.g., `\"Brazil\"`) to create a full location name.\n",
    "- Repeat the string three times, separating each repetition with a dash (`-`)."
   ]
  },
  {
   "cell_type": "code",
   "execution_count": 1,
   "id": "2",
   "metadata": {},
   "outputs": [],
   "source": [
    "geographic = \"Amazon River\"\n",
    "upper = geographic.upper()\n",
    "lower = geographic.lower()"
   ]
  },
  {
   "cell_type": "code",
   "execution_count": 2,
   "id": "c7692716",
   "metadata": {},
   "outputs": [],
   "source": [
    "county = \"Brazil\""
   ]
  },
  {
   "cell_type": "code",
   "execution_count": 3,
   "id": "92e712fa",
   "metadata": {},
   "outputs": [
    {
     "name": "stdout",
     "output_type": "stream",
     "text": [
      "Amazon River - Brazil\n"
     ]
    }
   ],
   "source": [
    "full_geographic = geographic + \" - \" + county\n",
    "print(full_geographic)"
   ]
  },
  {
   "cell_type": "code",
   "execution_count": 4,
   "id": "fc2a2c15",
   "metadata": {},
   "outputs": [
    {
     "name": "stdout",
     "output_type": "stream",
     "text": [
      "Amazon River - Brazil- Peru\n"
     ]
    }
   ],
   "source": [
    "country = \" Peru\"\n",
    "full_geographic = full_geographic + \"-\" + country\n",
    "print(full_geographic)"
   ]
  },
  {
   "cell_type": "code",
   "execution_count": 5,
   "id": "c54a281a",
   "metadata": {},
   "outputs": [
    {
     "name": "stdout",
     "output_type": "stream",
     "text": [
      "Amazon River - Brazil- Peru-Colombia\n"
     ]
    }
   ],
   "source": [
    "country = \"Colombia\"\n",
    "full_geographic = full_geographic + \"-\" + country\n",
    "print(full_geographic)"
   ]
  },
  {
   "cell_type": "markdown",
   "id": "3",
   "metadata": {},
   "source": [
    "## Exercise 2: Extracting and Formatting Coordinates\n",
    "\n",
    "- Given a string with the format `\"latitude, longitude\"` (e.g., `\"40.7128N, 74.0060W\"`), extract the numeric values of latitude and longitude.\n",
    "- Convert these values to floats and remove the directional indicators (`N`, `S`, `E`, `W`).\n",
    "- Format the coordinates into a `POINT` WKT string (e.g., `\"POINT(-74.0060 40.7128)\"`)."
   ]
  },
  {
   "cell_type": "code",
   "execution_count": 1,
   "id": "4",
   "metadata": {},
   "outputs": [],
   "source": [
    "latitude =\"40.7128N\"\n",
    "longitude = \"74.0060W\""
   ]
  },
  {
   "cell_type": "code",
   "execution_count": 2,
   "id": "34231897",
   "metadata": {},
   "outputs": [
    {
     "name": "stdout",
     "output_type": "stream",
     "text": [
      "40.7128 74.0060\n"
     ]
    }
   ],
   "source": [
    "#extract numbers from latitude and longitude\n",
    "latitude_number = latitude[:-1]\n",
    "longitude_number = longitude[:-1]\n",
    "print(latitude_number, longitude_number)"
   ]
  },
  {
   "cell_type": "code",
   "execution_count": 3,
   "id": "150990ce",
   "metadata": {},
   "outputs": [
    {
     "name": "stdout",
     "output_type": "stream",
     "text": [
      "40.7128 74.006\n"
     ]
    }
   ],
   "source": [
    "# Covert to float\n",
    "latitude_number = float(latitude_number)\n",
    "longitude_number = float(longitude_number)\n",
    "print(latitude_number, longitude_number)"
   ]
  },
  {
   "cell_type": "code",
   "execution_count": 5,
   "id": "6c3e777e",
   "metadata": {},
   "outputs": [
    {
     "name": "stdout",
     "output_type": "stream",
     "text": [
      "POINT(-74.006 40.7128)\n"
     ]
    }
   ],
   "source": [
    "# format the coordinates into point WKT string\n",
    "point_wkt = \"POINT(\" + \"-\" + str(longitude_number) + \" \" + str(latitude_number) + \")\"\n",
    "print(point_wkt)"
   ]
  },
  {
   "cell_type": "markdown",
   "id": "5",
   "metadata": {},
   "source": [
    "## Exercise 3: Building Dynamic SQL Queries\n",
    "\n",
    "- Given a table name and a condition, dynamically build an SQL query string.\n",
    "- Example: If `table_name = \"cities\"` and `condition = \"population > 1000000\"`, the query should be `\"SELECT * FROM cities WHERE population > 1000000;\"`.\n",
    "- Add additional conditions dynamically, like `AND` clauses."
   ]
  },
  {
   "cell_type": "code",
   "execution_count": 6,
   "id": "6",
   "metadata": {},
   "outputs": [
    {
     "name": "stdout",
     "output_type": "stream",
     "text": [
      "SELECT * FROM locations WHERE POPULATION > 10000 AND location_name = 'Mount Everest'\n"
     ]
    }
   ],
   "source": [
    "table_name = \"locations\"\n",
    "condition = \"location_name = 'Mount Everest'\"\n",
    "sql_query= f\"SELECT * FROM {table_name} WHERE POPULATION > 10000 AND {condition}\"\n",
    "print(sql_query)"
   ]
  },
  {
   "cell_type": "markdown",
   "id": "7",
   "metadata": {},
   "source": [
    "## Exercise 4: String Normalization and Cleaning\n",
    "\n",
    "- Given a list of city names with inconsistent formatting (e.g., `[\" new york \", \"Los ANGELES\", \"   CHICAGO\"]`), normalize the names by:\n",
    "  - Stripping any leading or trailing whitespace.\n",
    "  - Converting them to title case (e.g., `\"New York\"`, `\"Los Angeles\"`, `\"Chicago\"`).\n",
    "- Ensure that the output is a clean list of city names."
   ]
  },
  {
   "cell_type": "code",
   "execution_count": 10,
   "id": "8",
   "metadata": {},
   "outputs": [],
   "source": [
    "list= [\" new york \", \"Los ANGELES\", \"CHICAGO\"]"
   ]
  },
  {
   "cell_type": "code",
   "execution_count": 11,
   "id": "c809c321",
   "metadata": {},
   "outputs": [
    {
     "name": "stdout",
     "output_type": "stream",
     "text": [
      "['New York', 'Los Angeles', 'Chicago']\n"
     ]
    }
   ],
   "source": [
    "list = [item.strip().title() for item in list]\n",
    "print(list)"
   ]
  },
  {
   "cell_type": "markdown",
   "id": "9",
   "metadata": {},
   "source": [
    "## Exercise 5: Parsing and Extracting Address Information\n",
    "\n",
    "- Given a string in the format `\"Street, City, Country\"` (e.g., `\"123 Main St, Springfield, USA\"`), write a function that parses the string into a dictionary with keys `street`, `city`, and `country`.\n",
    "- The function should return a dictionary like `{\"street\": \"123 Main St\", \"city\": \"Springfield\", \"country\": \"USA\"}`."
   ]
  },
  {
   "cell_type": "code",
   "execution_count": 12,
   "id": "10",
   "metadata": {},
   "outputs": [],
   "source": [
    "address= \"123 Main St, Springfield, IL, USA\""
   ]
  },
  {
   "cell_type": "code",
   "execution_count": 18,
   "id": "fefbbd81",
   "metadata": {},
   "outputs": [],
   "source": [
    "# Split the address into components test\n",
    "#address_components = address.split(\", \")"
   ]
  },
  {
   "cell_type": "code",
   "execution_count": 16,
   "id": "98fc9016",
   "metadata": {},
   "outputs": [],
   "source": [
    "# functions\n",
    "def format_address(address):\n",
    "    \"\"\"\n",
    "    Format the address string by stripping whitespace and converting to title case.\n",
    "    \"\"\"\n",
    "    return {\n",
    "        \"street\": address.split(\",\")[0].strip().title(),\n",
    "        \"city\": address.split(\",\")[1].strip().title(),\n",
    "        \"state\": address.split(\",\")[2].strip().upper(),\n",
    "        \"country\": address.split(\",\")[3].strip().upper(),\n",
    "    }"
   ]
  },
  {
   "cell_type": "code",
   "execution_count": 17,
   "id": "06d828b5",
   "metadata": {},
   "outputs": [
    {
     "data": {
      "text/plain": [
       "{'street': '123 Main St',\n",
       " 'city': 'Springfield',\n",
       " 'state': 'IL',\n",
       " 'country': 'USA'}"
      ]
     },
     "execution_count": 17,
     "metadata": {},
     "output_type": "execute_result"
    }
   ],
   "source": [
    "format_address(address)"
   ]
  },
  {
   "cell_type": "markdown",
   "id": "11",
   "metadata": {},
   "source": [
    "## Exercise 6: Using For Loops to Process Coordinate Lists\n",
    "\n",
    "- Create a list of tuples representing coordinates (latitude, longitude).\n",
    "- Write a `for` loop that prints each coordinate and indicates whether it is in the Northern or Southern Hemisphere based on the latitude."
   ]
  },
  {
   "cell_type": "code",
   "execution_count": 19,
   "id": "12",
   "metadata": {},
   "outputs": [],
   "source": [
    "coordinates =[(40.28,-89.65), \n",
    "              (34.05,-118.25), \n",
    "              (41.87,-87.62), \n",
    "              (37.77,-122.42),\n",
    "              (-34.61,-58.38), \n",
    "              (-22.91,-43.21)]"
   ]
  },
  {
   "cell_type": "code",
   "execution_count": 21,
   "id": "d4eb9e3a",
   "metadata": {},
   "outputs": [
    {
     "name": "stdout",
     "output_type": "stream",
     "text": [
      "Northern Hemisphere\n",
      "Northern Hemisphere\n",
      "Northern Hemisphere\n",
      "Northern Hemisphere\n",
      "Southern Hemisphere\n",
      "Southern Hemisphere\n"
     ]
    }
   ],
   "source": [
    "for coord in coordinates:\n",
    "    if coord[0] > 0:\n",
    "        sphere = \"Northern Hemisphere\"\n",
    "    else:\n",
    "        sphere = \"Southern Hemisphere\"\n",
    "    print(sphere)"
   ]
  },
  {
   "cell_type": "markdown",
   "id": "13",
   "metadata": {},
   "source": [
    "## Exercise 7: While Loops for Iterative Processing\n",
    "\n",
    "- Create a list of coordinates (latitude, longitude).\n",
    "- Write a `while` loop that continues to print each coordinate until it encounters a coordinate with a negative latitude.\n",
    "- Stop the loop once this condition is met."
   ]
  },
  {
   "cell_type": "code",
   "execution_count": null,
   "id": "14",
   "metadata": {},
   "outputs": [],
   "source": []
  },
  {
   "cell_type": "markdown",
   "id": "15",
   "metadata": {},
   "source": [
    "## Exercise 8: Conditional Logic in Loops\n",
    "\n",
    "- Create a list of coordinates and use a `for` loop to iterate over them.\n",
    "- Use an `if-elif-else` statement inside the loop to classify each coordinate based on its longitude:\n",
    "  - Print `\"Eastern Hemisphere\"` if the longitude is greater than 0.\n",
    "  - Print `\"Western Hemisphere\"` if the longitude is less than 0."
   ]
  },
  {
   "cell_type": "code",
   "execution_count": null,
   "id": "16",
   "metadata": {},
   "outputs": [],
   "source": []
  },
  {
   "cell_type": "markdown",
   "id": "17",
   "metadata": {},
   "source": [
    "## Exercise 9: Filtering Data with Combined Loops and Conditionals\n",
    "\n",
    "- Given a list of coordinates, filter out and store only those located in the Southern Hemisphere (latitude < 0).\n",
    "- Count the number of coordinates that meet this condition and print the result."
   ]
  },
  {
   "cell_type": "code",
   "execution_count": null,
   "id": "18",
   "metadata": {},
   "outputs": [],
   "source": []
  },
  {
   "cell_type": "markdown",
   "id": "19",
   "metadata": {},
   "source": [
    "## Exercise 10: Generating and Analyzing Random Coordinates\n",
    "\n",
    "- Write a program that generates random coordinates (latitude between [-90, 90] degrees and longitude between [-180, 180] degrees).\n",
    "- Use a `while` loop to keep generating coordinates until a pair with both latitude and longitude greater than 50 is generated.\n",
    "- Print each generated coordinate and the final coordinate that meets the condition."
   ]
  },
  {
   "cell_type": "code",
   "execution_count": null,
   "id": "20",
   "metadata": {},
   "outputs": [],
   "source": []
  }
 ],
 "metadata": {
  "kernelspec": {
   "display_name": "geoai",
   "language": "python",
   "name": "python3"
  },
  "language_info": {
   "codemirror_mode": {
    "name": "ipython",
    "version": 3
   },
   "file_extension": ".py",
   "mimetype": "text/x-python",
   "name": "python",
   "nbconvert_exporter": "python",
   "pygments_lexer": "ipython3",
   "version": "3.13.5"
  }
 },
 "nbformat": 4,
 "nbformat_minor": 5
}
